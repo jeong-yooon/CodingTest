{
 "cells": [
  {
   "cell_type": "markdown",
   "id": "32ec7681",
   "metadata": {},
   "source": [
    "## 문제\n",
    "수빈이는 동생과 숨바꼭질을 하고 있다. 수빈이는 현재 점 N(0 ≤ N ≤ 100,000)에 있고, 동생은 점 K(0 ≤ K ≤ 100,000)에 있다. 수빈이는 걷거나 순간이동을 할 수 있다. 만약, 수빈이의 위치가 X일 때 걷는다면 1초 후에 X-1 또는 X+1로 이동하게 된다. 순간이동을 하는 경우에는 1초 후에 2*X의 위치로 이동하게 된다.\n",
    "\n",
    "수빈이와 동생의 위치가 주어졌을 때, 수빈이가 동생을 찾을 수 있는 가장 빠른 시간이 몇 초 후인지 구하는 프로그램을 작성하시오."
   ]
  },
  {
   "cell_type": "markdown",
   "id": "d7598efb",
   "metadata": {},
   "source": [
    "### 입력\n",
    "첫 번째 줄에 수빈이가 있는 위치 N과 동생이 있는 위치 K가 주어진다. N과 K는 정수이다.\n",
    "\n",
    "### 출력\n",
    "수빈이가 동생을 찾는 가장 빠른 시간을 출력한다."
   ]
  },
  {
   "cell_type": "markdown",
   "id": "f8a0e6c7",
   "metadata": {},
   "source": [
    "### 예제 입력 1 \n",
    "5 17\n",
    "\n",
    "### 예제 출력 1 \n",
    "4\n",
    "\n",
    "### 힌트\n",
    "수빈이가 5-10-9-18-17 순으로 가면 4초만에 동생을 찾을 수 있다."
   ]
  },
  {
   "cell_type": "markdown",
   "id": "2e962bdc",
   "metadata": {},
   "source": [
    "#### 풀이\n",
    "- 그래프 이론\n",
    "- 그래프 탐색\n",
    "- 너비 우선 탐색\n",
    "\n",
    "<수빈> - N\n",
    "1. 걷기 => X - 1, X + 1\n",
    "2. 순간이동 => 2X\n",
    "\n",
    "<동생> - K\n",
    "\n",
    "[풀이방법]\n",
    "- 1초가 지날 때 마다 X - 1, X + 1, 2X 셋 중에 하나의 연산이 가능하다.\n",
    "- 세가지 경우의 수를 큐에 집어넣고 BFS 탐색을 진행해보자.\n",
    "- 이미 방문했던 위치는 큐에 넣으면 안되므로 visit을 판별하는 코드를 작성해야 한다.\n",
    "- 덱(큐와 스택을 합쳐서 양쪽 끝에서 삽입과 삭제가 모두 가능한 자료구조)을 이용하자.\n"
   ]
  },
  {
   "cell_type": "code",
   "execution_count": 2,
   "id": "2b577d38",
   "metadata": {},
   "outputs": [
    {
     "name": "stdout",
     "output_type": "stream",
     "text": [
      "5 17\n",
      "4\n"
     ]
    }
   ],
   "source": [
    "# import sys\n",
    "from collections import deque\n",
    "# input = sys.stdin.readline\n",
    "\n",
    "def bfs(v):\n",
    "    q = deque([v]) #큐 구현을 위해 deque 사용\n",
    "    while q:\n",
    "        v = q.popleft() # 큐에서 나온 결과 값을 차례로 변수에 담아준다.\n",
    "        if v == k: # k 지점에 도착하면 방문횟수를 반환해준다.\n",
    "            return visited[v]\n",
    "        for i in (v-1, v+1, 2*v): # 세가지 경우의 수를 탐색한다.\n",
    "            if 0 <= i <= 100000 and not visited[i]: # 탐색 값이 중복값이 아닐때\n",
    "                visited[i] = visited[v] + 1 # 해당 경우를 탐색 횟수에 포함한다.\n",
    "                q.append(i)\n",
    "\n",
    "n, k = map(int, input().split())\n",
    "visited = [0 for i in range(100001)]\n",
    "print(bfs(n))"
   ]
  },
  {
   "cell_type": "code",
   "execution_count": null,
   "id": "c2b1dcff",
   "metadata": {},
   "outputs": [],
   "source": []
  }
 ],
 "metadata": {
  "kernelspec": {
   "display_name": "Python 3 (ipykernel)",
   "language": "python",
   "name": "python3"
  },
  "language_info": {
   "codemirror_mode": {
    "name": "ipython",
    "version": 3
   },
   "file_extension": ".py",
   "mimetype": "text/x-python",
   "name": "python",
   "nbconvert_exporter": "python",
   "pygments_lexer": "ipython3",
   "version": "3.9.13"
  }
 },
 "nbformat": 4,
 "nbformat_minor": 5
}

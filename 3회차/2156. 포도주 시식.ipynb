{
 "cells": [
  {
   "cell_type": "markdown",
   "id": "b56ff3d0",
   "metadata": {},
   "source": [
    "## 문제\n",
    "효주는 포도주 시식회에 갔다. 그 곳에 갔더니, 테이블 위에 다양한 포도주가 들어있는 포도주 잔이 일렬로 놓여 있었다. 효주는 포도주 시식을 하려고 하는데, 여기에는 다음과 같은 두 가지 규칙이 있다.\n",
    "\n",
    "포도주 잔을 선택하면 그 잔에 들어있는 포도주는 모두 마셔야 하고, 마신 후에는 원래 위치에 다시 놓아야 한다.\n",
    "연속으로 놓여 있는 3잔을 모두 마실 수는 없다.\n",
    "효주는 될 수 있는 대로 많은 양의 포도주를 맛보기 위해서 어떤 포도주 잔을 선택해야 할지 고민하고 있다. 1부터 n까지의 번호가 붙어 있는 n개의 포도주 잔이 순서대로 테이블 위에 놓여 있고, 각 포도주 잔에 들어있는 포도주의 양이 주어졌을 때, 효주를 도와 가장 많은 양의 포도주를 마실 수 있도록 하는 프로그램을 작성하시오. \n",
    "\n",
    "예를 들어 6개의 포도주 잔이 있고, 각각의 잔에 순서대로 6, 10, 13, 9, 8, 1 만큼의 포도주가 들어 있을 때, 첫 번째, 두 번째, 네 번째, 다섯 번째 포도주 잔을 선택하면 총 포도주 양이 33으로 최대로 마실 수 있다.\n",
    "\n",
    "### 입력\n",
    "첫째 줄에 포도주 잔의 개수 n이 주어진다. (1 ≤ n ≤ 10,000) 둘째 줄부터 n+1번째 줄까지 포도주 잔에 들어있는 포도주의 양이 순서대로 주어진다. 포도주의 양은 1,000 이하의 음이 아닌 정수이다.\n",
    "\n",
    "### 출력\n",
    "첫째 줄에 최대로 마실 수 있는 포도주의 양을 출력한다.\n",
    "\n",
    "### 예제 입력 1 \n",
    "6\n",
    "6\n",
    "10\n",
    "13\n",
    "9\n",
    "8\n",
    "1\n",
    "\n",
    "### 예제 출력 1 \n",
    "33"
   ]
  },
  {
   "cell_type": "markdown",
   "id": "e4551d9e",
   "metadata": {},
   "source": [
    "#### 풀이\n",
    "- 다이나믹 프로그래밍\n",
    "\n",
    "[현재 포도주를 마실지 말지 정하는 경우의 수]\n",
    "1. 현재 포도주와 이전 포도주를 마시고 전전 포두주는 마시지 않는다.\n",
    "2. 현재 포도주와 전전 포도주를 마시고 이전 포도주는 마시지 않는다.\n",
    "3. 현재 포도주를 마시지 않는다."
   ]
  },
  {
   "cell_type": "code",
   "execution_count": 1,
   "id": "8fd82abc",
   "metadata": {},
   "outputs": [
    {
     "name": "stdout",
     "output_type": "stream",
     "text": [
      "6\n",
      "6\n",
      "10\n",
      "13\n",
      "9\n",
      "8\n",
      "1\n",
      "33\n"
     ]
    }
   ],
   "source": [
    "# import sys\n",
    "# input = sys.stdin.readline\n",
    "n = int(input())\n",
    "wine = []\n",
    "for i in range(n):\n",
    "    wine.append(int(input()))\n",
    "\n",
    "d = [0]*n \n",
    "d[0] = wine[0] # 현재와인 위치까지의 최댓값 저장\n",
    "\n",
    "if n > 1: # 와인이 총 3잔 이하일때\n",
    "    d[1] = wine[0]+wine[1]\n",
    "if n > 2: # 와인이 총 3잔 이상일때\n",
    "    d[2] = max(wine[2]+wine[1], wine[2]+wine[0], d[1])\n",
    "for i in range(3, n): # 3가지 경우의 수 중 가장 큰 값을 저장\n",
    "    d[i] = max(d[i-1], d[i-3]+wine[i-1]+wine[i], d[i-2]+wine[i])\n",
    "\n",
    "print(d[n-1])"
   ]
  },
  {
   "cell_type": "code",
   "execution_count": null,
   "id": "e6864c68",
   "metadata": {},
   "outputs": [],
   "source": []
  }
 ],
 "metadata": {
  "kernelspec": {
   "display_name": "Python 3 (ipykernel)",
   "language": "python",
   "name": "python3"
  },
  "language_info": {
   "codemirror_mode": {
    "name": "ipython",
    "version": 3
   },
   "file_extension": ".py",
   "mimetype": "text/x-python",
   "name": "python",
   "nbconvert_exporter": "python",
   "pygments_lexer": "ipython3",
   "version": "3.9.13"
  }
 },
 "nbformat": 4,
 "nbformat_minor": 5
}

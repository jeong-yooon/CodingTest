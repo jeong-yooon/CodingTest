{
 "cells": [
  {
   "cell_type": "markdown",
   "id": "3b68d272",
   "metadata": {},
   "source": [
    "## 문제\n",
    "동물원에서 막 탈출한 원숭이 한 마리가 세상구경을 하고 있다. 그러다 오늘도 어김없이 그의 영원한 라이벌 멍멍이를 만나게 되었다. 원숭이는 멍멍이를 쓰다듬고 싶었다. 하지만 원숭이는 멍멍이보다 키가 작기 때문에 멍멍이를 쓰다듬어줄 수 없다. 원숭이가 멍멍이를 쓰다듬으려면 둘의 키가 같아야 하기 때문이다.\n",
    "\n",
    "그래서 원숭이는 그 날부터 자신의 키를 조절하기로 마음먹었다. 원숭이는 초능력자이기 때문에 마음대로 키를 늘릴 수 있다. 하지만 안타깝게도 사람이 아니라 동물이기 때문에 하루에 늘릴 수 있는 키의 양을 1cm밖에 조절할 수 없다. 예를 들어 오늘 키를 5cm 만큼 늘렸다면, 내일은 키를 4cm, 5cm, 6cm 중 하나만큼 키를 늘릴 수 있다는 뜻이다. 늘릴 수 있는 키의 양은 음수가 될 수 없다. 그리고 첫째 날과 마지막 날에는 무조건 1cm 만큼 늘릴 수 있다.\n",
    "\n",
    "현재 원숭이와 멍멍이의 키가 주어졌을 때, 원숭이가 매일 키를 늘려서 멍멍이와 키가 같아지는 최소의 일수를 구하는 프로그램을 작성하시오.\n",
    "\n",
    "### 입력\n",
    "첫째 줄에 원숭이의 키 X와 멍멍이의 키 Y가 주어진다. X, Y는 0 ≤ X ≤ Y < 231을 만족하는 정수이다.\n",
    "\n",
    "### 출력\n",
    "첫째 줄에 원숭이가 멍멍이의 키와 같아지게 되는 최소의 일수를 출력한다.\n",
    "\n",
    "### 예제 입력 1 \n",
    "45 49\n",
    "\n",
    "### 예제 출력 1 \n",
    "3\n",
    "\n",
    "### 예제 입력 2 \n",
    "45 50\n",
    "\n",
    "### 예제 출력 2 \n",
    "4"
   ]
  },
  {
   "cell_type": "markdown",
   "id": "f62d788e",
   "metadata": {},
   "source": [
    "#### 알고리즘 분류\n",
    "- 수학\n",
    "- 늘릴 수 있는 키의 범위: -1, 0, +1\n",
    "- 키가 같아지는 최소일수\n",
    "- 처음과 끝은 무조건 +1 -> 대칭\n",
    "- 계단식 모양의 조건: 제곱수 -> 최소 일 수: 2 x N - 1\n",
    "\n",
    "[예시]\n",
    "- 1 1 1\n",
    "- 1 2 1\n",
    "- 1 2 1 1\n",
    "- 1 2 2 1\n",
    "- 1 2 2 1 1 \n",
    "- 1 2 2 2 1\n",
    "- 1 2 3 2 1\n",
    "- 1 2 3 2 1 1"
   ]
  },
  {
   "cell_type": "code",
   "execution_count": 1,
   "id": "b82610f7",
   "metadata": {},
   "outputs": [
    {
     "name": "stdout",
     "output_type": "stream",
     "text": [
      "45 50\n",
      "4\n"
     ]
    }
   ],
   "source": [
    "X, Y = map(int, input().split())\n",
    "if X == Y: # 키가 같을 때 0 출력\n",
    "    print(0)\n",
    "else:\n",
    "    n = int((Y - X) ** 0.5)\n",
    "    if n ** 2 == Y - X: # n 이 제곱수일 때\n",
    "        print(2 * n - 1)\n",
    "    else: # n 이 제곱수가 아닐때\n",
    "        z = (Y - X) - n ** 2 # 원숭이와 강아지 키 차이에서 제곱수 만큼 뺀값\n",
    "        if z <= n: # 남는 수가 키차이보다 작다면\n",
    "            print(2 * n)\n",
    "        else: # 남는 수가 키차이보다 크다면\n",
    "            print(2 * n + 1)"
   ]
  },
  {
   "cell_type": "code",
   "execution_count": null,
   "id": "b0240016",
   "metadata": {},
   "outputs": [],
   "source": []
  }
 ],
 "metadata": {
  "kernelspec": {
   "display_name": "Python 3 (ipykernel)",
   "language": "python",
   "name": "python3"
  },
  "language_info": {
   "codemirror_mode": {
    "name": "ipython",
    "version": 3
   },
   "file_extension": ".py",
   "mimetype": "text/x-python",
   "name": "python",
   "nbconvert_exporter": "python",
   "pygments_lexer": "ipython3",
   "version": "3.9.12"
  }
 },
 "nbformat": 4,
 "nbformat_minor": 5
}

{
 "cells": [
  {
   "cell_type": "markdown",
   "id": "2990282c",
   "metadata": {},
   "source": [
    "## 문제\n",
    "월드초등학교 학생회장 후보는 일정 기간 동안 전체 학생의 추천에 의하여 정해진 수만큼 선정된다. 그래서 학교 홈페이지에 추천받은 학생의 사진을 게시할 수 있는 사진틀을 후보의 수만큼 만들었다. 추천받은 학생의 사진을 사진틀에 게시하고 추천받은 횟수를 표시하는 규칙은 다음과 같다.\n",
    "\n",
    "학생들이 추천을 시작하기 전에 모든 사진틀은 비어있다.\n",
    "어떤 학생이 특정 학생을 추천하면, 추천받은 학생의 사진이 반드시 사진틀에 게시되어야 한다.\n",
    "비어있는 사진틀이 없는 경우에는 현재까지 추천 받은 횟수가 가장 적은 학생의 사진을 삭제하고, 그 자리에 새롭게 추천받은 학생의 사진을 게시한다. 이때, 현재까지 추천 받은 횟수가 가장 적은 학생이 두 명 이상일 경우에는 그러한 학생들 중 게시된 지 가장 오래된 사진을 삭제한다.\n",
    "현재 사진이 게시된 학생이 다른 학생의 추천을 받은 경우에는 추천받은 횟수만 증가시킨다.\n",
    "사진틀에 게시된 사진이 삭제되는 경우에는 해당 학생이 추천받은 횟수는 0으로 바뀐다.\n",
    "후보의 수 즉, 사진틀의 개수와 전체 학생의 추천 결과가 추천받은 순서대로 주어졌을 때, 최종 후보가 누구인지 결정하는 프로그램을 작성하시오.\n",
    "\n",
    "### 입력\n",
    "첫째 줄에는 사진틀의 개수 N이 주어진다. (1 ≤ N ≤ 20) 둘째 줄에는 전체 학생의 총 추천 횟수가 주어지고, 셋째 줄에는 추천받은 학생을 나타내는 번호가 빈 칸을 사이에 두고 추천받은 순서대로 주어진다. 총 추천 횟수는 1,000번 이하이며 학생을 나타내는 번호는 1부터 100까지의 자연수이다.\n",
    "\n",
    "### 출력\n",
    "사진틀에 사진이 게재된 최종 후보의 학생 번호를 증가하는 순서대로 출력한다.\n",
    "\n",
    "### 예제 입력 1 \n",
    "3\\\n",
    "9\\\n",
    "2 1 4 3 5 6 2 7 2\n",
    "\n",
    "### 예제 출력 1 \n",
    "2 6 7"
   ]
  },
  {
   "cell_type": "markdown",
   "id": "ce81923c",
   "metadata": {},
   "source": [
    "#### 알고리즘 분류\n",
    "- 구현\n",
    "- 시뮬레이션\n",
    "\n",
    "#### 풀이\n",
    "- 3개 이상일 때\n",
    "- 순서체크 -> 큐 사용 (선입선출)\n",
    "- 인덱싱체크\n",
    "\n",
    "[예시]\n",
    "- 214\n",
    "- 314\n",
    "- 354\n",
    "- 356\n",
    "- 256\n",
    "- 276"
   ]
  },
  {
   "cell_type": "code",
   "execution_count": 8,
   "id": "6ae88faf",
   "metadata": {},
   "outputs": [
    {
     "name": "stdout",
     "output_type": "stream",
     "text": [
      "3\n",
      "9\n",
      "2 1 4 3 5 6 2 7 2\n",
      "2 6 7\n"
     ]
    }
   ],
   "source": [
    "N = int(input())\n",
    "M = int(input())\n",
    "student = list(map(int, input().split()))\n",
    "\n",
    "photo = dict()\n",
    "\n",
    "for i in range(M):\n",
    "    if student[i] in photo: # 딕셔너리에 이미 사진이 있을 때\n",
    "        photo[student[i]][0] += 1 # 해당 후보의 추천수에 1을 카운팅 해준다.\n",
    "    else: # 딕셔너리에 사진이 없을 때\n",
    "        if len(photo) < N: # 딕셔너리에 N개 사진이 다 차있지 않으면\n",
    "            photo[student[i]] = [1, i] # [추천수, 들어온 순서]\n",
    "        else:\n",
    "            # 추천수대로 오름차순 정렬하고, 들어온 순서대로 오름차순 정렬한다.\n",
    "            del_list = sorted(photo.items(), key= lambda x : (x[1][0], x[1][1]))\n",
    "            del_key = del_list[0][0] # 가장 작은 값 삭제\n",
    "            del(photo[del_key])\n",
    "            photo[student[i]] = [1, i] # 새 값 할당\n",
    "\n",
    "ans_list = list(sorted(photo.keys())) # key 값 기준으로 오름차순 정렬\n",
    "answer = str(ans_list[0]) # 키값만 변환하여 저장\n",
    "for i in ans_list[1: ] :\n",
    "    answer += \" \" + str(i)\n",
    "print(answer)"
   ]
  },
  {
   "cell_type": "code",
   "execution_count": null,
   "id": "fdc3b983",
   "metadata": {},
   "outputs": [],
   "source": []
  }
 ],
 "metadata": {
  "kernelspec": {
   "display_name": "Python 3 (ipykernel)",
   "language": "python",
   "name": "python3"
  },
  "language_info": {
   "codemirror_mode": {
    "name": "ipython",
    "version": 3
   },
   "file_extension": ".py",
   "mimetype": "text/x-python",
   "name": "python",
   "nbconvert_exporter": "python",
   "pygments_lexer": "ipython3",
   "version": "3.10.11"
  }
 },
 "nbformat": 4,
 "nbformat_minor": 5
}

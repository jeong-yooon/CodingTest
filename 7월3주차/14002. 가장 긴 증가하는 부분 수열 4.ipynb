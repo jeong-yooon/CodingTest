{
 "cells": [
  {
   "cell_type": "markdown",
   "id": "bf4bf316",
   "metadata": {},
   "source": [
    "## 문제\n",
    "수열 A가 주어졌을 때, 가장 긴 증가하는 부분 수열을 구하는 프로그램을 작성하시오.\n",
    "\n",
    "예를 들어, 수열 A = {10, 20, 10, 30, 20, 50} 인 경우에 가장 긴 증가하는 부분 수열은 A = {10, 20, 10, 30, 20, 50} 이고, 길이는 4이다.\n",
    "\n",
    "### 입력\n",
    "첫째 줄에 수열 A의 크기 N (1 ≤ N ≤ 1,000)이 주어진다.\n",
    "\n",
    "둘째 줄에는 수열 A를 이루고 있는 Ai가 주어진다. (1 ≤ Ai ≤ 1,000)\n",
    "\n",
    "### 출력\n",
    "첫째 줄에 수열 A의 가장 긴 증가하는 부분 수열의 길이를 출력한다.\n",
    "\n",
    "둘째 줄에는 가장 긴 증가하는 부분 수열을 출력한다. 그러한 수열이 여러가지인 경우 아무거나 출력한다.\n",
    "\n",
    "### 예제 입력 1 \n",
    "6\\\n",
    "10 20 10 30 20 50\n",
    "\n",
    "### 예제 출력 1 \n",
    "4\\\n",
    "10 20 30 50"
   ]
  },
  {
   "cell_type": "markdown",
   "id": "0c33688d",
   "metadata": {},
   "source": [
    "#### 알고리즘 분류\n",
    "- 다이나믹 프로그래밍"
   ]
  },
  {
   "cell_type": "code",
   "execution_count": 1,
   "id": "abdd60f9",
   "metadata": {},
   "outputs": [
    {
     "name": "stdout",
     "output_type": "stream",
     "text": [
      "6\n",
      "10 20 10 30 20 50\n",
      "4\n",
      "10 20 30 50 "
     ]
    }
   ],
   "source": [
    "N = int(input())\n",
    "num = list(map(int, input().split()))\n",
    "\n",
    "dp = [1]*N\n",
    "\n",
    "for i in range(1, N): # 리스트 만큼 순환\n",
    "    for j in range(i): # 키값과 비교할 값 j\n",
    "        if num[i]>num[j]: # 선행값이 후행값보다 클 때\n",
    "            dp[i] = max(dp[i], dp[j]+1) # 조건이 만족하면 dp에 1씩 카운팅한다.\n",
    "print(max(dp)) # 가장 긴 부분수열의 길이 출력\n",
    "\n",
    "order = max(dp)\n",
    "arr = []\n",
    "for i in range(N-1, -1, -1): # 리스트를 반대로 순환\n",
    "    if dp[i]==order: # 해당 부분수열일 때\n",
    "        arr.append(num[i]) # arr에 값 저장\n",
    "        order-=1 # order 값을 하나씩 줄여 순차 탐색\n",
    "        \n",
    "arr.reverse()\n",
    "for i in arr:\n",
    "    print(i, end=' ')"
   ]
  },
  {
   "cell_type": "code",
   "execution_count": null,
   "id": "0189f6ce",
   "metadata": {},
   "outputs": [],
   "source": []
  }
 ],
 "metadata": {
  "kernelspec": {
   "display_name": "Python 3 (ipykernel)",
   "language": "python",
   "name": "python3"
  },
  "language_info": {
   "codemirror_mode": {
    "name": "ipython",
    "version": 3
   },
   "file_extension": ".py",
   "mimetype": "text/x-python",
   "name": "python",
   "nbconvert_exporter": "python",
   "pygments_lexer": "ipython3",
   "version": "3.9.12"
  }
 },
 "nbformat": 4,
 "nbformat_minor": 5
}

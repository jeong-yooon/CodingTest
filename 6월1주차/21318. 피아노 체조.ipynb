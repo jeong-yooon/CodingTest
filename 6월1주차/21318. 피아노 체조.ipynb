{
 "cells": [
  {
   "cell_type": "markdown",
   "id": "56163ad9",
   "metadata": {},
   "source": [
    "## 문제\n",
    "피아노를 사랑하는 시은이는 매일 아침 피아노 체조를 한다. 시은이는 N개의 악보를 가지고 있으며, 1번부터 N번까지의 번호로 부른다. 각 악보는 1 이상 109 이하의 정수로 표현되는 난이도를 가지고 있다. 난이도를 나타내는 수가 클수록 어려운 악보이다. 1 ≤ x ≤ y ≤ N 을 만족하는 두 정수 x, y를 골라 x번부터 y번까지의 악보를 번호 순서대로 연주하는 것이 피아노 체조이다.\n",
    "\n",
    "시은이는 피아노 체조를 할 때, 지금 연주하는 악보가 바로 다음에 연주할 악보보다 어렵다면 실수를 한다. 다시 말하자면, i(x ≤ i < y)번 악보의 난이도가 i + 1번 악보의 난이도보다 높다면 실수를 한다. 특히, 마지막으로 연주하는 y번 악보에선 절대 실수하지 않는다. 시은이는 오늘도 피아노 체조를 하기 위해 두 정수 x와 y를 골랐고, 문득 궁금한 것이 생겼다. 오늘 할 피아노 체조에서 실수하는 곡은 몇 개나 될까?\n",
    "\n",
    "### 입력\n",
    "첫 번째 줄에 악보의 개수 N(1 ≤ N ≤ 100,000)이 주어진다.\n",
    "\n",
    "두 번째 줄에 1번 악보부터 N번 악보까지의 난이도가 공백을 구분으로 주어진다.\n",
    "\n",
    "세 번째 줄에 질문의 개수 Q(1 ≤ Q ≤ 100,000)이 주어진다.\n",
    "\n",
    "다음 Q개의 줄에 각 줄마다 두 개의 정수 x, y(1 ≤ x ≤ y ≤ N)가 주어진다.\n",
    "\n",
    "### 출력\n",
    "x번부터 y번까지의 악보를 순서대로 연주할 때, 몇 개의 악보에서 실수하게 될지 0 이상의 정수 하나로 출력한다. 각 출력은 개행으로 구분한다.\n",
    "\n",
    "### 예제 입력 1 \n",
    "9\\\n",
    "1 2 3 3 4 1 10 8 1\\\n",
    "5\\\n",
    "1 3\\\n",
    "2 5\\\n",
    "4 7\\\n",
    "9 9\\\n",
    "5 9\n",
    "\n",
    "### 예제 출력 1 \n",
    "0\\\n",
    "0\\\n",
    "1\\\n",
    "0\\\n",
    "3\n",
    "\n",
    "### 예제 입력 2 \n",
    "6\\\n",
    "573 33283 5572 346 906 567\\\n",
    "5\\\n",
    "5 6\\\n",
    "1 3\\\n",
    "2 2\\\n",
    "1 6\\\n",
    "3 6\n",
    "\n",
    "### 예제 출력 2 \n",
    "1\\\n",
    "1\\\n",
    "0\\\n",
    "3\\\n",
    "2"
   ]
  },
  {
   "cell_type": "markdown",
   "id": "5a2a0846",
   "metadata": {},
   "source": [
    "#### 알고리즘 분류\n",
    "- 누적 합\n",
    "\n",
    "#### 풀이\n",
    "- N개의 악보: 1 ~ N 번호로 부른다.\n",
    "- 1 < 각 악보의 난이도 < 10^9\n",
    "- 악보 범위: x ~ y\n",
    "- 악보 난이도가 i > i+1 일 때 실수한다."
   ]
  },
  {
   "cell_type": "code",
   "execution_count": 12,
   "id": "c651923b",
   "metadata": {},
   "outputs": [
    {
     "name": "stdout",
     "output_type": "stream",
     "text": [
      "9\n",
      "1 2 3 3 4 1 10 8 1\n",
      "5\n",
      "1 3\n",
      "0\n",
      "2 5\n",
      "0\n",
      "4 7\n",
      "1\n",
      "9 9\n",
      "0\n",
      "5 9\n",
      "3\n"
     ]
    }
   ],
   "source": [
    "N = int(input()) # 악보 개수\n",
    "arr = list(map(int, input().split())) # 악보별 난이도\n",
    "\n",
    "# 성공 횟수 누적합 구하기\n",
    "memo = [0]*N\n",
    "for i in range(1,N): # 악보 갯수만큼 순환\n",
    "    if arr[i-1] <= arr[i]: # 성공 시 누적합에 1 추가\n",
    "        memo[i] = memo[i-1] + 1\n",
    "    else: # 성공 시 이전 인덱스값 그래도 저장\n",
    "        memo[i] = memo[i-1]\n",
    "\n",
    "answer = []\n",
    "Q = int(input()) # 질문 개수\n",
    "for _ in range(Q): # 질문별 실패 횟수 누적합 출력\n",
    "    x, y = map(int, input().split())\n",
    "    # 범위 값에서 범위의 성공 횟수 누적합 차를 빼서 실패 횟수 누적합을 구한다.\n",
    "    print((y-x) - (memo[y-1] - memo[x-1]))"
   ]
  },
  {
   "cell_type": "code",
   "execution_count": null,
   "id": "0390b542",
   "metadata": {},
   "outputs": [],
   "source": []
  }
 ],
 "metadata": {
  "kernelspec": {
   "display_name": "Python 3 (ipykernel)",
   "language": "python",
   "name": "python3"
  },
  "language_info": {
   "codemirror_mode": {
    "name": "ipython",
    "version": 3
   },
   "file_extension": ".py",
   "mimetype": "text/x-python",
   "name": "python",
   "nbconvert_exporter": "python",
   "pygments_lexer": "ipython3",
   "version": "3.9.13"
  }
 },
 "nbformat": 4,
 "nbformat_minor": 5
}

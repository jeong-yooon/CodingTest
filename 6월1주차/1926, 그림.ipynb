{
 "cells": [
  {
   "cell_type": "markdown",
   "id": "a2b35882",
   "metadata": {},
   "source": [
    "## 문제\n",
    "어떤 큰 도화지에 그림이 그려져 있을 때, 그 그림의 개수와, 그 그림 중 넓이가 가장 넓은 것의 넓이를 출력하여라. 단, 그림이라는 것은 1로 연결된 것을 한 그림이라고 정의하자. 가로나 세로로 연결된 것은 연결이 된 것이고 대각선으로 연결이 된 것은 떨어진 그림이다. 그림의 넓이란 그림에 포함된 1의 개수이다.\n",
    "\n",
    "### 입력\n",
    "첫째 줄에 도화지의 세로 크기 n(1 ≤ n ≤ 500)과 가로 크기 m(1 ≤ m ≤ 500)이 차례로 주어진다. 두 번째 줄부터 n+1 줄 까지 그림의 정보가 주어진다. (단 그림의 정보는 0과 1이 공백을 두고 주어지며, 0은 색칠이 안된 부분, 1은 색칠이 된 부분을 의미한다)\n",
    "\n",
    "### 출력\n",
    "첫째 줄에는 그림의 개수, 둘째 줄에는 그 중 가장 넓은 그림의 넓이를 출력하여라. 단, 그림이 하나도 없는 경우에는 가장 넓은 그림의 넓이는 0이다.\n",
    "\n",
    "### 예제 입력 1 \n",
    "6 5\n",
    "1 1 0 1 1\n",
    "0 1 1 0 0\n",
    "0 0 0 0 0\n",
    "1 0 1 1 1\n",
    "0 0 1 1 1\n",
    "0 0 1 1 1\n",
    "\n",
    "### 예제 출력 1 \n",
    "4\n",
    "9"
   ]
  },
  {
   "cell_type": "markdown",
   "id": "4e73f67f",
   "metadata": {},
   "source": [
    "#### 알고리즘 분류\n",
    "- 그래프 이론\n",
    "- 그래프 탐색\n",
    "- 너비 우선 탐색\n",
    "- 깊이 우선 탐색\n",
    "\n",
    "#### 풀이\n",
    "- 가로세로는 연결된 그림, 대각선은 연결 X"
   ]
  },
  {
   "cell_type": "code",
   "execution_count": 1,
   "id": "3186aaa1",
   "metadata": {},
   "outputs": [
    {
     "name": "stdout",
     "output_type": "stream",
     "text": [
      "6 5\n",
      "1 1 0 1 1\n",
      "0 1 1 0 0\n",
      "0 0 0 0 0\n",
      "1 0 1 1 1\n",
      "0 0 1 1 1\n",
      "0 0 1 1 1\n",
      "4\n",
      "9\n"
     ]
    }
   ],
   "source": [
    "from collections import deque\n",
    " \n",
    "n, m = map(int, input().split()) # 세로, 가로\n",
    "graph = [] # 그림정보\n",
    " \n",
    "for i in range(n):\n",
    "    graph.append(list(map(int, input().split())))\n",
    "\n",
    "# 위치정보\n",
    "dx = [0, 0, 1, -1] # 좌우\n",
    "dy = [1, -1, 0, 0] # 상하\n",
    " \n",
    "    \n",
    "    \n",
    "def bfs(graph, a, b):\n",
    "    queue = deque()\n",
    "    queue.append((a, b))\n",
    "    graph[a][b] = 0\n",
    "    count = 1\n",
    " \n",
    "    while queue:\n",
    "        x, y = queue.popleft() # 앞에 값 삭제\n",
    "        for i in range(4): # 가로 세로 탐색\n",
    "            nx = x + dx[i]\n",
    "            ny = y + dy[i]\n",
    "            if nx < 0 or nx >= n or ny < 0 or ny >= m: # 사각형 내부를 가르킬 때\n",
    "                continue\n",
    "            if graph[nx][ny] == 1: # 주변 좌표값이 1이면\n",
    "                graph[nx][ny] = 0 # 0으로 바꾸고\n",
    "                queue.append((nx, ny)) # 큐에 해당 좌표를 저장하고\n",
    "                count += 1 # 1씩 카운팅 해준다.\n",
    "    return count\n",
    " \n",
    "    \n",
    "    \n",
    "paint = [] # 각 그림 별 넓이 정보\n",
    "for i in range(n):\n",
    "    for j in range(m):\n",
    "        if graph[i][j] == 1: # 그림이 그려진 곳 탐색\n",
    "            paint.append(bfs(graph, i, j))\n",
    " \n",
    " \n",
    "if len(paint) == 0:\n",
    "    print(len(paint))\n",
    "    print(0)\n",
    "else:\n",
    "    print(len(paint))\n",
    "    print(max(paint))"
   ]
  },
  {
   "cell_type": "code",
   "execution_count": null,
   "id": "c09125e7",
   "metadata": {},
   "outputs": [],
   "source": []
  }
 ],
 "metadata": {
  "kernelspec": {
   "display_name": "Python 3 (ipykernel)",
   "language": "python",
   "name": "python3"
  },
  "language_info": {
   "codemirror_mode": {
    "name": "ipython",
    "version": 3
   },
   "file_extension": ".py",
   "mimetype": "text/x-python",
   "name": "python",
   "nbconvert_exporter": "python",
   "pygments_lexer": "ipython3",
   "version": "3.9.13"
  }
 },
 "nbformat": 4,
 "nbformat_minor": 5
}

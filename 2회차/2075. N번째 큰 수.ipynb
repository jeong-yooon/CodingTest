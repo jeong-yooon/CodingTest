{
 "cells": [
  {
   "attachments": {
    "image.png": {
     "image/png": "[encoded data removed]"
    }
   },
   "cell_type": "markdown",
   "id": "7035fcf3",
   "metadata": {},
   "source": [
    "## 문제\n",
    "N×N의 표에 수 N^2개 채워져 있다. 채워진 수에는 한 가지 특징이 있는데, 모든 수는 자신의 한 칸 위에 있는 수보다 크다는 것이다. N=5일 때의 예를 보자.\n",
    "![image.png](attachment:image.png)\n",
    "이러한 표가 주어졌을 때, N번째 큰 수를 찾는 프로그램을 작성하시오. 표에 채워진 수는 모두 다르다."
   ]
  },
  {
   "cell_type": "markdown",
   "id": "975db514",
   "metadata": {},
   "source": [
    "### 입력\n",
    "첫째 줄에 N(1 ≤ N ≤ 1,500)이 주어진다. 다음 N개의 줄에는 각 줄마다 N개의 수가 주어진다. 표에 적힌 수는 -10억보다 크거나 같고, 10억보다 작거나 같은 정수이다.\n",
    "\n",
    "### 출력\n",
    "첫째 줄에 N번째 큰 수를 출력한다."
   ]
  },
  {
   "cell_type": "markdown",
   "id": "6d85ddb8",
   "metadata": {},
   "source": [
    "#### 예제 입력 1 \n",
    "- 5\n",
    "- 12 7 9 15 5\n",
    "- 13 8 11 19 6\n",
    "- 21 10 26 31 16\n",
    "- 48 14 28 35 25\n",
    "- 52 20 32 41 49\n",
    "\n",
    "#### 예제 출력 1 \n",
    "- 35"
   ]
  },
  {
   "cell_type": "code",
   "execution_count": 22,
   "id": "69757baf",
   "metadata": {},
   "outputs": [
    {
     "name": "stdout",
     "output_type": "stream",
     "text": [
      "5\n",
      "12 7 9 15 5\n",
      "13 8 11 19 6\n",
      "21 10 26 31 16\n",
      "48 14 28 35 25\n",
      "52 20 32 41 49\n",
      "35\n"
     ]
    }
   ],
   "source": [
    "# 메모리 초과\n",
    "N = int(input())\n",
    "arr = [list(map(int, input().split())) for _ in range(N)]\n",
    "arr = sum(arr, []) # 2차원 배열 1차원 배열로 변환\n",
    "arr.sort(reverse=True)\n",
    "print(arr[N-1]) # 내림차순 정렬"
   ]
  },
  {
   "cell_type": "code",
   "execution_count": 1,
   "id": "1a6f73ce",
   "metadata": {},
   "outputs": [
    {
     "name": "stdout",
     "output_type": "stream",
     "text": [
      "5\n",
      "2 7 9 15 5\n",
      "2 7 9 15 5\n",
      "2 7 9 15 5\n",
      "2 7 9 15 5\n",
      "2 7 9 15 5\n",
      "9\n"
     ]
    }
   ],
   "source": [
    "# 메모리 초과\n",
    "from heapq import heappush, heappop\n",
    "N = int(input())\n",
    "arr = [list(map(int, input().split())) for _ in range(N)]\n",
    "arr = sum(arr, []) # 2차원 배열 1차원 배열로 변환\n",
    "heap = []\n",
    "for num in arr:\n",
    "  heappush(heap, (-num, num))  # (우선 순위, 값)\n",
    "print(heap[N-1][1])"
   ]
  },
  {
   "cell_type": "code",
   "execution_count": 5,
   "id": "5dc46a09",
   "metadata": {},
   "outputs": [
    {
     "ename": "ValueError",
     "evalue": "invalid literal for int() with base 10: ''",
     "output_type": "error",
     "traceback": [
      "\u001b[1;31m---------------------------------------------------------------------------\u001b[0m",
      "\u001b[1;31mValueError\u001b[0m                                Traceback (most recent call last)",
      "\u001b[1;32m~\\AppData\\Local\\Temp\\ipykernel_15316\\3996381844.py\u001b[0m in \u001b[0;36m<module>\u001b[1;34m\u001b[0m\n\u001b[0;32m      2\u001b[0m \u001b[0minput\u001b[0m \u001b[1;33m=\u001b[0m \u001b[0msys\u001b[0m\u001b[1;33m.\u001b[0m\u001b[0mstdin\u001b[0m\u001b[1;33m.\u001b[0m\u001b[0mreadline\u001b[0m\u001b[1;33m\u001b[0m\u001b[1;33m\u001b[0m\u001b[0m\n\u001b[0;32m      3\u001b[0m \u001b[1;33m\u001b[0m\u001b[0m\n\u001b[1;32m----> 4\u001b[1;33m \u001b[0mN\u001b[0m \u001b[1;33m=\u001b[0m \u001b[0mint\u001b[0m\u001b[1;33m(\u001b[0m\u001b[0minput\u001b[0m\u001b[1;33m(\u001b[0m\u001b[1;33m)\u001b[0m\u001b[1;33m)\u001b[0m\u001b[1;33m\u001b[0m\u001b[1;33m\u001b[0m\u001b[0m\n\u001b[0m\u001b[0;32m      5\u001b[0m \u001b[0marr\u001b[0m \u001b[1;33m=\u001b[0m \u001b[1;33m[\u001b[0m\u001b[0mlist\u001b[0m\u001b[1;33m(\u001b[0m\u001b[0mmap\u001b[0m\u001b[1;33m(\u001b[0m\u001b[0mint\u001b[0m\u001b[1;33m,\u001b[0m \u001b[0minput\u001b[0m\u001b[1;33m(\u001b[0m\u001b[1;33m)\u001b[0m\u001b[1;33m.\u001b[0m\u001b[0msplit\u001b[0m\u001b[1;33m(\u001b[0m\u001b[1;33m)\u001b[0m\u001b[1;33m)\u001b[0m\u001b[1;33m)\u001b[0m \u001b[1;32mfor\u001b[0m \u001b[0m_\u001b[0m \u001b[1;32min\u001b[0m \u001b[0mrange\u001b[0m\u001b[1;33m(\u001b[0m\u001b[0mN\u001b[0m\u001b[1;33m)\u001b[0m\u001b[1;33m]\u001b[0m\u001b[1;33m\u001b[0m\u001b[1;33m\u001b[0m\u001b[0m\n\u001b[0;32m      6\u001b[0m \u001b[0marr\u001b[0m \u001b[1;33m=\u001b[0m \u001b[0msum\u001b[0m\u001b[1;33m(\u001b[0m\u001b[0marr\u001b[0m\u001b[1;33m,\u001b[0m \u001b[1;33m[\u001b[0m\u001b[1;33m]\u001b[0m\u001b[1;33m)\u001b[0m \u001b[1;31m# 2차원 배열 1차원 배열로 변환\u001b[0m\u001b[1;33m\u001b[0m\u001b[1;33m\u001b[0m\u001b[0m\n",
      "\u001b[1;31mValueError\u001b[0m: invalid literal for int() with base 10: ''"
     ]
    }
   ],
   "source": [
    "import sys, heapq\n",
    "input = sys.stdin.readline\n",
    "\n",
    "N = int(input())\n",
    "arr = [list(map(int, input().split())) for _ in range(N)]\n",
    "arr = sum(arr, []) # 2차원 배열 1차원 배열로 변환\n",
    "heap = []\n",
    "for num in arr:\n",
    "  heappush(heap, (-num, num))  # (우선 순위, 값)\n",
    "print(heap[N-1][1])"
   ]
  },
  {
   "cell_type": "code",
   "execution_count": null,
   "id": "bbd102e5",
   "metadata": {},
   "outputs": [],
   "source": []
  },
  {
   "cell_type": "code",
   "execution_count": null,
   "id": "260b86b8",
   "metadata": {},
   "outputs": [],
   "source": []
  }
 ],
 "metadata": {
  "kernelspec": {
   "display_name": "Python 3 (ipykernel)",
   "language": "python",
   "name": "python3"
  },
  "language_info": {
   "codemirror_mode": {
    "name": "ipython",
    "version": 3
   },
   "file_extension": ".py",
   "mimetype": "text/x-python",
   "name": "python",
   "nbconvert_exporter": "python",
   "pygments_lexer": "ipython3",
   "version": "3.9.13"
  }
 },
 "nbformat": 4,
 "nbformat_minor": 5
}

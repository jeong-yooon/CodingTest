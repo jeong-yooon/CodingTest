{
 "cells": [
  {
   "cell_type": "markdown",
   "id": "760b2584",
   "metadata": {},
   "source": [
    "## 문제\n",
    "홀수인 자연수 N이 주어지면, 다음과 같이 1부터 N2까지의 자연수를 달팽이 모양으로 N×N의 표에 채울 수 있다.\n",
    "\n",
    "9\t2\t3\\\n",
    "8\t1\t4\\\n",
    "7\t6\t5\n",
    "\n",
    "25\t10\t11\t12\t13\\\n",
    "24\t9\t2\t3\t14\\\n",
    "23\t8\t1\t4\t15\\\n",
    "22\t7\t6\t5\t16\\\n",
    "21\t20\t19\t18\t17\n",
    "\n",
    "N이 주어졌을 때, 이러한 표를 출력하는 프로그램을 작성하시오. 또한 N2 이하의 자연수가 하나 주어졌을 때, 그 좌표도 함께 출력하시오. 예를 들어 N=5인 경우 6의 좌표는 (4,3)이다."
   ]
  },
  {
   "cell_type": "markdown",
   "id": "e09c12d1",
   "metadata": {},
   "source": [
    "### 입력\n",
    "첫째 줄에 홀수인 자연수 N(3 ≤ N ≤ 999)이 주어진다. 둘째 줄에는 위치를 찾고자 하는 N2 이하의 자연수가 하나 주어진다.\n",
    "\n",
    "### 출력\n",
    "N개의 줄에 걸쳐 표를 출력한다. 각 줄에 N개의 자연수를 한 칸씩 띄어서 출력하면 되며, 자릿수를 맞출 필요가 없다. N+1번째 줄에는 입력받은 자연수의 좌표를 나타내는 두 정수를 한 칸 띄어서 출력한다."
   ]
  },
  {
   "cell_type": "markdown",
   "id": "6adda61b",
   "metadata": {},
   "source": [
    "### 예제 입력 1 \n",
    "7\\\n",
    "35\n",
    "\n",
    "### 예제 출력 1 \n",
    "49 26 27 28 29 30 31\\\n",
    "48 25 10 11 12 13 32\\\n",
    "47 24 9 2 3 14 33\\\n",
    "46 23 8 1 4 15 34\\\n",
    "45 22 7 6 5 16 35\\\n",
    "44 21 20 19 18 17 36\\\n",
    "43 42 41 40 39 38 37\\\n",
    "5 7"
   ]
  },
  {
   "cell_type": "code",
   "execution_count": null,
   "id": "68d61721",
   "metadata": {},
   "outputs": [],
   "source": [
    "n, m = map(int, input().split())\n",
    "snail = [[0]*n for _ in range(n)]\n",
    "\n",
    "# 가운데 1 채우기\n",
    "x = (n - 1) // 2\n",
    "y = (n - 1) // 2\n",
    "snail[x][y] = 1\n",
    "\n",
    "# 방향벡터 (상, 하, 좌, 우)\n",
    "dx = [-1, 1, 0, 0]\n",
    "dy = [0, 0, -1, 1]\n",
    "\n",
    "i = 2\n",
    "start = 3\n",
    "\n",
    "while x != 0 or y != 0:\n",
    "    while i <= start * start:\n",
    "        if x == y == (n - 1) // 2: # 시작점이면 cnt 세팅, 한 칸 위로\n",
    "            cnt_up, cnt_down, cnt_left, cnt_right = start, start - 1, start - 1, start - 2\n",
    "            x += dx[0]\n",
    "            y += dy[0]\n",
    "            cnt_up -= 1\n",
    "\n",
    "        elif cnt_right > 0: # 우\n",
    "            x += dx[3]\n",
    "            y += dy[3]\n",
    "            cnt_right -= 1\n",
    "\n",
    "        elif cnt_down > 0: # 하\n",
    "            x += dx[1]\n",
    "            y += dy[1]\n",
    "            cnt_down -= 1\n",
    "\n",
    "        elif cnt_left > 0: # 좌\n",
    "            x += dx[2]\n",
    "            y += dy[2]\n",
    "            cnt_left -= 1\n",
    "\n",
    "        elif cnt_up > 0: # 상\n",
    "            x += dx[0]\n",
    "            y += dy[0]\n",
    "            cnt_up -= 1\n",
    "\n",
    "        snail[x][y] = i\n",
    "        i += 1\n",
    "\n",
    "    n -= 2\n",
    "    start += 2\n",
    "\n",
    "for j in range(len(snail)):\n",
    "    print(*snail[j])\n",
    "    if m in snail[j]:\n",
    "        mx = j + 1\n",
    "        my = snail[j].index(m) + 1\n",
    "print(mx, my)"
   ]
  }
 ],
 "metadata": {
  "kernelspec": {
   "display_name": "Python 3 (ipykernel)",
   "language": "python",
   "name": "python3"
  },
  "language_info": {
   "codemirror_mode": {
    "name": "ipython",
    "version": 3
   },
   "file_extension": ".py",
   "mimetype": "text/x-python",
   "name": "python",
   "nbconvert_exporter": "python",
   "pygments_lexer": "ipython3",
   "version": "3.9.13"
  }
 },
 "nbformat": 4,
 "nbformat_minor": 5
}

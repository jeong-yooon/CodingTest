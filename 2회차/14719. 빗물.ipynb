{
 "cells": [
  {
   "attachments": {
    "image.png": {
     "image/png": "[encoded data removed]"
    }
   },
   "cell_type": "markdown",
   "id": "c1e960f3",
   "metadata": {},
   "source": [
    "## 문제\n",
    "2차원 세계에 블록이 쌓여있다. 비가 오면 블록 사이에 빗물이 고인다.\n",
    "![image.png](attachment:image.png)\n",
    "\n",
    "비는 충분히 많이 온다. 고이는 빗물의 총량은 얼마일까?"
   ]
  },
  {
   "cell_type": "markdown",
   "id": "4cafe5b1",
   "metadata": {},
   "source": [
    "### 입력\n",
    "첫 번째 줄에는 2차원 세계의 세로 길이 H과 2차원 세계의 가로 길이 W가 주어진다. (1 ≤ H, W ≤ 500)\n",
    "\n",
    "두 번째 줄에는 블록이 쌓인 높이를 의미하는 0이상 H이하의 정수가 2차원 세계의 맨 왼쪽 위치부터 차례대로 W개 주어진다.\n",
    "\n",
    "따라서 블록 내부의 빈 공간이 생길 수 없다. 또 2차원 세계의 바닥은 항상 막혀있다고 가정하여도 좋다.\n",
    "\n",
    "### 출력\n",
    "2차원 세계에서는 한 칸의 용량은 1이다. 고이는 빗물의 총량을 출력하여라.\n",
    "\n",
    "빗물이 전혀 고이지 않을 경우 0을 출력하여라."
   ]
  },
  {
   "cell_type": "markdown",
   "id": "65dc9418",
   "metadata": {},
   "source": [
    "### 예제 입력 1 \n",
    "4 4\\\n",
    "3 0 1 4\n",
    "\n",
    "### 예제 출력 1 \n",
    "5\n",
    "\n",
    "### 예제 입력 2 \n",
    "4 8\\\n",
    "3 1 2 3 4 1 1 2\n",
    "\n",
    "### 예제 출력 2 \n",
    "5\n",
    "\n",
    "### 예제 입력 3 \n",
    "3 5\\\n",
    "0 0 0 2 0\n",
    "\n",
    "### 예제 출력 3 \n",
    "0"
   ]
  },
  {
   "attachments": {
    "image.png": {
     "image/png": "[encoded data removed]"
    }
   },
   "cell_type": "markdown",
   "id": "03d017b7",
   "metadata": {},
   "source": [
    "### 힌트\n",
    "![image.png](attachment:image.png)"
   ]
  },
  {
   "cell_type": "code",
   "execution_count": 1,
   "id": "1847eb27",
   "metadata": {},
   "outputs": [
    {
     "name": "stdout",
     "output_type": "stream",
     "text": [
      "4 8\n",
      "3 1 2 3 4 1 1 2\n",
      "5\n"
     ]
    }
   ],
   "source": [
    "h, w = map(int, input().split())\n",
    "world = list(map(int, input().split()))\n",
    "\n",
    "ans = 0\n",
    "for i in range(1, w - 1): # 맨 왼쪽과 맨 오른쪽을 제외한 블록에 고이는 물 확인\n",
    "    left_max = max(world[:i])\n",
    "    right_max = max(world[i+1:])\n",
    "\n",
    "    compare = min(left_max, right_max) # 양 옆 블록중 더 작은 블록을 기준으로 고이는 물을 고려한다.\n",
    "\n",
    "    if world[i] < compare:\n",
    "        ans += compare - world[i]\n",
    "\n",
    "print(ans)"
   ]
  },
  {
   "cell_type": "code",
   "execution_count": null,
   "id": "46412bb5",
   "metadata": {},
   "outputs": [],
   "source": []
  }
 ],
 "metadata": {
  "kernelspec": {
   "display_name": "Python 3 (ipykernel)",
   "language": "python",
   "name": "python3"
  },
  "language_info": {
   "codemirror_mode": {
    "name": "ipython",
    "version": 3
   },
   "file_extension": ".py",
   "mimetype": "text/x-python",
   "name": "python",
   "nbconvert_exporter": "python",
   "pygments_lexer": "ipython3",
   "version": "3.9.13"
  }
 },
 "nbformat": 4,
 "nbformat_minor": 5
}

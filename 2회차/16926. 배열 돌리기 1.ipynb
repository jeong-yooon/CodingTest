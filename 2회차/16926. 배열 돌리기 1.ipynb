{
 "cells": [
  {
   "attachments": {
    "image-2.png": {
     "image/png": "[encoded data removed]"
    },
    "image.png": {
     "image/png": "[encoded data removed]"
    }
   },
   "cell_type": "markdown",
   "id": "56ddfadf",
   "metadata": {},
   "source": [
    "## 문제\n",
    "크기가 N×M인 배열이 있을 때, 배열을 돌려보려고 한다. 배열은 다음과 같이 반시계 방향으로 돌려야 한다.\n",
    "![image.png](attachment:image.png)\n",
    "예를 들어, 아래와 같은 배열을 2번 회전시키면 다음과 같이 변하게 된다.\n",
    "![image-2.png](attachment:image-2.png)\n",
    "배열과 정수 R이 주어졌을 때, 배열을 R번 회전시킨 결과를 구해보자."
   ]
  },
  {
   "cell_type": "markdown",
   "id": "95e42591",
   "metadata": {},
   "source": [
    "### 입력\n",
    "첫째 줄에 배열의 크기 N, M과 수행해야 하는 회전의 수 R이 주어진다.\n",
    "\n",
    "둘째 줄부터 N개의 줄에 배열 A의 원소 Aij가 주어진다.\n",
    "\n",
    "### 출력\n",
    "입력으로 주어진 배열을 R번 회전시킨 결과를 출력한다.\n",
    "\n",
    "### 제한\n",
    "2 ≤ N, M ≤ 300\n",
    "1 ≤ R ≤ 1,000\n",
    "min(N, M) mod 2 = 0\n",
    "1 ≤ Aij ≤ 108"
   ]
  },
  {
   "cell_type": "markdown",
   "id": "613dfffd",
   "metadata": {},
   "source": [
    "#### 예제 입력 1 \n",
    "4 4 2\\\n",
    "1 2 3 4\\\n",
    "5 6 7 8\\\n",
    "9 10 11 12\\\n",
    "13 14 15 16\n",
    "\n",
    "#### 예제 출력 1 \n",
    "3 4 8 12\\\n",
    "2 11 10 16\\\n",
    "1 7 6 15\\\n",
    "5 9 13 14\n",
    "\n",
    "#### 예제 입력 2 \n",
    "5 4 7\\\n",
    "1 2 3 4\\\n",
    "7 8 9 10\n",
    "13 14 15 16\\\n",
    "19 20 21 22\\\n",
    "25 26 27 28\n",
    "\n",
    "#### 예제 출력 2 \n",
    "28 27 26 25\\\n",
    "22 9 15 19\\\n",
    "16 8 21 13\\\n",
    "10 14 20 7\\\n",
    "4 3 2 1\n",
    "\n",
    "#### 예제 입력 3 \n",
    "2 2 3\\\n",
    "1 1\\\n",
    "1 1\n",
    "\n",
    "#### 예제 출력 3 \n",
    "1 1\\\n",
    "1 1"
   ]
  },
  {
   "cell_type": "code",
   "execution_count": 1,
   "id": "78e0d59b",
   "metadata": {},
   "outputs": [
    {
     "name": "stdout",
     "output_type": "stream",
     "text": [
      "4 4 2\n",
      "1 2 3 4\n",
      "5 6 7 8\n",
      "9 10 11 12\n",
      "13 14 15 16\n",
      "3 4 8 12 \n",
      "2 11 10 16 \n",
      "1 7 6 15 \n",
      "5 9 13 14 \n"
     ]
    }
   ],
   "source": [
    "# import sys\n",
    "# input = sys.stdin.readline\n",
    "\n",
    "n,m,r = map(int,input().split())\n",
    "\n",
    "data = [list(map(int,input().split())) for _ in range(n)]\n",
    "\n",
    "for _ in range(r): # 회전 횟수만큼 반복\n",
    "    for i in range(min(n, m) // 2):\n",
    "        # x, y 는 돌려지는 배열중 가장 첫번째 배열 인덱스\n",
    "        x, y = i, i\n",
    "        temp = data[x][y]\n",
    "        # 안쪽까지 계속 고려해야하기 때문에 n-i랑 m-i까지로 범위설정\n",
    "        for j in range(i + 1, n - i):  #좌\n",
    "            x = j\n",
    "            prev_value = data[x][y]\n",
    "            data[x][y] = temp\n",
    "            temp = prev_value\n",
    "\n",
    "        for j in range(i + 1, m - i):  #하\n",
    "            y = j\n",
    "            prev_value = data[x][y]\n",
    "            data[x][y] = temp\n",
    "            temp = prev_value\n",
    "\n",
    "        for j in range(i + 1, n - i):  #우\n",
    "            x = n - j - 1\n",
    "            prev_value = data[x][y]\n",
    "            data[x][y] = temp\n",
    "            temp = prev_value\n",
    "\n",
    "        for j in range(i + 1, m - i):  #상\n",
    "            y = m - j -1\n",
    "            prev_value = data[x][y]\n",
    "            data[x][y] = temp\n",
    "            temp = prev_value\n",
    "\n",
    "for i in range(n):\n",
    "    for j in range(m):\n",
    "        print(data[i][j], end=' ')\n",
    "    print()"
   ]
  },
  {
   "cell_type": "code",
   "execution_count": null,
   "id": "c043964e",
   "metadata": {},
   "outputs": [],
   "source": []
  }
 ],
 "metadata": {
  "kernelspec": {
   "display_name": "Python 3 (ipykernel)",
   "language": "python",
   "name": "python3"
  },
  "language_info": {
   "codemirror_mode": {
    "name": "ipython",
    "version": 3
   },
   "file_extension": ".py",
   "mimetype": "text/x-python",
   "name": "python",
   "nbconvert_exporter": "python",
   "pygments_lexer": "ipython3",
   "version": "3.9.13"
  }
 },
 "nbformat": 4,
 "nbformat_minor": 5
}

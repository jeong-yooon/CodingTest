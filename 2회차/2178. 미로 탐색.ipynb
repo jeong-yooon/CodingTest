{
 "cells": [
  {
   "cell_type": "markdown",
   "id": "1166e81f",
   "metadata": {},
   "source": [
    "## 문제\n",
    "N×M크기의 배열로 표현되는 미로가 있다.\n",
    "\n",
    "1\t0\t1\t1\t1\t1\\\n",
    "1\t0\t1\t0\t1\t0\\\n",
    "1\t0\t1\t0\t1\t1\\\n",
    "1\t1\t1\t0\t1\t1\n",
    "\n",
    "미로에서 1은 이동할 수 있는 칸을 나타내고, 0은 이동할 수 없는 칸을 나타낸다. 이러한 미로가 주어졌을 때, (1, 1)에서 출발하여 (N, M)의 위치로 이동할 때 지나야 하는 최소의 칸 수를 구하는 프로그램을 작성하시오. 한 칸에서 다른 칸으로 이동할 때, 서로 인접한 칸으로만 이동할 수 있다.\n",
    "\n",
    "위의 예에서는 15칸을 지나야 (N, M)의 위치로 이동할 수 있다. 칸을 셀 때에는 시작 위치와 도착 위치도 포함한다."
   ]
  },
  {
   "cell_type": "markdown",
   "id": "189da18b",
   "metadata": {},
   "source": [
    "### 입력\n",
    "첫째 줄에 두 정수 N, M(2 ≤ N, M ≤ 100)이 주어진다. 다음 N개의 줄에는 M개의 정수로 미로가 주어진다. 각각의 수들은 붙어서 입력으로 주어진다.\n",
    "\n",
    "### 출력\n",
    "첫째 줄에 지나야 하는 최소의 칸 수를 출력한다. 항상 도착위치로 이동할 수 있는 경우만 입력으로 주어진다."
   ]
  },
  {
   "cell_type": "markdown",
   "id": "da829a5c",
   "metadata": {},
   "source": [
    "#### 예제 입력 1 \n",
    "4 6\\\n",
    "101111\\\n",
    "101010\\\n",
    "101011\\\n",
    "111011\n",
    "\n",
    "#### 예제 출력 1 \n",
    "15\n",
    "\n",
    "#### 예제 입력 2 \n",
    "4 6\\\n",
    "110110\\\n",
    "110110\\\n",
    "111111\\\n",
    "111101\n",
    "\n",
    "#### 예제 출력 2 \n",
    "9\n",
    "\n",
    "#### 예제 입력 3 \n",
    "2 25\\\n",
    "1011101110111011101110111\\\n",
    "1110111011101110111011101\n",
    "\n",
    "#### 예제 출력 3 \n",
    "38\n",
    "\n",
    "#### 예제 입력 4 \n",
    "7 7\\\n",
    "1011111\\\n",
    "1110001\\\n",
    "1000001\\\n",
    "1000001\\\n",
    "1000001\\\n",
    "1000001\\\n",
    "1111111\n",
    "\n",
    "#### 예제 출력 4 \n",
    "13"
   ]
  },
  {
   "cell_type": "code",
   "execution_count": 9,
   "id": "010a09e5",
   "metadata": {},
   "outputs": [
    {
     "name": "stdout",
     "output_type": "stream",
     "text": [
      "2 25\n",
      "1011101110111011101110111\n",
      "1110111011101110111011101\n",
      "[[1, '0', '1', '1', '1', '0', '1', '1', '1', '0', '1', '1', '1', '0', '1', '1', '1', '0', '1', '1', '1', '0', '1', '1', '1'], ['1', '1', '1', '0', '1', '1', '1', '0', '1', '1', '1', '0', '1', '1', '1', '0', '1', '1', '1', '0', '1', '1', '1', '0', '1']]\n",
      "38\n"
     ]
    }
   ],
   "source": [
    "# 메모리 초과\n",
    "# import sys\n",
    "# input = sys.stdin.readline\n",
    "\n",
    "N, M = map(int, input().split())\n",
    "\n",
    "# 배열 입력 받기\n",
    "# arr = [list(map(int, input())) for _ in range(N)]\n",
    "arr = []\n",
    "for _ in range(N):\n",
    "    arr.append(list(input()))\n",
    "arr[0][0] = 1 # 정수형으로 변경\n",
    "# print(arr)\n",
    "\n",
    "# 상하좌우 좌표 지정\n",
    "dx = [-1, 1, 0, 0] # 좌우\n",
    "dy = [0, 0, -1, 1] # 상하\n",
    "\n",
    "key = [[0,0]] # 키값\n",
    "\n",
    "# BFS 시작\n",
    "while key:\n",
    "    x, y = key[0][0], key[0][1]\n",
    "    \n",
    "    del key[0]\n",
    "    \n",
    "    for i in range(4): # 상하좌우를 다 이동해보며 비교해보자.\n",
    "        nx = x + dx[i]\n",
    "        ny = y + dy[i]\n",
    "        # nx\n",
    "        \n",
    "        if nx>=0 and ny>= 0 and nx<N and ny<M: # [0,0] ~ [N,M]를 순회\n",
    "            if arr[nx][ny]=='1': # 값을 탐색하다가 값이 1일때\n",
    "                key.append([nx,ny]) # key 리스트에 해당 좌표를 저장한다.\n",
    "                arr[nx][ny] = arr[x][y] + 1\n",
    "\n",
    "print(arr[N-1][M-1])"
   ]
  },
  {
   "cell_type": "code",
   "execution_count": null,
   "id": "5dd4b239",
   "metadata": {},
   "outputs": [],
   "source": [
    "[[1, 0, 1, 1, 1, 0, 1, 1, 1, 0, 1, 1, 1, 0, 1, 1, 1, 0, 1, 1, 1, 0, 1, 1, 1], [1, 1, 1, 0, 1, 1, 1, 0, 1, 1, 1, 0, 1, 1, 1, 0, 1, 1, 1, 0, 1, 1, 1, 0, 1]]\n"
   ]
  },
  {
   "cell_type": "code",
   "execution_count": 4,
   "id": "252cfef9",
   "metadata": {},
   "outputs": [
    {
     "name": "stdout",
     "output_type": "stream",
     "text": [
      "2 25\n",
      "1011101110111011101110111\n",
      "1110111011101110111011101\n",
      "[[1, 0, 1, 1, 1, 0, 1, 1, 1, 0, 1, 1, 1, 0, 1, 1, 1, 0, 1, 1, 1, 0, 1, 1, 1], [1, 1, 1, 0, 1, 1, 1, 0, 1, 1, 1, 0, 1, 1, 1, 0, 1, 1, 1, 0, 1, 1, 1, 0, 1]]\n"
     ]
    }
   ],
   "source": [
    "N, M = map(int, input().split())\n",
    "\n",
    "# 배열 입력 받기\n",
    "# arr = [list(map(int, input())) for _ in range(N)]\n",
    "arr = []\n",
    "for _ in range(N):\n",
    "    arr.append(list(map(int,input())))\n",
    "# arr[0][0] = 1 # 정수형으로 변경\n",
    "print(arr)"
   ]
  },
  {
   "cell_type": "code",
   "execution_count": null,
   "id": "329ec6c9",
   "metadata": {},
   "outputs": [],
   "source": []
  }
 ],
 "metadata": {
  "kernelspec": {
   "display_name": "Python 3 (ipykernel)",
   "language": "python",
   "name": "python3"
  },
  "language_info": {
   "codemirror_mode": {
    "name": "ipython",
    "version": 3
   },
   "file_extension": ".py",
   "mimetype": "text/x-python",
   "name": "python",
   "nbconvert_exporter": "python",
   "pygments_lexer": "ipython3",
   "version": "3.9.13"
  }
 },
 "nbformat": 4,
 "nbformat_minor": 5
}

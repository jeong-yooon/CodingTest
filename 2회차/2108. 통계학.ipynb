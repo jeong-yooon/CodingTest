{
 "cells": [
  {
   "cell_type": "markdown",
   "id": "f641d0d5",
   "metadata": {},
   "source": [
    "## 문제\n",
    "수를 처리하는 것은 통계학에서 상당히 중요한 일이다. 통계학에서 N개의 수를 대표하는 기본 통계값에는 다음과 같은 것들이 있다. 단, N은 홀수라고 가정하자.\n",
    "\n",
    "산술평균 : N개의 수들의 합을 N으로 나눈 값\n",
    "중앙값 : N개의 수들을 증가하는 순서로 나열했을 경우 그 중앙에 위치하는 값\n",
    "최빈값 : N개의 수들 중 가장 많이 나타나는 값\n",
    "범위 : N개의 수들 중 최댓값과 최솟값의 차이\n",
    "N개의 수가 주어졌을 때, 네 가지 기본 통계값을 구하는 프로그램을 작성하시오."
   ]
  },
  {
   "cell_type": "markdown",
   "id": "2ac1e492",
   "metadata": {},
   "source": [
    "### 입력\n",
    "첫째 줄에 수의 개수 N(1 ≤ N ≤ 500,000)이 주어진다. 단, N은 홀수이다. 그 다음 N개의 줄에는 정수들이 주어진다. 입력되는 정수의 절댓값은 4,000을 넘지 않는다.\n",
    "\n",
    "### 출력\n",
    "첫째 줄에는 산술평균을 출력한다. 소수점 이하 첫째 자리에서 반올림한 값을 출력한다.\n",
    "\n",
    "둘째 줄에는 중앙값을 출력한다.\n",
    "\n",
    "셋째 줄에는 최빈값을 출력한다. 여러 개 있을 때에는 최빈값 중 두 번째로 작은 값을 출력한다.\n",
    "\n",
    "넷째 줄에는 범위를 출력한다."
   ]
  },
  {
   "cell_type": "markdown",
   "id": "4d76133f",
   "metadata": {},
   "source": [
    "#### 예제 입력 1 \n",
    "5\\\n",
    "1\\\n",
    "3\\\n",
    "8\\\n",
    "-2\\\n",
    "2\n",
    "\n",
    "#### 예제 출력 1 \n",
    "2\\\n",
    "2\\\n",
    "1\\\n",
    "10\n",
    "\n",
    "#### 예제 입력 2 \n",
    "1\\\n",
    "4000\n",
    "\n",
    "#### 예제 출력 2 \n",
    "4000\\\n",
    "4000\\\n",
    "4000\\\n",
    "0\n",
    "\n",
    "#### 예제 입력 3 \n",
    "5\\\n",
    "-1\\\n",
    "-2\\\n",
    "-3\\\n",
    "-1\\\n",
    "-2\n",
    "\n",
    "#### 예제 출력 3 \n",
    "-2\\\n",
    "-2\\\n",
    "-1\\\n",
    "2\n",
    "\n",
    "#### 예제 입력 4 \n",
    "3\\\n",
    "0\\\n",
    "0\\\n",
    "-1\n",
    "\n",
    "#### 예제 출력 4 \n",
    "0\\\n",
    "0\\\n",
    "0\\\n",
    "1\n",
    "\n",
    "(0 + 0 + (-1)) / 3 = -0.333333... 이고 이를 첫째 자리에서 반올림하면 0이다. -0으로 출력하면 안된다."
   ]
  },
  {
   "cell_type": "code",
   "execution_count": 2,
   "id": "e7abef72",
   "metadata": {},
   "outputs": [
    {
     "name": "stdout",
     "output_type": "stream",
     "text": [
      "1\n",
      "4000\n",
      "4000\n",
      "4000\n",
      "4000\n",
      "0\n"
     ]
    }
   ],
   "source": [
    "import sys\n",
    "from collections import Counter\n",
    "# input = sys.stdin.readline\n",
    "n = int(input())\n",
    "li = []\n",
    "for _ in range(n):\n",
    "    li.append(int(input()))\n",
    " \n",
    "# 산술평균 - 다 더해서\n",
    "print(round(sum(li)/n))\n",
    " \n",
    "# 중앙값 - 오름차순 -> 중간값\n",
    "li.sort()\n",
    "print(li[n//2])\n",
    " \n",
    "# 최빈값 - 빈출\n",
    "cnt_li = Counter(li).most_common()\n",
    "if len(cnt_li) > 1 and cnt_li[0][1]==cnt_li[1][1]: #최빈값 2개 이상\n",
    "    print(cnt_li[1][0])\n",
    "else:\n",
    "    print(cnt_li[0][0])\n",
    " \n",
    "# 범위 - 최댓값-최솟값\n",
    "print(max(li)-min(li))\n"
   ]
  },
  {
   "cell_type": "code",
   "execution_count": null,
   "id": "4108026c",
   "metadata": {},
   "outputs": [],
   "source": []
  }
 ],
 "metadata": {
  "kernelspec": {
   "display_name": "Python 3 (ipykernel)",
   "language": "python",
   "name": "python3"
  },
  "language_info": {
   "codemirror_mode": {
    "name": "ipython",
    "version": 3
   },
   "file_extension": ".py",
   "mimetype": "text/x-python",
   "name": "python",
   "nbconvert_exporter": "python",
   "pygments_lexer": "ipython3",
   "version": "3.9.13"
  }
 },
 "nbformat": 4,
 "nbformat_minor": 5
}

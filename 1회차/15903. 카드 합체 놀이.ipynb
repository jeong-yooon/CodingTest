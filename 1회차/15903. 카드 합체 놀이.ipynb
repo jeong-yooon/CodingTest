{
 "cells": [
  {
   "cell_type": "markdown",
   "id": "932e92f4",
   "metadata": {},
   "source": [
    "## 문제\n",
    "석환이는 아기다. 아기 석환이는 자연수가 쓰여져있는 카드를 갖고 다양한 놀이를 하며 노는 것을 좋아한다. 오늘 아기 석환이는 무슨 놀이를 하고 있을까? 바로 카드 합체 놀이이다!\n",
    "\n",
    "아기 석환이는 자연수가 쓰여진 카드를 n장 갖고 있다. 처음에 i번 카드엔 ai가 쓰여있다. 카드 합체 놀이는 이 카드들을 합체하며 노는 놀이이다. 카드 합체는 다음과 같은 과정으로 이루어진다.\n",
    "\n",
    "x번 카드와 y번 카드를 골라 그 두 장에 쓰여진 수를 더한 값을 계산한다. (x ≠ y)\n",
    "계산한 값을 x번 카드와 y번 카드 두 장 모두에 덮어 쓴다.\n",
    "이 카드 합체를 총 m번 하면 놀이가 끝난다. m번의 합체를 모두 끝낸 뒤, n장의 카드에 쓰여있는 수를 모두 더한 값이 이 놀이의 점수가 된다. 이 점수를 가장 작게 만드는 것이 놀이의 목표이다.\n",
    "\n",
    "아기 석환이는 수학을 좋아하긴 하지만, 아직 아기이기 때문에 점수를 얼마나 작게 만들 수 있는지를 알 수는 없었다(어른 석환이는 당연히 쉽게 알 수 있다). 그래서 문제 해결 능력이 뛰어난 여러분에게 도움을 요청했다. 만들 수 있는 가장 작은 점수를 계산하는 프로그램을 만들어보자."
   ]
  },
  {
   "cell_type": "markdown",
   "id": "fca42e0b",
   "metadata": {},
   "source": [
    "### 입력\n",
    "첫 번째 줄에 카드의 개수를 나타내는 수 n(2 ≤ n ≤ 1,000)과 카드 합체를 몇 번 하는지를 나타내는 수 m(0 ≤ m ≤ 15×n)이 주어진다.\n",
    "\n",
    "두 번째 줄에 맨 처음 카드의 상태를 나타내는 n개의 자연수 a1, a2, …, an이 공백으로 구분되어 주어진다. (1 ≤ ai ≤ 1,000,000)\n",
    "\n",
    "### 출력\n",
    "첫 번째 줄에 만들 수 있는 가장 작은 점수를 출력한다."
   ]
  },
  {
   "cell_type": "markdown",
   "id": "e2517f9a",
   "metadata": {},
   "source": [
    "#### 예제 입력 1 \n",
    "3 1\n",
    "3 2 6\n",
    "#### 예제 출력 1 \n",
    "16\n",
    "#### 예제 입력 2 \n",
    "4 2\n",
    "4 2 3 1\n",
    "#### 예제 출력 2 \n",
    "19"
   ]
  },
  {
   "cell_type": "code",
   "execution_count": 1,
   "id": "34844edb",
   "metadata": {},
   "outputs": [
    {
     "name": "stdout",
     "output_type": "stream",
     "text": [
      "4 2\n",
      "4 2 3 1\n",
      "19\n"
     ]
    }
   ],
   "source": [
    "N, M = map(int, input().split())\n",
    "arr = list(map(int, input().split()))\n",
    "cal = 0\n",
    "\n",
    "for i in range(0, M):\n",
    "    arr.sort()\n",
    "    cal = arr[0] + arr[1]\n",
    "    arr[0] = cal\n",
    "    arr[1] = cal\n",
    "print(sum(arr))"
   ]
  },
  {
   "cell_type": "code",
   "execution_count": null,
   "id": "2f82d55d",
   "metadata": {},
   "outputs": [],
   "source": []
  }
 ],
 "metadata": {
  "kernelspec": {
   "display_name": "Python 3 (ipykernel)",
   "language": "python",
   "name": "python3"
  },
  "language_info": {
   "codemirror_mode": {
    "name": "ipython",
    "version": 3
   },
   "file_extension": ".py",
   "mimetype": "text/x-python",
   "name": "python",
   "nbconvert_exporter": "python",
   "pygments_lexer": "ipython3",
   "version": "3.9.13"
  }
 },
 "nbformat": 4,
 "nbformat_minor": 5
}

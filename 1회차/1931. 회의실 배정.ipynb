{
 "cells": [
  {
   "cell_type": "markdown",
   "id": "95fbae21",
   "metadata": {},
   "source": [
    "## 문제\n",
    "한 개의 회의실이 있는데 이를 사용하고자 하는 N개의 회의에 대하여 회의실 사용표를 만들려고 한다. 각 회의 I에 대해 시작시간과 끝나는 시간이 주어져 있고, 각 회의가 겹치지 않게 하면서 회의실을 사용할 수 있는 회의의 최대 개수를 찾아보자. 단, 회의는 한번 시작하면 중간에 중단될 수 없으며 한 회의가 끝나는 것과 동시에 다음 회의가 시작될 수 있다. 회의의 시작시간과 끝나는 시간이 같을 수도 있다. 이 경우에는 시작하자마자 끝나는 것으로 생각하면 된다."
   ]
  },
  {
   "cell_type": "markdown",
   "id": "cdb76fab",
   "metadata": {},
   "source": [
    "### 입력\n",
    "첫째 줄에 회의의 수 N(1 ≤ N ≤ 100,000)이 주어진다. 둘째 줄부터 N+1 줄까지 각 회의의 정보가 주어지는데 이것은 공백을 사이에 두고 회의의 시작시간과 끝나는 시간이 주어진다. 시작 시간과 끝나는 시간은 231-1보다 작거나 같은 자연수 또는 0이다.\n",
    "\n",
    "### 출력\n",
    "첫째 줄에 최대 사용할 수 있는 회의의 최대 개수를 출력한다."
   ]
  },
  {
   "cell_type": "markdown",
   "id": "baf14a25",
   "metadata": {},
   "source": [
    "#### 예제 입력 1 \n",
    "11\n",
    "1 4\n",
    "3 5\n",
    "0 6\n",
    "5 7\n",
    "3 8\n",
    "5 9\n",
    "6 10\n",
    "8 11\n",
    "8 12\n",
    "2 13\n",
    "12 14\n",
    "#### 예제 출력 1 \n",
    "4"
   ]
  },
  {
   "cell_type": "markdown",
   "id": "9ca174f3",
   "metadata": {},
   "source": [
    "#### 힌트\n",
    "(1,4), (5,7), (8,11), (12,14) 를 이용할 수 있다."
   ]
  },
  {
   "cell_type": "code",
   "execution_count": 7,
   "id": "2e500e89",
   "metadata": {},
   "outputs": [
    {
     "name": "stdout",
     "output_type": "stream",
     "text": [
      "11\n",
      "1 4\n",
      "3 5\n",
      "0 6\n",
      "5 7\n",
      "3 8\n",
      "5 9\n",
      "6 10\n",
      "8 11\n",
      "8 12\n",
      "2 13\n",
      "12 14\n",
      "[[0, 6], [1, 4], [2, 13], [3, 5], [3, 8], [5, 7], [5, 9], [6, 10], [8, 11], [8, 12], [12, 14]]\n",
      "[[1, 4]]\n",
      "1\n"
     ]
    }
   ],
   "source": [
    "N = int(input())\n",
    "# arr = [[0 for j in range(2)] for i in range(N)]\n",
    "arr = list()\n",
    "count = 0\n",
    "n_arr = list()\n",
    "\n",
    "for i in range(N):    \n",
    "    arr.append(list(map(int, input().split())))\n",
    "arr.sort(key=lambda x:x[0])\n",
    "\n",
    "print(arr)\n",
    "# 첫 회의 정하기\n",
    "for j in range(N):\n",
    "    if (arr[j][1] - arr[j][0]) < (arr[j+1][1] - arr[j+1][0]):\n",
    "        count = j\n",
    "        n_arr.append(arr[j])\n",
    "        break\n",
    "        \n",
    "# 이후 회의 정하기 : 전 회의가 끝난 시간보다 현 회의가 시작한 시간이 큰 것 and 회의시간이 적은 것 (순차적으로 비교했을때 다음 회의 시간이 이전 회의시간보다 더 길다면 멈춘다.)\n",
    "for n in range(count, N-1):\n",
    "    if arr[n][1] <= arr[n+1][0]:\n",
    "        for m in range(n+1, N):\n",
    "            if (arr[n][1] - arr[n][0]) < (arr[m][1] - arr[m][0]):\n",
    "                n_arr.append(arr[m+1])\n",
    "                break\n",
    "        \n",
    "print(n_arr)\n",
    "print(len(n_arr))"
   ]
  },
  {
   "cell_type": "code",
   "execution_count": null,
   "id": "f30387b0",
   "metadata": {},
   "outputs": [],
   "source": []
  }
 ],
 "metadata": {
  "kernelspec": {
   "display_name": "Python 3 (ipykernel)",
   "language": "python",
   "name": "python3"
  },
  "language_info": {
   "codemirror_mode": {
    "name": "ipython",
    "version": 3
   },
   "file_extension": ".py",
   "mimetype": "text/x-python",
   "name": "python",
   "nbconvert_exporter": "python",
   "pygments_lexer": "ipython3",
   "version": "3.9.13"
  }
 },
 "nbformat": 4,
 "nbformat_minor": 5
}

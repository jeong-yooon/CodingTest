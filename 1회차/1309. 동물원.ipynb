{
 "cells": [
  {
   "cell_type": "markdown",
   "id": "8d207d38",
   "metadata": {},
   "source": [
    "## 문제\n",
    "어떤 동물원에 가로로 두칸 세로로 N칸인 아래와 같은 우리가 있다.\n",
    "\n",
    "이 동물원에는 사자들이 살고 있는데 사자들을 우리에 가둘 때, 가로로도 세로로도 붙어 있게 배치할 수는 없다. 이 동물원 조련사는 사자들의 배치 문제 때문에 골머리를 앓고 있다.\n",
    "\n",
    "동물원 조련사의 머리가 아프지 않도록 우리가 2*N 배열에 사자를 배치하는 경우의 수가 몇 가지인지를 알아내는 프로그램을 작성해 주도록 하자. 사자를 한 마리도 배치하지 않는 경우도 하나의 경우의 수로 친다고 가정한다."
   ]
  },
  {
   "cell_type": "markdown",
   "id": "16ea06b6",
   "metadata": {},
   "source": [
    "### 입력\n",
    "첫째 줄에 우리의 크기 N(1≤N≤100,000)이 주어진다.\n",
    "\n",
    "### 출력\n",
    "첫째 줄에 사자를 배치하는 경우의 수를 9901로 나눈 나머지를 출력하여라."
   ]
  },
  {
   "cell_type": "markdown",
   "id": "37c2efc8",
   "metadata": {},
   "source": [
    "#### 예제 입력 1 \n",
    "4\n",
    "#### 예제 출력 1 \n",
    "41"
   ]
  },
  {
   "cell_type": "code",
   "execution_count": 3,
   "id": "463095d1",
   "metadata": {},
   "outputs": [
    {
     "name": "stdout",
     "output_type": "stream",
     "text": [
      "6\n"
     ]
    }
   ],
   "source": [
    "# N = int(input())\n",
    "\n",
    "from itertools import combinations, permutations\n",
    "\n",
    "combi = len(list(combinations(nums, 2)))"
   ]
  },
  {
   "cell_type": "code",
   "execution_count": null,
   "id": "31f7d4f7",
   "metadata": {},
   "outputs": [],
   "source": []
  }
 ],
 "metadata": {
  "kernelspec": {
   "display_name": "Python 3 (ipykernel)",
   "language": "python",
   "name": "python3"
  },
  "language_info": {
   "codemirror_mode": {
    "name": "ipython",
    "version": 3
   },
   "file_extension": ".py",
   "mimetype": "text/x-python",
   "name": "python",
   "nbconvert_exporter": "python",
   "pygments_lexer": "ipython3",
   "version": "3.9.13"
  }
 },
 "nbformat": 4,
 "nbformat_minor": 5
}

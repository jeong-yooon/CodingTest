{
 "cells": [
  {
   "cell_type": "markdown",
   "id": "f8412edc",
   "metadata": {},
   "source": [
    "## 문제\n",
    "세준이는 양수와 +, -, 그리고 괄호를 가지고 식을 만들었다. 그리고 나서 세준이는 괄호를 모두 지웠다.\n",
    "\n",
    "그리고 나서 세준이는 괄호를 적절히 쳐서 이 식의 값을 최소로 만들려고 한다.\n",
    "\n",
    "괄호를 적절히 쳐서 이 식의 값을 최소로 만드는 프로그램을 작성하시오."
   ]
  },
  {
   "cell_type": "markdown",
   "id": "181507d0",
   "metadata": {},
   "source": [
    "### 입력\n",
    "첫째 줄에 식이 주어진다. 식은 ‘0’~‘9’, ‘+’, 그리고 ‘-’만으로 이루어져 있고, 가장 처음과 마지막 문자는 숫자이다. 그리고 연속해서 두 개 이상의 연산자가 나타나지 않고, 5자리보다 많이 연속되는 숫자는 없다. 수는 0으로 시작할 수 있다. 입력으로 주어지는 식의 길이는 50보다 작거나 같다.\n",
    "\n",
    "### 출력\n",
    "첫째 줄에 정답을 출력한다."
   ]
  },
  {
   "cell_type": "markdown",
   "id": "8a7daba7",
   "metadata": {},
   "source": [
    "#### 예제 입력 1 \n",
    "55-50+40\n",
    "\n",
    "#### 예제 출력 1 \n",
    "-35\n",
    "\n",
    "#### 예제 입력 2 \n",
    "10+20+30+40\n",
    "\n",
    "#### 예제 출력 2 \n",
    "100\n",
    "\n",
    "#### 예제 입력 3 \n",
    "00009-00009\n",
    "\n",
    "#### 예제 출력 3 \n",
    "0"
   ]
  },
  {
   "cell_type": "markdown",
   "id": "14ec7034",
   "metadata": {},
   "source": [
    "- 1개 -> 그대로 계산\n",
    "- 2개 이상 -> 첫 - 뒤에(와 두번째 - 숫자 뒤에 ) 와 그대로 비교"
   ]
  },
  {
   "cell_type": "code",
   "execution_count": null,
   "id": "fdca5cdd",
   "metadata": {},
   "outputs": [],
   "source": [
    "cal = input()\n",
    "\n"
   ]
  }
 ],
 "metadata": {
  "kernelspec": {
   "display_name": "Python 3 (ipykernel)",
   "language": "python",
   "name": "python3"
  },
  "language_info": {
   "codemirror_mode": {
    "name": "ipython",
    "version": 3
   },
   "file_extension": ".py",
   "mimetype": "text/x-python",
   "name": "python",
   "nbconvert_exporter": "python",
   "pygments_lexer": "ipython3",
   "version": "3.9.13"
  }
 },
 "nbformat": 4,
 "nbformat_minor": 5
}

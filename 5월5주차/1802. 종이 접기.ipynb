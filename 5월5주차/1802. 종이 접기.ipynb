{
 "cells": [
  {
   "cell_type": "markdown",
   "id": "3ce1dab9",
   "metadata": {},
   "source": [
    "## 문제\n",
    "동호는 종이를 접는데 옆에서 보고 접으려고 한다. 옆에서 본다는 말은 아래 그림과 같이 본다는 뜻이다. 동호는 종이를 반으로 접을 때, 아래와 같이 두가지중 하나로만 접을 수 있다.\n",
    "\n",
    "오른쪽 반을 반시계 방향으로 접어서 왼쪽 반의 위로 접는다.\n",
    "오른쪽 반을 시계 방향으로 접어서 왼쪽 반의 아래로 접는다.\n",
    "아래의 그림은 위의 설명을 그림으로 옮긴 것이다.\n",
    "\n",
    "한 번의 종이 접기가 끝났을 때, 동호는 종이 접기를 원하는 만큼 더 할 수 있다. 종이 접기를 한번 접을 때 마다 두께는 2배가 되고 길이는 절반이 될 것이다.\n",
    "\n",
    "종이 접기를 여러 번 했을 때 (안접을 수도 있다), 동호는 종이를 다시 피기로 했다. 그러고 나서 다시 접고 이렇게 놀고 있었다. 옆에서 보고 있던 원룡이는 동호를 위해 종이를 접어서 주기로 했다.(원룡이는 동호의 규칙대로 접지 않는다.) 동호는 그리고 나서 원룡이가 접었다 핀 종이를 다시 동호의 규칙대로 접을 수 있는지 궁금해졌다.\n",
    "\n",
    "위의 저 종이를 접었다 피면 다음과 같은 그림처럼 펴진다.\n",
    "\n",
    "종이가 시계방향으로 꺽여있으면 OUT이고, 반시계방향으로 꺾여있으면 IN이다.\n",
    "\n",
    "종이가 접혀있는 정보가 왼쪽부터 오른쪽까지 차례대로 주어졌을 때, 이 종이를 동호의 규칙대로 접을 수 있는지 없는지를 구하는 프로그램을 작성하시오.\n",
    "\n",
    "### 입력\n",
    "첫째 줄에 테스트 케이스의 개수 T가 주어진다. T는 1000보다 작거나 같은 자연수이다. 둘째 줄부터 T개의 줄에 각각의 종이가 어떻게 접혀있는지가 주어진다. 종이의 정보는 문자열로 주어지며, 1은 위의 그림에서 OUT을 의미하고 0은 위의 그림에서 IN을 의미한다. 예를 들어, 위의 그림과 같은 모양은 100으로 나타낼 수 있다. 문자열의 길이는 3000보다 작으며, 항상 2N-1꼴이다. (N ≥ 1)\n",
    "\n",
    "### 출력\n",
    "T개의 줄에 차례대로 각각의 종이를 동호의 방법대로 다시 접을 수 있으면 YES를, 접을 수 없으면 NO를 출력한다.\n",
    "\n",
    "### 예제 입력 1 \n",
    "3\n",
    "0\n",
    "000\n",
    "1000110\n",
    "\n",
    "### 예제 출력 1 \n",
    "YES\n",
    "NO\n",
    "YES"
   ]
  },
  {
   "cell_type": "markdown",
   "id": "dc9db827",
   "metadata": {},
   "source": [
    "#### 알고리즘 분류 및 풀이\n",
    "- 애드 혹\n",
    "- 분할 정복"
   ]
  },
  {
   "cell_type": "code",
   "execution_count": null,
   "id": "42447af2",
   "metadata": {},
   "outputs": [],
   "source": [
    "def fold(str):\n",
    "    todo = list(str)\n",
    "\n",
    "    while len(todo) >= 3:\n",
    "        for i in range(2, len(todo), 2):\n",
    "            if todo[i-2] == todo[i]:\n",
    "                return False\n",
    "\n",
    "        next_todo = []\n",
    "        for i in range(1, len(todo), 2):\n",
    "            next_todo.append(todo[i])\n",
    "\n",
    "        todo = next_todo\n",
    "\n",
    "    return True\n",
    "\n",
    "\n",
    "T = int(input())\n",
    "for _ in range(T):\n",
    "    case = str(input().rstrip())\n",
    "\n",
    "    if fold(case):\n",
    "        print(\"YES\")\n",
    "    else:\n",
    "        print(\"NO\")"
   ]
  }
 ],
 "metadata": {
  "kernelspec": {
   "display_name": "Python 3 (ipykernel)",
   "language": "python",
   "name": "python3"
  },
  "language_info": {
   "codemirror_mode": {
    "name": "ipython",
    "version": 3
   },
   "file_extension": ".py",
   "mimetype": "text/x-python",
   "name": "python",
   "nbconvert_exporter": "python",
   "pygments_lexer": "ipython3",
   "version": "3.9.13"
  }
 },
 "nbformat": 4,
 "nbformat_minor": 5
}

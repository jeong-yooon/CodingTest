{
 "cells": [
  {
   "attachments": {
    "image.png": {
     "image/png": "[encoded data removed]"
    }
   },
   "cell_type": "markdown",
   "id": "79a0f0c3",
   "metadata": {},
   "source": [
    "## 문제\n",
    "흑백 영상을 압축하여 표현하는 데이터 구조로 쿼드 트리(Quad Tree)라는 방법이 있다. 흰 점을 나타내는 0과 검은 점을 나타내는 1로만 이루어진 영상(2차원 배열)에서 같은 숫자의 점들이 한 곳에 많이 몰려있으면, 쿼드 트리에서는 이를 압축하여 간단히 표현할 수 있다.\n",
    "\n",
    "주어진 영상이 모두 0으로만 되어 있으면 압축 결과는 \"0\"이 되고, 모두 1로만 되어 있으면 압축 결과는 \"1\"이 된다. 만약 0과 1이 섞여 있으면 전체를 한 번에 나타내지를 못하고, 왼쪽 위, 오른쪽 위, 왼쪽 아래, 오른쪽 아래, 이렇게 4개의 영상으로 나누어 압축하게 되며, 이 4개의 영역을 압축한 결과를 차례대로 괄호 안에 묶어서 표현한다\n",
    "\n",
    "![image.png](attachment:image.png)\n",
    "\n",
    "위 그림에서 왼쪽의 영상은 오른쪽의 배열과 같이 숫자로 주어지며, 이 영상을 쿼드 트리 구조를 이용하여 압축하면 \"(0(0011)(0(0111)01)1)\"로 표현된다. N ×N 크기의 영상이 주어질 때, 이 영상을 압축한 결과를 출력하는 프로그램을 작성하시오.\n",
    "\n",
    "### 입력\n",
    "첫째 줄에는 영상의 크기를 나타내는 숫자 N 이 주어진다. N 은 언제나 2의 제곱수로 주어지며, 1 ≤ N ≤ 64의 범위를 가진다. 두 번째 줄부터는 길이 N의 문자열이 N개 들어온다. 각 문자열은 0 또는 1의 숫자로 이루어져 있으며, 영상의 각 점들을 나타낸다.\n",
    "\n",
    "### 출력\n",
    "영상을 압축한 결과를 출력한다.\n",
    "\n",
    "### 예제 입력 1 \n",
    "8\\\n",
    "11110000\\\n",
    "11110000\\\n",
    "00011100\\\n",
    "00011100\\\n",
    "11110000\\\n",
    "11110000\\\n",
    "11110011\\\n",
    "11110011\n",
    "\n",
    "### 예제 출력 1 \n",
    "((110(0101))(0010)1(0001))"
   ]
  },
  {
   "cell_type": "markdown",
   "id": "d552b83e",
   "metadata": {},
   "source": [
    "#### 알고리즘 및 풀이\n",
    "- 분할 정복\n",
    "- 재귀\n",
    "- 2차원배열을 절반씩 나누어가며 탐색을 진행한다.\n",
    "- https://velog.io/@shinhojung814/%EC%95%8C%EA%B3%A0%EB%A6%AC%EC%A6%98-WEEK-02-%EB%B6%84%ED%95%A0-%EC%A0%95%EB%B3%B5-%EB%AC%B8%EC%A0%9C%ED%92%80%EC%9D%B4"
   ]
  },
  {
   "cell_type": "code",
   "execution_count": 11,
   "id": "d84b1d08",
   "metadata": {},
   "outputs": [
    {
     "name": "stdout",
     "output_type": "stream",
     "text": [
      "8\n",
      "11110000\n",
      "11110000\n",
      "00011100\n",
      "00011100\n",
      "11110000\n",
      "11110000\n",
      "11110011\n",
      "11110011\n",
      "((110(0101))(0010)1(0001))"
     ]
    }
   ],
   "source": [
    "# 쿼드트리 함수 작성\n",
    "def quad_tree(N, x, y):\n",
    "    global arr, answer\n",
    "    vertex = arr[x][y] # 탐색을 위한 vertex 선언\n",
    "    \n",
    "    # 재귀 순환\n",
    "    for i in range(x, x + N):\n",
    "        for j in range(y, y + N):\n",
    "            if vertex != arr[i][j]: # 한 섹션의 수가 하나로 통일되지 않아있을 때\n",
    "                print('(',end='')\n",
    "                quad_tree(N // 2, x, y) # 왼쪽 위\n",
    "                quad_tree(N // 2, x, y + N // 2) # 오른쪽 위\n",
    "                quad_tree(N // 2, x + N // 2, y) # 왼쪽 아래\n",
    "                quad_tree(N // 2, x + N // 2, y + N // 2) # 오른쪽 아래\n",
    "                print(')',end='')\n",
    "                return\n",
    "            \n",
    "#     answer.append(vertex)\n",
    "    print(vertex,end='') # 재귀 한바퀴 돌 때마다 출력\n",
    "\n",
    "# 입력값 받기\n",
    "N = int(input())\n",
    "arr = []\n",
    "for i in range(N):\n",
    "    arr.append(list(input()))\n",
    "    \n",
    "quad_tree(N, 0, 0)"
   ]
  },
  {
   "cell_type": "code",
   "execution_count": null,
   "id": "f2849b52",
   "metadata": {},
   "outputs": [],
   "source": []
  }
 ],
 "metadata": {
  "kernelspec": {
   "display_name": "Python 3 (ipykernel)",
   "language": "python",
   "name": "python3"
  },
  "language_info": {
   "codemirror_mode": {
    "name": "ipython",
    "version": 3
   },
   "file_extension": ".py",
   "mimetype": "text/x-python",
   "name": "python",
   "nbconvert_exporter": "python",
   "pygments_lexer": "ipython3",
   "version": "3.9.13"
  }
 },
 "nbformat": 4,
 "nbformat_minor": 5
}

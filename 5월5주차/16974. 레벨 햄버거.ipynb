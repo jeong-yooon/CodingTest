{
 "cells": [
  {
   "cell_type": "markdown",
   "id": "c797f7fc",
   "metadata": {},
   "source": [
    "## 문제\n",
    "상근날드에서 오랜만에 새로운 햄버거를 출시했다. 바로 레벨-L 버거이다. 레벨-L 버거는 다음과 같이 만든다.\n",
    "\n",
    "- 레벨-0 버거는 패티만으로 이루어져 있다.\n",
    "- 레벨-L 버거는 햄버거번, 레벨-(L-1) 버거, 패티, 레벨-(L-1)버거, 햄버거번으로 이루어져 있다. (L ≥ 1)\n",
    "\n",
    "예를 들어, 레벨-1 버거는 'BPPPB', 레벨-2 버거는 'BBPPPBPBPPPBB'와 같이 생겼다. (B는 햄버거번, P는 패티)\n",
    "\n",
    "상도가 상근날드에 방문해서 레벨-N 버거를 시켰다. 상도가 햄버거의 아래 X장을 먹었을 때, 먹은 패티는 몇 장일까? 한 장은 햄버거번 또는 패티 한 장이다.\n",
    "\n",
    "### 입력\n",
    "첫째 줄에 N과 X가 주어진다.\n",
    "\n",
    "### 출력\n",
    "첫째 줄에 상도가 먹은 패티의 수를 출력한다.\n",
    "\n",
    "### 제한\n",
    "1 ≤ N ≤ 50\n",
    "1 ≤ X ≤ 레벨-N 버거에 있는 레이어의 수\n",
    "\n",
    "### 예제 입력 1 \n",
    "2 7\n",
    "\n",
    "### 예제 출력 1 \n",
    "4\n",
    "\n",
    "### 예제 입력 2 \n",
    "1 1\n",
    "\n",
    "### 예제 출력 2 \n",
    "0\n",
    "\n",
    "### 예제 입력 3 \n",
    "50 4321098765432109\n",
    "\n",
    "### 예제 출력 3 \n",
    "2160549382716056"
   ]
  },
  {
   "cell_type": "markdown",
   "id": "78c24513",
   "metadata": {},
   "source": [
    "#### 알고리즘 분류 및 풀이\n",
    "- 다이나믹 프로그래밍\n",
    "- 분할 정복\n",
    "- 재귀\n",
    "- 레벨-L = B(레벨-(L-1))P(레벨-(L-1))B"
   ]
  },
  {
   "cell_type": "code",
   "execution_count": null,
   "id": "60731d1f",
   "metadata": {},
   "outputs": [],
   "source": [
    "N, X = map(int, input().split())\n",
    "arr = ['P']\n",
    "\n",
    "def burgerP(N):\n",
    "    global arr\n",
    "    for i in range(N):\n",
    "        "
   ]
  }
 ],
 "metadata": {
  "kernelspec": {
   "display_name": "Python 3 (ipykernel)",
   "language": "python",
   "name": "python3"
  },
  "language_info": {
   "codemirror_mode": {
    "name": "ipython",
    "version": 3
   },
   "file_extension": ".py",
   "mimetype": "text/x-python",
   "name": "python",
   "nbconvert_exporter": "python",
   "pygments_lexer": "ipython3",
   "version": "3.9.13"
  }
 },
 "nbformat": 4,
 "nbformat_minor": 5
}

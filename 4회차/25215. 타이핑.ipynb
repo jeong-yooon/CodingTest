{
 "cells": [
  {
   "attachments": {
    "image.png": {
     "image/png": "[encoded data removed]"
    }
   },
   "cell_type": "markdown",
   "id": "288090ef",
   "metadata": {},
   "source": [
    "## 문제\n",
    "![image.png](attachment:image.png)\n",
    "\n",
    "민겸이는 영어 소문자와 대문자로 이루어진 문자열을 타이핑하기로 했다. 민겸이가 사용할 수 있는 버튼은 26개의 영어 알파벳 버튼과 마름모(◆) 버튼, 별(★) 버튼이다. 각 버튼은 아래와 같이 작동한다.\n",
    "\n",
    "알파벳 버튼을 누르면 소문자 또는 대문자 중 하나가 입력된다. 이때, 마름모 버튼이 활성화되어있다면 대문자, 아니라면 소문자가 입력된다. 마름모 버튼은 처음에 비활성화되어있다.\n",
    "마름모 버튼은 한번 누를 때마다 활성화 및 비활성화 여부가 바뀐다.\n",
    "별 버튼을 누르면 마지막으로 입력한 알파벳의 대소문자 여부가 바뀐다. 예를 들어 대문자가 마지막으로 입력되었을 경우 소문자로 바뀌고, 소문자가 마지막으로 입력되었을 경우 대문자로 바뀐다. 만약 마지막으로 입력한 알파벳이 없다면 작동하지 않는다.\n",
    "민겸이는 사용할 수 있는 28개의 버튼을 이용해 어떤 문자열을 입력하려고 한다. 이때, 가능한 한 적은 횟수만큼 버튼을 누르고 싶다. 민겸이가 해당 문자열을 입력하기 위해 버튼을 최소 몇 번 눌러야 하는지 알려주자.\n",
    "\n",
    "### 입력\n",
    "입력은 한 줄로 주어진다.\n",
    "\n",
    "첫 번째 줄에 민겸이가 타이핑할 문자열이 주어진다.\n",
    "\n",
    "### 출력\n",
    "민겸이가 해당 문자열을 입력하기 위해 버튼을 최소 몇 번 눌러야 하는지 출력한다.\n",
    "\n",
    "### 제한\n",
    "1 ≤ 문자열의 길이 ≤ 3,000\n",
    "주어지는 문자열은 알파벳 대소문자로만 이루어져 있다.\n",
    "\n",
    "### 예제 입력 1 \n",
    "iLoveINHA\n",
    "\n",
    "### 예제 출력 1 \n",
    "11\n",
    "\n",
    "I L ★ O V E ◆ I N H A 순으로 입력하면 버튼을 11번 누르고 입력할 수 있다.\n",
    "10번 이하의 입력으로 이 문자열을 입력하는 방법은 없다.\n",
    "\n",
    "### 예제 입력 2 \n",
    "ConquerThePlanet\n",
    "\n",
    "### 예제 출력 2 \n",
    "19"
   ]
  },
  {
   "cell_type": "markdown",
   "id": "fb853cf3",
   "metadata": {},
   "source": [
    "#### 풀이\n",
    "- 다이나믹 프로그래밍\n",
    "- 그리디 알고리즘\n",
    "- 연속되어 바뀌는 문자는 마름모 한글자만 바뀌는 문자는 별을 이용해 바꾼다.\n",
    "- 대문자 -> 소문자 / 소문자 -> 대문자 두가지 경우를 생각한다."
   ]
  },
  {
   "cell_type": "code",
   "execution_count": 1,
   "id": "5a2047b3",
   "metadata": {},
   "outputs": [
    {
     "name": "stdout",
     "output_type": "stream",
     "text": [
      "iLoveINHA\n",
      "11\n"
     ]
    }
   ],
   "source": [
    "str = input().rstrip()\n",
    "s = str\n",
    "answer = len(str)\n",
    "caps = False\n",
    "\n",
    "for i in range(len(str)):\n",
    "    st = str[i]\n",
    "    upper = st.isupper() # 문자열중 대문자를 발견하면\n",
    "    if(upper and not caps): # 소문자 -> 대문자\n",
    "        caps = True\n",
    "        answer += 1\n",
    "        if (i < len(str) - 1):\n",
    "            if (str[i + 1].islower()):  # 대문자가 연속적이지 않은 경우\n",
    "                caps = False\n",
    "\n",
    "    elif(caps and not upper): #대문자 -> 소문자\n",
    "        answer += 1\n",
    "        caps = False\n",
    "        if(i < len(str)-1):\n",
    "            if(str[i+1].isupper()): # 소문자가 연속적이지 않은 경우 (마름모)\n",
    "                caps = True\n",
    "print(answer)"
   ]
  },
  {
   "cell_type": "code",
   "execution_count": null,
   "id": "d722bc13",
   "metadata": {},
   "outputs": [],
   "source": []
  }
 ],
 "metadata": {
  "kernelspec": {
   "display_name": "Python 3 (ipykernel)",
   "language": "python",
   "name": "python3"
  },
  "language_info": {
   "codemirror_mode": {
    "name": "ipython",
    "version": 3
   },
   "file_extension": ".py",
   "mimetype": "text/x-python",
   "name": "python",
   "nbconvert_exporter": "python",
   "pygments_lexer": "ipython3",
   "version": "3.9.13"
  }
 },
 "nbformat": 4,
 "nbformat_minor": 5
}

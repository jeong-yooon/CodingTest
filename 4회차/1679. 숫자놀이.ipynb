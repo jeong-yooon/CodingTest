{
 "cells": [
  {
   "cell_type": "markdown",
   "id": "89865d80",
   "metadata": {},
   "source": [
    "## 문제\n",
    "홀순이(holsoon)와 짝순이(jjaksoon) 둘이서 숫자 게임을 한다. 예를 들어, 정수 1과 3이 주어지고, 이 둘을 통틀어 5번까지 마음대로 사용하여 그 합을 구하여 1,2,3,…을 만드는 놀이다. 이 경우 먼저 홀순이가 1 하나만을 사용하여 1을 만든다. 짝순이는 1+1로 1을 두 번 사용하여 2를 만들고, 다시 홀순이는 3을 만들어야하는데 1+1+1로 1을 세 번 사용하거나 3을 한 번 사용하여 3을 만든다. 짝순이는 1+1+1+1, 1+3으로 4를 만든다. 서로 번갈아서 상대방의 수보다 1이 큰 수를 만들어야 한다. 단, 1과 3을 통틀어 최대 5번 사용한다. 이런 식으로 진행하면 13까지는 만들 수 있지만 14를 만들지 못하게 되므로 짝순이가 졌다. \n",
    "\n",
    "숫자 게임에서 사용하는 정수 N개와 최대 사용 횟수 K가 주어질 때, 누가 어느 수에서 이기는지를 판별하는 프로그램을 작성해보자. 사용하는 정수에는 반드시 1이 포함된다. 그렇지 않으면 홀순이가 1을 만들지 못하므로 무조건 지게 된다. 1이 꼭 있으니 상대방이 만든 방법에 1만 한 번 더 쓰면 된다고 생각하기 쉽지만, 최대 사용 횟수가 정해져 있으므로, 이 방법이 수가 커지는 경우에는 잘 되지 않는다. 위에서 13을 홀순이가 만들었지만 짝순이는 최대 사용 횟수 때문에 14를 만들지 못하고 진다.\n",
    "\n",
    "### 입력\n",
    "첫째 줄에 숫자 게임에서 사용하는 정수의 수 N이, 둘째 줄에는 사용하는 정수가 크기 순으로 주어진다. 셋째 줄에는 최대 사용 횟수 K가 주어진다.\n",
    "\n",
    "### 출력\n",
    "첫째 줄에 누가 몇 번째 수에서 이겼는지를 출력한다. 예제에서는 짝순이가 14를 못 만들어서, 홀순이가 14에서 이겼다.\n",
    "\n",
    "### 제한\n",
    "1 ≤ N ≤ 1,000\n",
    "1 ≤ K ≤ 50\n",
    "숫자 게임에서 사용하는 정수는 1000보다 작거나 같은 자연수이고, 중복되는 수가 주어지지 않는다.\n",
    "\n",
    "### 예제 입력 1 \n",
    "2\\\n",
    "1 3\\\n",
    "5\n",
    "\n",
    "### 예제 출력 1 \n",
    "holsoon win at 14"
   ]
  },
  {
   "cell_type": "markdown",
   "id": "db376da0",
   "metadata": {},
   "source": [
    "#### 풀이\n",
    "- 다이나믹 프로그래밍\n",
    "- 그래프 이론\n",
    "- 그래프 탐색\n",
    "- 너비 우선 탐색\n",
    "- (리스트 내의 가장 큰수) * k 내의 범위 값이다.\n"
   ]
  },
  {
   "cell_type": "code",
   "execution_count": 4,
   "id": "e4649ef0",
   "metadata": {},
   "outputs": [
    {
     "name": "stdout",
     "output_type": "stream",
     "text": [
      "2\n",
      "1 3\n",
      "5\n",
      "holsoon win at 14\n"
     ]
    }
   ],
   "source": [
    "# n = int(input())\n",
    "# l=list(map(int,input().split()))\n",
    "# k = int(input())\n",
    "\n",
    "# dp=[float('inf') for _ in range(l[-1]*k+2)] # dp 범위지정\n",
    "\n",
    "# for i in range(1,l[-1]*k+2):\n",
    "#     if i in l:\n",
    "#         dp[i]=1\n",
    "#     else:\n",
    "#         for j in range(1,i//2+1):\n",
    "#             dp[i]=min(dp[i],dp[j]+dp[i-j])\n",
    "#     if dp[i]>k:\n",
    "#         s=\"holsoon\" if i%2==0 else \"jjaksoon\"\n",
    "#         print(f\"{s} win at {i}\")\n",
    "#         break"
   ]
  },
  {
   "cell_type": "code",
   "execution_count": 3,
   "id": "e8695eda",
   "metadata": {},
   "outputs": [
    {
     "name": "stdout",
     "output_type": "stream",
     "text": [
      "2\n",
      "1 3\n",
      "5\n",
      "1\n"
     ]
    }
   ],
   "source": [
    "# import sys\n",
    "\n",
    "# def solve(N, K):\n",
    "#     memo = [sys.maxsize] * (K+1)  # 메모이제이션 배열 초기화\n",
    "#     memo[N] = 0  # 시작 지점의 메모이제이션 값은 0\n",
    "\n",
    "#     for i in range(N-1, -1, -1):  # 역순으로 DP 진행\n",
    "#         for j in range(K, -1, -1):  # 역순으로 DP 진행\n",
    "#             if j-l[i] >= 0:  # j-l[i]가 0보다 크거나 같을 때\n",
    "#                 memo[j] = min(memo[j], memo[j-l[i]]+1)  # memo[j]를 업데이트\n",
    "#     return memo[K]  # K 지점의 최소 동작 수 반환\n",
    "\n",
    "# N = int(input())\n",
    "# l = list(map(int, input().split()))\n",
    "# K = int(input())\n",
    "# print(solve(N, K))"
   ]
  },
  {
   "cell_type": "code",
   "execution_count": null,
   "id": "44b64737",
   "metadata": {},
   "outputs": [],
   "source": []
  }
 ],
 "metadata": {
  "kernelspec": {
   "display_name": "Python 3 (ipykernel)",
   "language": "python",
   "name": "python3"
  },
  "language_info": {
   "codemirror_mode": {
    "name": "ipython",
    "version": 3
   },
   "file_extension": ".py",
   "mimetype": "text/x-python",
   "name": "python",
   "nbconvert_exporter": "python",
   "pygments_lexer": "ipython3",
   "version": "3.9.13"
  }
 },
 "nbformat": 4,
 "nbformat_minor": 5
}

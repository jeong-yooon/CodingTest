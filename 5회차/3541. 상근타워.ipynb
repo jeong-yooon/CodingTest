{
 "cells": [
  {
   "cell_type": "markdown",
   "id": "8062a94e",
   "metadata": {},
   "source": [
    "## 문제\n",
    "상근이는 남는 돈으로 매우 높은 빌딩 \"상근타워\"를 지었다.\n",
    "\n",
    "상근타워에는 엘리베이터가 m개가 있다. 각 엘리베이터에는 두 버튼이 있다. i번째 엘리베이터의 한 버튼은 ui 층을 올라가는 버튼이고, 다른 버튼은 di층 내려가는 버튼이다.\n",
    "\n",
    "상근타워의 가장 아래층(로비)은 0층이고, 그 다음 층부터는 증가하는 자연수이다. 엘리베이터를 타고 지하로 내려갈 수 없으며, 건물은 매우 높아 끝이 없다고 가정한다.\n",
    "\n",
    "상근이는 상근타워의 로비에 서있다. 이제, 엘리베이터중 하나를 골라서 타려고 한다. 엘리베이터를 탄 이후에는 다른 엘리베이터로 바꿔탈 수 없다. 이때, 엘리베이터 버튼을 정확하게 n번 눌러서 갈 수 있는 가장 낮은 층(로비는 제외)을 구하는 프로그램을 작성하시오.\n",
    "\n",
    "### 입력\n",
    "첫째 줄에 n과 m이 주어진다. (1 ≤ n ≤ 1,000,000, 1 ≤ m ≤ 2,000) 다음 m개 줄에는 각 엘리베이터의 버튼 ui와 di가 주어진다. (1 ≤ ui, di ≤ 1000)\n",
    "\n",
    "### 출력\n",
    "엘리베이터를 타고 버튼을 n번 눌러서 갈 수 있는 가장 낮은 층을 출력한다.\n",
    "\n",
    "### 예제 입력 1 \n",
    "10 3\\\n",
    "15 12\\\n",
    "15 4\\\n",
    "7 12\n",
    "\n",
    "### 예제 출력 1 \n",
    "13"
   ]
  },
  {
   "cell_type": "markdown",
   "id": "2da1e40a",
   "metadata": {},
   "source": [
    "#### 풀이\n",
    "- 수학\n",
    "- 이분탐색\n",
    "- 엘리베이터 갯수 = m\n",
    "- 버튼 누르는 횟수 = n\n",
    "- 각 엘리베이터별 가장 낮은 층을 구하고 그 중에 최솟값을 구한다."
   ]
  },
  {
   "cell_type": "code",
   "execution_count": 2,
   "id": "ce3ece04",
   "metadata": {},
   "outputs": [
    {
     "name": "stdout",
     "output_type": "stream",
     "text": [
      "10 3\n",
      "15 12\n",
      "15 4\n",
      "7 12\n",
      "14\n"
     ]
    }
   ],
   "source": [
    "n, m = map(int, input().split())\n",
    "\n",
    "# 엘리베이터의 이동 범위를 저장할 리스트\n",
    "up = [0] * m\n",
    "down = [0] * m\n",
    "\n",
    "for i in range(m):\n",
    "    up[i], down[i] = map(int, input().split())\n",
    "    \n",
    "# 최소 층수를 찾기 위해 n-1 번 버튼을 누른 후 최초로 이동할 수 있는 층은\n",
    "# 엘리베이터들 중 이동범위의 최댓값과 최솟값을 구한 후 비교하여 결정한다.\n",
    "min_floor = max(up) - 1\n",
    "\n",
    "for i in range(n - 1):\n",
    "    max_up = max(up) - 1 # 엘리베이터의 이동 범위 중 최댓값\n",
    "    min_down = min(down) # 엘리베이터의 이동 범위 중 최솟값\n",
    "    # 만약 이동 범위 중 최댓값이 0이면 더 이상 이동할 수 없는 것이므로 종료\n",
    "    if max_up == 0:\n",
    "        break\n",
    "    # 최소 층수를 업데이트 한다.\n",
    "    min_floor = min(min_floor, max_up)\n",
    "    # 다음 버튼을 누르기 전에 이동범위를 업데이트 한다.\n",
    "    for j in range(m):\n",
    "        if up[j] == max_up:\n",
    "            up[j] = down[j]\n",
    "        elif down[j] == min_down:\n",
    "            down[j] = up[j]\n",
    "\n",
    "print(min_floor)"
   ]
  },
  {
   "cell_type": "code",
   "execution_count": null,
   "id": "d0edfedc",
   "metadata": {},
   "outputs": [],
   "source": []
  }
 ],
 "metadata": {
  "kernelspec": {
   "display_name": "Python 3 (ipykernel)",
   "language": "python",
   "name": "python3"
  },
  "language_info": {
   "codemirror_mode": {
    "name": "ipython",
    "version": 3
   },
   "file_extension": ".py",
   "mimetype": "text/x-python",
   "name": "python",
   "nbconvert_exporter": "python",
   "pygments_lexer": "ipython3",
   "version": "3.9.13"
  }
 },
 "nbformat": 4,
 "nbformat_minor": 5
}

{
 "cells": [
  {
   "cell_type": "markdown",
   "id": "c71eb38d",
   "metadata": {},
   "source": [
    "## 문제\n",
    "정래는 김밥가게 “그르다 김가놈”에 납품할 김밥을 만드는 김밥 공장을 운영한다. 정래는 김밥 양쪽 끝을 “꼬다리”라고 부른다. 그리고 꼬다리를 잘라낸 김밥을 “손질된 김밥”이라고 부른다. \n",
    "\n",
    "공장에서는 김밥 N개에 대해서, 김밥 꼬다리를 잘라내고 손질된 김밥을 김밥조각으로 만드는 작업을 한다. 꼬다리를 잘라낼 때에는 양쪽에서 균일하게 K cm만큼 잘라낸다. 만약 김밥의 길이가 2K cm보다 짧아서 한쪽밖에 자르지 못한다면, 한쪽만 꼬다리를 잘라낸다. 김밥 길이가 K cm이거나 그보다 짧으면 그 김밥은 폐기한다.\n",
    "\n",
    "손질된 김밥들은 모두 일정한 길이 P로 잘라서 P cm의 김밥조각들로 만든다. P는 양의 정수여야 한다. 정래는 일정한 길이 P cm로 자른 김밥조각을 최소 M개 만들고 싶다. P를 최대한 길게 하고 싶을 때, P는 얼마로 설정해야 하는지 구하시오.\n",
    "\n",
    "### 입력\n",
    "첫 번째 줄에 손질해야 하는 김밥의 개수 N, 꼬다리의 길이 K, 김밥조각의 최소 개수 M이 주어진다. (1 ≤ N ≤ 106, 1 ≤ K, M ≤ 109, N, K, M은 정수)\n",
    "\n",
    "두 번째 줄부터 김밥의 길이 L이 N개 주어진다. (1 ≤ L ≤ 109, L은 정수)\n",
    "\n",
    "### 출력\n",
    "김밥조각의 길이 P를 최대로 할 때, P를 출력한다. 만족하는 P가 없는 경우, -1을 출력한다.\n",
    "\n",
    "### 예제 입력 1 \n",
    "3 6 4\\\n",
    "20\\\n",
    "10\\\n",
    "3\n",
    "\n",
    "### 예제 출력 1 \n",
    "2\n",
    "\n",
    "### 예제 입력 2 \n",
    "3 8 1\\\n",
    "16\\\n",
    "7\\\n",
    "8\n",
    "\n",
    "### 예제 출력 2 \n",
    "-1"
   ]
  },
  {
   "cell_type": "markdown",
   "id": "d622a9c3",
   "metadata": {},
   "source": [
    "#### 풀이\n",
    "- 이분 탐색\n",
    "- 김밥갯수 = N\n",
    "- 김밥길이 = L\n",
    "- 꼬다리 길이 = K (총 2K)\n",
    "- 손질된 김밥 길이 = P -> 최대한 길게 설정\n",
    "- 김밥조각 갯수 = M"
   ]
  },
  {
   "cell_type": "code",
   "execution_count": 5,
   "id": "31d8afe9",
   "metadata": {},
   "outputs": [
    {
     "name": "stdout",
     "output_type": "stream",
     "text": [
      "3 6 4\n",
      "20 \n",
      "10\n",
      "3\n",
      "2\n"
     ]
    }
   ],
   "source": [
    "def count(li, m):\n",
    "    t = 0\n",
    "    for n in li:\n",
    "        if n <= K: # 김밥길이가 꼬다리 길이보다 작으면 폐기\n",
    "            continue\n",
    "        elif n < 2*K: # 김밥길이가 꼬다리 하나길이보다 크고 두개길이보다 작으면 꼬다리 하나만 제거\n",
    "            n -= K\n",
    "        else:\n",
    "            n -= 2*K # 김밥길이가 꼬다리 두개길이보다 길면 꼬다리 두개 다 제거\n",
    "        t += n//m # 손질된 김밥길이를 중앙값으로 나눈다.\n",
    "    return t # 손질된 김밥길이에서 나올 수 있는 최대 김밥조각 갯수\n",
    "    \n",
    "N, K, M = map(int, input().split())\n",
    "li = [int(input()) for _ in range(N)]\n",
    "left, right = 1, max(li) # 가장 길이가 긴 김밥을 기준으로 시작값, 끝값 설정\n",
    "result = 0\n",
    "\n",
    "while left <= right:\n",
    "    m = (left+right)//2\n",
    "    if count(li, m) >= M: # 김밥조각갯수가 M보다 크거나 같으면\n",
    "        result = m\n",
    "        left = m+1\n",
    "    else: # 김밥조각갯수가 M보다 작으면\n",
    "        right = m-1\n",
    "        \n",
    "if result:\n",
    "    print(result)\n",
    "else:\n",
    "    print(-1)"
   ]
  },
  {
   "cell_type": "code",
   "execution_count": null,
   "id": "0418cacf",
   "metadata": {},
   "outputs": [],
   "source": []
  }
 ],
 "metadata": {
  "kernelspec": {
   "display_name": "Python 3 (ipykernel)",
   "language": "python",
   "name": "python3"
  },
  "language_info": {
   "codemirror_mode": {
    "name": "ipython",
    "version": 3
   },
   "file_extension": ".py",
   "mimetype": "text/x-python",
   "name": "python",
   "nbconvert_exporter": "python",
   "pygments_lexer": "ipython3",
   "version": "3.9.13"
  }
 },
 "nbformat": 4,
 "nbformat_minor": 5
}

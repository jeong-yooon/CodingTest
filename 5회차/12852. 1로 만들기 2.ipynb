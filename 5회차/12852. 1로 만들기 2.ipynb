{
 "cells": [
  {
   "cell_type": "markdown",
   "id": "9ccf691d",
   "metadata": {},
   "source": [
    "## 문제\n",
    "정수 X에 사용할 수 있는 연산은 다음과 같이 세 가지 이다.\n",
    "\n",
    "X가 3으로 나누어 떨어지면, 3으로 나눈다.\n",
    "X가 2로 나누어 떨어지면, 2로 나눈다.\n",
    "1을 뺀다.\n",
    "정수 N이 주어졌을 때, 위와 같은 연산 세 개를 적절히 사용해서 1을 만들려고 한다. 연산을 사용하는 횟수의 최솟값을 출력하시오.\n",
    "\n",
    "### 입력\n",
    "첫째 줄에 1보다 크거나 같고, 106보다 작거나 같은 자연수 N이 주어진다.\n",
    "\n",
    "### 출력\n",
    "첫째 줄에 연산을 하는 횟수의 최솟값을 출력한다.\n",
    "\n",
    "둘째 줄에는 N을 1로 만드는 방법에 포함되어 있는 수를 공백으로 구분해서 순서대로 출력한다. 정답이 여러 가지인 경우에는 아무거나 출력한다.\n",
    "\n",
    "### 예제 입력 1 \n",
    "2\n",
    "### 예제 출력 1 \n",
    "1\\\n",
    "2 1\n",
    "### 예제 입력 2 \n",
    "10\n",
    "### 예제 출력 2 \n",
    "3\\\n",
    "10 9 3 1"
   ]
  },
  {
   "cell_type": "markdown",
   "id": "78e19029",
   "metadata": {},
   "source": [
    "#### 풀이\n",
    "- 다이나믹 프로그래밍\n",
    "- 그래프 이론\n",
    "- 그래프 탐색\n",
    "- 경우의 수 : /3, /2, -1\n",
    "- 연산횟수와 최단 경로를 구하는 문제\n",
    "- 전체 문제를 부분 문제에 관한 점화식으로 세워보자.\n",
    "- 1부터 시작하여 x3, x2, +1의 연산을 활용하여 N을 구하는 방식으로 해보자.\n",
    "\n",
    "f(x)가\n",
    "1. f(x-1) + 1\n",
    "2. f(x/2) + 1\n",
    "3. f(x/3) + 1\n",
    "\n",
    "이 세 값중 최소를 갖는다는 방식이다. 뒤에 1을 더하는 이유는 x가 x-1,x/2,x/3로 가는 과정에서 count +=1이 되기 때문이다.\n",
    "또한 리스트 안에 또 리스트를 넣어 거쳐온 수들을 저장한다."
   ]
  },
  {
   "cell_type": "code",
   "execution_count": null,
   "id": "94ebc759",
   "metadata": {},
   "outputs": [],
   "source": [
    "N = int(input())\n",
    "\n",
    "result = [[0, []] for _ in range(N + 1)] #[최솟값, 경로 리스트]\n",
    "result[1][0] = 0 #최솟값\n",
    "result[1][1] = [1] #경로를 담을 리스트\n",
    "\n",
    "for i in range(2, N + 1):\n",
    "    #f(x-1) + 1   \n",
    "    result[i][0] = result[i-1][0] + 1\n",
    "    result[i][1] = result[i-1][1] + [i] #경로이므로 지나온 리스트를 추가해줌\n",
    "\n",
    "    #f(x//3) + 1   \n",
    "    if i % 3 == 0 and result[i//3][0] + 1 < result[i][0]:\n",
    "        result[i][0] = result[i//3][0] + 1\n",
    "        result[i][1] = result[i//3][1] + [i]\n",
    "\n",
    "    #f(x//2) + 1   \n",
    "    if i % 2 == 0 and result[i//2][0] + 1 < min(result[i][0],result[i//3][0] + 1 ):\n",
    "        result[i][0] = result[i//2][0] + 1\n",
    "        result[i][1] = result[i//2][1] + [i]\n",
    "\n",
    "print(result[N][0])\n",
    "for i in result[N][1][::-1]: #뒤집은 뒤 출력\n",
    "    print(i, end=' ')"
   ]
  },
  {
   "cell_type": "code",
   "execution_count": 5,
   "id": "bd2237c3",
   "metadata": {},
   "outputs": [
    {
     "name": "stdout",
     "output_type": "stream",
     "text": [
      "10\n",
      "3\n",
      "10 9 3 1 "
     ]
    }
   ],
   "source": [
    "N = int(input())\n",
    "count = 0\n",
    "arr = []\n",
    "arr.append(N)\n",
    "\n",
    "while N != 1:\n",
    "    if N%3 == 0:\n",
    "        N = N//3\n",
    "        count += 1\n",
    "        arr.append(N)\n",
    "\n",
    "    elif (N-1)%3 == 0:\n",
    "        arr.append(N-1)\n",
    "        N = N//3\n",
    "        count += 2\n",
    "        arr.append(N)\n",
    "        \n",
    "    elif N%2 == 0:\n",
    "        N = N//2\n",
    "        count += 1\n",
    "        arr.append(N)\n",
    "        \n",
    "    else:\n",
    "        N -= 1\n",
    "        count += 1\n",
    "        arr.append(N)\n",
    "print(count)\n",
    "for i in arr:\n",
    "    print(i, end = ' ')"
   ]
  },
  {
   "cell_type": "code",
   "execution_count": null,
   "id": "dfe66d67",
   "metadata": {},
   "outputs": [],
   "source": []
  }
 ],
 "metadata": {
  "kernelspec": {
   "display_name": "Python 3 (ipykernel)",
   "language": "python",
   "name": "python3"
  },
  "language_info": {
   "codemirror_mode": {
    "name": "ipython",
    "version": 3
   },
   "file_extension": ".py",
   "mimetype": "text/x-python",
   "name": "python",
   "nbconvert_exporter": "python",
   "pygments_lexer": "ipython3",
   "version": "3.9.13"
  }
 },
 "nbformat": 4,
 "nbformat_minor": 5
}

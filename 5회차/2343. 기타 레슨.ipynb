{
 "cells": [
  {
   "cell_type": "markdown",
   "id": "38dfd485",
   "metadata": {},
   "source": [
    "## 문제\n",
    "강토는 자신의 기타 강의 동영상을 블루레이로 만들어 판매하려고 한다. 블루레이에는 총 N개의 강의가 들어가는데, 블루레이를 녹화할 때, 강의의 순서가 바뀌면 안 된다. 순서가 뒤바뀌는 경우에는 강의의 흐름이 끊겨, 학생들이 대혼란에 빠질 수 있기 때문이다. 즉, i번 강의와 j번 강의를 같은 블루레이에 녹화하려면 i와 j 사이의 모든 강의도 같은 블루레이에 녹화해야 한다.\n",
    "강토는 이 블루레이가 얼마나 팔릴지 아직 알 수 없기 때문에, 블루레이의 개수를 가급적 줄이려고 한다. 오랜 고민 끝에 강토는 M개의 블루레이에 모든 기타 강의 동영상을 녹화하기로 했다. 이때, 블루레이의 크기(녹화 가능한 길이)를 최소로 하려고 한다. 단, M개의 블루레이는 모두 같은 크기이어야 한다.\n",
    "강토의 각 강의의 길이가 분 단위(자연수)로 주어진다. 이때, 가능한 블루레이의 크기 중 최소를 구하는 프로그램을 작성하시오.\n",
    "\n",
    "### 입력\n",
    "첫째 줄에 강의의 수 N (1 ≤ N ≤ 100,000)과 M (1 ≤ M ≤ N)이 주어진다. 다음 줄에는 강토의 기타 강의의 길이가 강의 순서대로 분 단위로(자연수)로 주어진다. 각 강의의 길이는 10,000분을 넘지 않는다.\n",
    "\n",
    "### 출력\n",
    "첫째 줄에 가능한 블루레이 크기중 최소를 출력한다.\n",
    "\n",
    "### 예제 입력 1 \n",
    "9 3\\\n",
    "1 2 3 4 5 6 7 8 9\n",
    "\n",
    "### 예제 출력 1 \n",
    "17\n",
    "\n",
    "### 힌트\n",
    "강의는 총 9개이고, 블루레이는 총 3개 가지고 있다.\n",
    "1번 블루레이에 1, 2, 3, 4, 5, 2번 블루레이에 6, 7, 3번 블루레이에 8, 9 를 넣으면 각 블루레이의 크기는 15, 13, 17이 된다. 블루레이의 크기는 모두 같아야 하기 때문에, 블루레이의 크기는 17이 된다. 17보다 더 작은 크기를 가지는 블루레이를 만들 수 없다."
   ]
  },
  {
   "cell_type": "markdown",
   "id": "18eb58d5",
   "metadata": {},
   "source": [
    "#### 풀이\n",
    "- 이진 탐색\n",
    "- 매개 변수 탐색\n",
    "- 강의 순서 유지\n",
    "- 블루레이는 모두 같은 크기\n",
    "- 블루레이의 길이를 최소로 하려면 블루레이 한쪽에 너무 많은 강의가 쏠려선 안된다. = 고르게 분포되어야 한다.\n",
    "- M개의 블루레이중 가장 강의길이가 긴 것을 출력값으로 지정\n",
    "- N개의 숫자들을 순서대로 M개씩 분류했을 때 각각의 분류들의 합의 차가 최소가 되는 경우의 수를 찾아야 한다.\n",
    "\n",
    "1. left는 동영상 길이의 최솟값, right은 동영상 길이의 최댓값\n",
    "    - 동영상 길이의 최솟값은 강의 중 가장 마지막 강의 하나를 선택했을 때이다.\n",
    "    - 동영상 길이의 최댓값은 모든 강의를 선택했을 때이다.\n",
    "2. 이분탐색\n",
    "    - 강의를 순서대로 블루레이에 넣는다. 길이는 mid\n",
    "    - 강의를 넣고 나온 블루레이의 개수가 M보다 크면 left = mid + 1\n",
    "    - M보다 작으면 right = mid + 1, answer = mid\n",
    "\n",
    "[참고] https://we1cometomeanings.tistory.com/228"
   ]
  },
  {
   "cell_type": "code",
   "execution_count": 1,
   "id": "e84ef889",
   "metadata": {},
   "outputs": [
    {
     "name": "stdout",
     "output_type": "stream",
     "text": [
      "9 3\n",
      "1 2 3 4 5 6 7 8 9\n",
      "17\n"
     ]
    }
   ],
   "source": [
    "N, M = map(int, input().split())\n",
    "arr = list(map(int, input().split()))\n",
    "\n",
    "answer = 0\n",
    "left, right = max(arr), sum(arr)\n",
    "\n",
    "while left <= right:\n",
    "    mid = (left+right)//2\n",
    "\n",
    "    # 블루레이에 강의 넣기\n",
    "    count, sum = 0, 0 # 블루레이 갯수, 한 블루레이 내의 강의 총 길이\n",
    "    for i in range(N):\n",
    "        if sum + arr[i] > mid: # 각 강의들을 순회하며 해당 블루레이 내의 강의 길이 합이 mid보다 크다면 블루레이 저장을 끝낸다.\n",
    "            count += 1\n",
    "            sum = 0\n",
    "        sum += arr[i]\n",
    "    if sum: # 블루레이에 강의가 들어있다면\n",
    "        count += 1\n",
    "\n",
    "    if count > M: # 카운팅한 블루레이 갯수가 M 보다 많다면 \n",
    "        left = mid + 1 # 최소값을 중앙값으로 옮겨 다시 진행한다.\n",
    "        \n",
    "    else: # 카운팅한 블루레이 갯수가 M 보다 적거나 같으면\n",
    "        right = mid - 1 # 최댓값을 중앙값으로 옮겨 다시 진행한다.\n",
    "        answer = mid\n",
    "\n",
    "print(answer)"
   ]
  },
  {
   "cell_type": "code",
   "execution_count": null,
   "id": "68077b74",
   "metadata": {},
   "outputs": [],
   "source": []
  }
 ],
 "metadata": {
  "kernelspec": {
   "display_name": "Python 3 (ipykernel)",
   "language": "python",
   "name": "python3"
  },
  "language_info": {
   "codemirror_mode": {
    "name": "ipython",
    "version": 3
   },
   "file_extension": ".py",
   "mimetype": "text/x-python",
   "name": "python",
   "nbconvert_exporter": "python",
   "pygments_lexer": "ipython3",
   "version": "3.9.13"
  }
 },
 "nbformat": 4,
 "nbformat_minor": 5
}

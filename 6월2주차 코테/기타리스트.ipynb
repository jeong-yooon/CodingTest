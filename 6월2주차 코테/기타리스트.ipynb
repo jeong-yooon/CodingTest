{
 "cells": [
  {
   "cell_type": "markdown",
   "id": "95e405a8",
   "metadata": {},
   "source": [
    "#### 풀이\n",
    "- N개의 곡 연주\n",
    "- 매번 볼륨 변경\n",
    "- 볼륨 리스트 V\n",
    "- 0 < 볼륨 < M"
   ]
  },
  {
   "cell_type": "code",
   "execution_count": null,
   "id": "ae5fd42a",
   "metadata": {},
   "outputs": [],
   "source": []
  }
 ],
 "metadata": {
  "kernelspec": {
   "display_name": "Python 3 (ipykernel)",
   "language": "python",
   "name": "python3"
  },
  "language_info": {
   "codemirror_mode": {
    "name": "ipython",
    "version": 3
   },
   "file_extension": ".py",
   "mimetype": "text/x-python",
   "name": "python",
   "nbconvert_exporter": "python",
   "pygments_lexer": "ipython3",
   "version": "3.9.13"
  }
 },
 "nbformat": 4,
 "nbformat_minor": 5
}

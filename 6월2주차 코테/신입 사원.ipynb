{
 "cells": [
  {
   "cell_type": "markdown",
   "id": "1888ae1f",
   "metadata": {},
   "source": [
    "####  풀이\n",
    "- 1차 서류심사 / 2차 면접시험\n",
    "    - 둘다 낮으면 탈락\n",
    "    - 서류심사 성적과 면접시험 성적 중 적어도 하나가 다른 지원자보다 떨어지지 않는 자만 선발\n",
    "    - 각 분야의 1등들을 우선 선발 한뒤 1외의 값끼리 비교해서 더 높은 등수가 있다면 출력값에 추가해준다.\n",
    "- 출력 값: 선발할 수 있는 최대 신입사원 인원 수"
   ]
  },
  {
   "cell_type": "code",
   "execution_count": 27,
   "id": "2f0f7068",
   "metadata": {
    "scrolled": true
   },
   "outputs": [
    {
     "name": "stdout",
     "output_type": "stream",
     "text": [
      "2\n",
      "5\n",
      "3 2\n",
      "1 4\n",
      "4 1\n",
      "2 3\n",
      "5 5\n",
      "4\n",
      "7\n",
      "3 6\n",
      "7 3\n",
      "4 2\n",
      "1 4\n",
      "5 7\n",
      "2 5\n",
      "6 1\n",
      "3\n"
     ]
    }
   ],
   "source": [
    "# import sys\n",
    "# input = sys.stdin.readline\n",
    "T = int(input())\n",
    "\n",
    "for _ in range(T): # 테스트 케이스만큼 반복\n",
    "    N = int(input())\n",
    "    arr = []\n",
    "    A, B, count = 0, 0, 0 # A는 면접시험 1등한 사람의 서류심사 등수 / B는 서류심사1등한 사람의 면접시험 등수 \n",
    "    \n",
    "    for i in range(N): # 인원수 만큼 반복\n",
    "        arr.append(list(map(int, input().split())))\n",
    "        if arr[i][0] == arr[i][1] == 1:\n",
    "            A, B == 1, 1\n",
    "            count += 1\n",
    "        else:\n",
    "            if arr[i][1] == 1: \n",
    "                A = arr[i][0]\n",
    "                count += 1\n",
    "            if arr[i][0] == 1:\n",
    "                B = arr[i][1]\n",
    "                count += 1\n",
    "\n",
    "    for j in range(N):\n",
    "        if (arr[j][0] < A) and (arr[j][1] < B):\n",
    "            count += 1\n",
    "    print(count)"
   ]
  },
  {
   "cell_type": "code",
   "execution_count": null,
   "id": "aa7e09a5",
   "metadata": {},
   "outputs": [],
   "source": []
  }
 ],
 "metadata": {
  "kernelspec": {
   "display_name": "Python 3 (ipykernel)",
   "language": "python",
   "name": "python3"
  },
  "language_info": {
   "codemirror_mode": {
    "name": "ipython",
    "version": 3
   },
   "file_extension": ".py",
   "mimetype": "text/x-python",
   "name": "python",
   "nbconvert_exporter": "python",
   "pygments_lexer": "ipython3",
   "version": "3.9.13"
  }
 },
 "nbformat": 4,
 "nbformat_minor": 5
}

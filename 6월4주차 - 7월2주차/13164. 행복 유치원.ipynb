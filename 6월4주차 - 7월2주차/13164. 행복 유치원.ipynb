{
 "cells": [
  {
   "cell_type": "markdown",
   "id": "302ed8fb",
   "metadata": {},
   "source": [
    "## 문제\n",
    "행복 유치원 원장인 태양이는 어느 날 N명의 원생들을 키 순서대로 일렬로 줄 세우고, 총 K개의 조로 나누려고 한다. 각 조에는 원생이 적어도 한 명 있어야 하며, 같은 조에 속한 원생들은 서로 인접해 있어야 한다. 조별로 인원수가 같을 필요는 없다.\n",
    "\n",
    "이렇게 나뉘어진 조들은 각자 단체 티셔츠를 맞추려고 한다. 조마다 티셔츠를 맞추는 비용은 조에서 가장 키가 큰 원생과 가장 키가 작은 원생의 키 차이만큼 든다. 최대한 비용을 아끼고 싶어 하는 태양이는 K개의 조에 대해 티셔츠 만드는 비용의 합을 최소로 하고 싶어한다. 태양이를 도와 최소의 비용을 구하자.\n",
    "\n",
    "### 입력\n",
    "입력의 첫 줄에는 유치원에 있는 원생의 수를 나타내는 자연수 N(1 ≤ N ≤ 300,000)과 나누려고 하는 조의 개수를 나타내는 자연수 K(1 ≤ K ≤ N)가 공백으로 구분되어 주어진다. 다음 줄에는 원생들의 키를 나타내는 N개의 자연수가 공백으로 구분되어 줄 서 있는 순서대로 주어진다. 태양이는 원생들을 키 순서대로 줄 세웠으므로, 왼쪽에 있는 원생이 오른쪽에 있는 원생보다 크지 않다. 원생의 키는 10^9를 넘지 않는 자연수이다.\n",
    "\n",
    "### 출력\n",
    "티셔츠 만드는 비용이 최소가 되도록 K개의 조로 나누었을 때, 티셔츠 만드는 비용을 출력한다.\n",
    "\n",
    "### 예제 입력 1 \n",
    "5 3\\\n",
    "1 3 5 6 10\n",
    "\n",
    "### 예제 출력 1 \n",
    "3\n",
    "\n",
    "### 힌트\n",
    "- 1조: 1, 3\n",
    "- 2조: 5, 6\n",
    "- 3조: 10"
   ]
  },
  {
   "cell_type": "markdown",
   "id": "34af0f34",
   "metadata": {},
   "source": [
    "#### 알고리즘 분류\n",
    "- 그리디 알고리즘\n",
    "- 정렬\n",
    "\n",
    "#### 풀이\n",
    "- "
   ]
  },
  {
   "cell_type": "code",
   "execution_count": null,
   "id": "0c54581d",
   "metadata": {},
   "outputs": [],
   "source": []
  }
 ],
 "metadata": {
  "kernelspec": {
   "display_name": "Python 3 (ipykernel)",
   "language": "python",
   "name": "python3"
  },
  "language_info": {
   "codemirror_mode": {
    "name": "ipython",
    "version": 3
   },
   "file_extension": ".py",
   "mimetype": "text/x-python",
   "name": "python",
   "nbconvert_exporter": "python",
   "pygments_lexer": "ipython3",
   "version": "3.9.13"
  }
 },
 "nbformat": 4,
 "nbformat_minor": 5
}

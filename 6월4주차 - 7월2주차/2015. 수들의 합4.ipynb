{
 "cells": [
  {
   "cell_type": "markdown",
   "id": "1d39ce72",
   "metadata": {},
   "source": [
    "## 문제\n",
    "A[1], A[2], ..., A[N]의 N개의 정수가 저장되어 있는 배열이 있다. 이 배열 A의 부분합이란 1 ≤ i ≤ j ≤ N인 정수 i와 j에 대해 A[i]부터 A[j]까지의 합을 말한다.\n",
    "\n",
    "N과 A[1], A[2], ..., A[N]이 주어졌을 때, 이러한 N×(N+1)/2개의 부분합 중 합이 K인 것이 몇 개나 있는지를 구하는 프로그램을 작성하시오.\n",
    "\n",
    "### 입력\n",
    "첫째 줄에 정수 N과 K가 주어진다. (1 ≤ N ≤ 200,000, |K| ≤ 2,000,000,000) N과 K 사이에는 빈칸이 하나 있다. 둘째 줄에는 배열 A를 이루는 N개의 정수가 빈 칸을 사이에 두고 A[1], A[2], ..., A[N]의 순서로 주어진다. 주어지는 정수의 절댓값은 10,000을 넘지 않는다.\n",
    "\n",
    "### 출력\n",
    "첫째 줄에 합이 K인 부분합의 개수를 출력한다.\n",
    "\n",
    "### 예제 입력 1 \n",
    "4 0\\\n",
    "2 -2 2 -2\n",
    "\n",
    "### 예제 출력 1 \n",
    "4\n",
    "\n",
    "### 예제 입력 2 \n",
    "6 5\\\n",
    "1 2 3 4 5 0\n",
    "\n",
    "### 예제 출력 2 \n",
    "3"
   ]
  },
  {
   "cell_type": "markdown",
   "id": "877410b4",
   "metadata": {},
   "source": [
    "#### 알고리즘 분류\n",
    "- 자료 구조\n",
    "- 누적 합\n",
    "- 해시를 사용한 집합과 맵\n",
    "- 트리를 사용한 집합과 맵\n",
    "\n",
    "#### 풀이\n",
    "- 부분합 구하기\n",
    "- 조합 활용"
   ]
  },
  {
   "cell_type": "code",
   "execution_count": 3,
   "id": "edf78763",
   "metadata": {},
   "outputs": [
    {
     "name": "stdout",
     "output_type": "stream",
     "text": [
      "6 5 \n",
      "1 2 3 4 5 0\n",
      "3\n"
     ]
    }
   ],
   "source": [
    "# 시간초과\n",
    "import sys\n",
    "# import itertools\n",
    "# input = sys.stdin.readline\n",
    "\n",
    "N, K = map(int, input().split())\n",
    "A = list(map(int, input().split()))\n",
    "count = 0\n",
    "\n",
    "select = itertools.combinations(A, 2)\n",
    "\n",
    "for i in select:\n",
    "    if sum(i) == K:\n",
    "        count += 1\n",
    "print(count)"
   ]
  },
  {
   "cell_type": "code",
   "execution_count": null,
   "id": "79d25175",
   "metadata": {},
   "outputs": [],
   "source": []
  }
 ],
 "metadata": {
  "kernelspec": {
   "display_name": "Python 3 (ipykernel)",
   "language": "python",
   "name": "python3"
  },
  "language_info": {
   "codemirror_mode": {
    "name": "ipython",
    "version": 3
   },
   "file_extension": ".py",
   "mimetype": "text/x-python",
   "name": "python",
   "nbconvert_exporter": "python",
   "pygments_lexer": "ipython3",
   "version": "3.9.13"
  }
 },
 "nbformat": 4,
 "nbformat_minor": 5
}

{
 "cells": [
  {
   "cell_type": "markdown",
   "id": "80b6850d",
   "metadata": {},
   "source": [
    "## 문제\n",
    "어떤 수와 그 수의 숫자 순서를 뒤집은 수가 일치하는 수를 팰린드롬이라 부른다. 예를 들어 79,197과 324,423 등이 팰린드롬 수이다.\n",
    "\n",
    "어떤 수 N (1 ≤ N ≤ 1,000,000)이 주어졌을 때, N보다 크거나 같고, 소수이면서 팰린드롬인 수 중에서, 가장 작은 수를 구하는 프로그램을 작성하시오.\n",
    "\n",
    "### 입력\n",
    "첫째 줄에 N이 주어진다.\n",
    "\n",
    "### 출력\n",
    "첫째 줄에 조건을 만족하는 수를 출력한다.\n",
    "\n",
    "### 예제 입력 1 \n",
    "31\n",
    "\n",
    "### 예제 출력 1 \n",
    "101"
   ]
  },
  {
   "cell_type": "markdown",
   "id": "3736d048",
   "metadata": {},
   "source": [
    "#### 알고리즘 분류\n",
    "- 수학\n",
    "- 브루트포스 알고리즘\n",
    "- 정수론\n",
    "- 소수 판정\n",
    "- 에라토스테네스의 체\n",
    "\n",
    "#### 풀이\n",
    "- N보다 커야한다.\n",
    "- 팰린드롬이여야 한다.\n",
    "- 소수여야 한다.\n",
    "- 최솟값"
   ]
  },
  {
   "cell_type": "code",
   "execution_count": 1,
   "id": "1b35e75a",
   "metadata": {},
   "outputs": [
    {
     "name": "stdout",
     "output_type": "stream",
     "text": [
      "31\n",
      "101\n"
     ]
    }
   ],
   "source": [
    "import math\n",
    "\n",
    "def isPrime(x): # 소수인지 판별해주는 함수\n",
    "    for i in range(2, int(math.sqrt(x)+1)):\n",
    "        if x % i == 0:\n",
    "            return False\n",
    "    return True\n",
    "\n",
    "N = int(input())\n",
    "result = 0\n",
    "\n",
    "for i in range(N, 1000001): # 입력값 N 부터 최대값 까지 순환\n",
    "    if i == 1: # 1은 소수가 아니기 때문에 예외처리\n",
    "        continue\n",
    "    if str(i) == str(i)[::-1]: # 팰림드롬 수 일 경우\n",
    "        if isPrime(i) == True: # 소수 판별 함수 적용\n",
    "            result = i\n",
    "            break\n",
    "\n",
    "if result == 0: # 입력값이 만약 최대 값 100만일 경우\n",
    "    result = 1003001 # 100만 이상이면서 팰림드롬 및 소수일 경우를 적용\n",
    "\n",
    "print(result)"
   ]
  },
  {
   "cell_type": "code",
   "execution_count": null,
   "id": "e9d2b329",
   "metadata": {},
   "outputs": [],
   "source": []
  }
 ],
 "metadata": {
  "kernelspec": {
   "display_name": "Python 3 (ipykernel)",
   "language": "python",
   "name": "python3"
  },
  "language_info": {
   "codemirror_mode": {
    "name": "ipython",
    "version": 3
   },
   "file_extension": ".py",
   "mimetype": "text/x-python",
   "name": "python",
   "nbconvert_exporter": "python",
   "pygments_lexer": "ipython3",
   "version": "3.9.13"
  }
 },
 "nbformat": 4,
 "nbformat_minor": 5
}

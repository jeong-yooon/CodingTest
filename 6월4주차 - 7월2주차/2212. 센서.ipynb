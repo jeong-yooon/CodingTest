{
 "cells": [
  {
   "cell_type": "markdown",
   "id": "e5cf262a",
   "metadata": {},
   "source": [
    "## 문제\n",
    "한국도로공사는 고속도로의 유비쿼터스화를 위해 고속도로 위에 N개의 센서를 설치하였다. 문제는 이 센서들이 수집한 자료들을 모으고 분석할 몇 개의 집중국을 세우는 일인데, 예산상의 문제로, 고속도로 위에 최대 K개의 집중국을 세울 수 있다고 한다.\n",
    "\n",
    "각 집중국은 센서의 수신 가능 영역을 조절할 수 있다. 집중국의 수신 가능 영역은 고속도로 상에서 연결된 구간으로 나타나게 된다. N개의 센서가 적어도 하나의 집중국과는 통신이 가능해야 하며, 집중국의 유지비 문제로 인해 각 집중국의 수신 가능 영역의 길이의 합을 최소화해야 한다.\n",
    "\n",
    "편의를 위해 고속도로는 평면상의 직선이라고 가정하고, 센서들은 이 직선 위의 한 기점인 원점으로부터의 정수 거리의 위치에 놓여 있다고 하자. 따라서, 각 센서의 좌표는 정수 하나로 표현된다. 이 상황에서 각 집중국의 수신 가능영역의 거리의 합의 최솟값을 구하는 프로그램을 작성하시오. 단, 집중국의 수신 가능영역의 길이는 0 이상이며 모든 센서의 좌표가 다를 필요는 없다.\n",
    "\n",
    "### 입력\n",
    "첫째 줄에 센서의 개수 N(1 ≤ N ≤ 10,000), 둘째 줄에 집중국의 개수 K(1 ≤ K ≤ 1000)가 주어진다. 셋째 줄에는 N개의 센서의 좌표가 한 개의 정수로 N개 주어진다. 각 좌표 사이에는 빈 칸이 하나 있으며, 좌표의 절댓값은 1,000,000 이하이다.\n",
    "\n",
    "### 출력\n",
    "첫째 줄에 문제에서 설명한 최대 K개의 집중국의 수신 가능 영역의 길이의 합의 최솟값을 출력한다.\n",
    "\n",
    "### 예제 입력 1 \n",
    "6\n",
    "2\n",
    "1 6 9 3 6 7\n",
    "\n",
    "### 예제 출력 1 \n",
    "5\n",
    "\n",
    "### 예제 입력 2 \n",
    "10\n",
    "5\n",
    "20 3 14 6 7 8 18 10 12 15\n",
    "\n",
    "### 예제 출력 2 \n",
    "7"
   ]
  },
  {
   "cell_type": "markdown",
   "id": "f7dfab74",
   "metadata": {},
   "source": [
    "#### 알고리즘 분류\n",
    "- 그리디 알고리즘\n",
    "- 정렬\n",
    "\n",
    "#### 풀이\n"
   ]
  },
  {
   "cell_type": "code",
   "execution_count": 1,
   "id": "dc3a1356",
   "metadata": {},
   "outputs": [
    {
     "name": "stdout",
     "output_type": "stream",
     "text": [
      "6\n",
      "2\n",
      "1 6 9 3 6 7\n",
      "5\n"
     ]
    }
   ],
   "source": [
    "N = int(input())\n",
    "K = int(input())\n",
    "sensor = list(map(int, input().split()))\n",
    "sensor.sort()\n",
    "\n",
    "array = []\n",
    "for i in range(0,N-1):\n",
    "    array.append(sensor[i+1] - sensor[i]) # 각 센서 간의 차이 만큼 리스트에 저장\n",
    "array.sort() # 거리가 서로 가까운 순으로 정렬\n",
    "\n",
    "print(sum(array[:N-K])) # 집중국 갯수만큼 제외하고 거리의 합을 구한다."
   ]
  },
  {
   "cell_type": "code",
   "execution_count": null,
   "id": "bf135f88",
   "metadata": {},
   "outputs": [],
   "source": []
  }
 ],
 "metadata": {
  "kernelspec": {
   "display_name": "Python 3 (ipykernel)",
   "language": "python",
   "name": "python3"
  },
  "language_info": {
   "codemirror_mode": {
    "name": "ipython",
    "version": 3
   },
   "file_extension": ".py",
   "mimetype": "text/x-python",
   "name": "python",
   "nbconvert_exporter": "python",
   "pygments_lexer": "ipython3",
   "version": "3.9.13"
  }
 },
 "nbformat": 4,
 "nbformat_minor": 5
}

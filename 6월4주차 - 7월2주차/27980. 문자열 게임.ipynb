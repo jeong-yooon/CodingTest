{
 "cells": [
  {
   "cell_type": "markdown",
   "id": "b0ebd157",
   "metadata": {},
   "source": [
    "## 문제\n",
    "건덕이는 문자가 일렬로 적혀있는 보드에서 게임을 하고 있다. 보드에는 \n",
    "$N$ 개의 알파벳 대문자가 나란히 적혀있다. 건덕이는 또 다른 \n",
    "$M$ 자리 영어 단어를 가지고 게임을 진행한다.\n",
    "\n",
    "우선 보드의 한 지점에서 첫 번째 문자가 보드의 문자와 일치하는지 확인한다. L(왼쪽) 또는 R(오른쪽) 방향으로 이동한 후에 다음 문자와 보드의 문자가 일치하는지 확인한다. 일치할 경우 점수를 1점 얻는다. 단, 이동한 후 보드 바깥으로 벗어날 수 없다. 건덕이가 가지고 있는 단어의 끝에 도달하면 게임을 종료한다.\n",
    "\n",
    "예를 들어, 보드에 \"KONKUK\" 이라는 문자가 적혀있고, \"KONDUCK\" 이라는 단어로 게임을 시작한다면, 2번째 문자부터 RRRRLL 순으로 이동한다면 마지막 1개의 문자만이 일치해 점수를 1점 얻는다. 최대 점수를 얻으려면, 1번째 문자부터 RRRRLR 순으로 이동하면 된다. 이 경우 \"KONU\"가 일치하여 점수를 4점 얻는다.\n",
    "\n",
    "보드와 가지고 있는 단어가 주어졌을 때, 건덕이가 얻을 수 있는 최대 점수를 구하는 프로그램을 작성해보자.\n",
    "\n",
    "### 입력\n",
    "첫째 줄에 보드의 길이와 건덕이가 가지고 있는 문자열의 길이를 나타내는 정수 \n",
    "$N, M$이 공백으로 구분되어 주어진다. \n",
    "$( 2 \\le N, M \\le 5\\,000 )$ \n",
    "\n",
    "둘째 줄에는 보드의 문자가 순서대로 주어진다.\n",
    "\n",
    "셋째 줄에는 가지고 있는 문자열이 주어진다.\n",
    "\n",
    "이 때, 두 문자열은 모두 알파벳 대문자로만 구성되어 있다.\n",
    "\n",
    "### 출력\n",
    "건덕이가 얻을 수 있는 최대 점수를 출력한다.\n",
    "\n",
    "### 예제 입력 1 \n",
    "6 7\\\n",
    "KONKUK\\\n",
    "KONDUCK\n",
    "\n",
    "### 예제 출력 1 \n",
    "4\n",
    "\n",
    "### 예제 입력 2 \n",
    "2 7\\\n",
    "AB\\\n",
    "AAAAAAA\n",
    "\n",
    "### 예제 출력 2 \n",
    "4\n",
    "\n",
    "### 예제 입력 3 \n",
    "3 10\\\n",
    "AAA\\\n",
    "HELLOWORLD\n",
    "\n",
    "### 예제 출력 3 \n",
    "0"
   ]
  },
  {
   "cell_type": "markdown",
   "id": "9a2a1a65",
   "metadata": {},
   "source": [
    "#### 알고리즘 분류\n",
    "- 다이나믹 프로그래밍\n",
    "- 문자열\n",
    "\n",
    "#### 풀이"
   ]
  },
  {
   "cell_type": "code",
   "execution_count": null,
   "id": "d514c6ec",
   "metadata": {},
   "outputs": [],
   "source": [
    "N, M = map(int, input().split())"
   ]
  }
 ],
 "metadata": {
  "kernelspec": {
   "display_name": "Python 3 (ipykernel)",
   "language": "python",
   "name": "python3"
  },
  "language_info": {
   "codemirror_mode": {
    "name": "ipython",
    "version": 3
   },
   "file_extension": ".py",
   "mimetype": "text/x-python",
   "name": "python",
   "nbconvert_exporter": "python",
   "pygments_lexer": "ipython3",
   "version": "3.9.13"
  }
 },
 "nbformat": 4,
 "nbformat_minor": 5
}

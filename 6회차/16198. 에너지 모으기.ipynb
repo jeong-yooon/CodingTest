{
 "cells": [
  {
   "cell_type": "markdown",
   "id": "bdc41f91",
   "metadata": {},
   "source": [
    "## 문제\n",
    "N개의 에너지 구슬이 일렬로 놓여져 있고, 에너지 구슬을 이용해서 에너지를 모으려고 한다.\n",
    "\n",
    "i번째 에너지 구슬의 무게는 Wi이고, 에너지를 모으는 방법은 다음과 같으며, 반복해서 사용할 수 있다.\n",
    "\n",
    "에너지 구슬 하나를 고른다. 고른 에너지 구슬의 번호를 x라고 한다. 단, 첫 번째와 마지막 에너지 구슬은 고를 수 없다.\n",
    "x번째 에너지 구슬을 제거한다.\n",
    "Wx-1 × Wx+1의 에너지를 모을 수 있다.\n",
    "N을 1 감소시키고, 에너지 구슬을 1번부터 N번까지로 다시 번호를 매긴다. 번호는 첫 구슬이 1번, 다음 구슬이 2번, ... 과 같이 매겨야 한다.\n",
    "N과 에너지 구슬의 무게가 주어졌을 때, 모을 수 있는 에너지 양의 최댓값을 구하는 프로그램을 작성하시오.\n",
    "\n",
    "### 입력\n",
    "첫째 줄에 에너지 구슬의 개수 N(3 ≤ N ≤ 10)이 주어진다.\n",
    "둘째 줄에는 에너지 구슬의 무게 W1, W2, ..., WN을 공백으로 구분해 주어진다. (1 ≤ Wi ≤ 1,000)\n",
    "\n",
    "### 출력\n",
    "첫째 줄에 모을 수 있는 에너지의 최댓값을 출력한다.\n",
    "\n",
    "### 예제 입력 1 \n",
    "4\\\n",
    "1 2 3 4\n",
    "\n",
    "### 예제 출력 1 \n",
    "12\n",
    "\n",
    "### 예제 입력 2 \n",
    "5\\\n",
    "100 2 1 3 100\n",
    "\n",
    "### 예제 출력 2 \n",
    "10400\n",
    "\n",
    "### 예제 입력 3 \n",
    "7\\\n",
    "2 2 7 6 90 5 9\n",
    "\n",
    "### 예제 출력 3 \n",
    "1818\n",
    "\n",
    "### 예제 입력 4 \n",
    "10\\\n",
    "1 1 1 1 1 1 1 1 1 1\n",
    "\n",
    "### 예제 출력 4 \n",
    "8"
   ]
  },
  {
   "cell_type": "markdown",
   "id": "1a3cfd14",
   "metadata": {},
   "source": [
    "#### 알고리즘 분류\n",
    "- 브루트포스 알고리즘\n",
    "- 백트래킹\n",
    "\n",
    "#### 풀이\n",
    "- 에너지 구슬 개수 = N\n",
    "- i번째 에너지 구슬의 무게 = Wi\n",
    "- 에너지 모으는 방법\n",
    "    - 처음과 마지막 구슬을 제외한 x번째 구슬을 골라 제거한다.\n",
    "    - (x-1번째 구슬) x (x+1번째 구슬)만큼 에너지 축적\n",
    "- 에너지 최댓값 구하기\n",
    "- 최댓값 주변의 구슬을 우선적으로 제거한다.\n",
    "- 구슬이 2개일 때까지 재귀적으로 탐색\n",
    "- i번째 구슬을 제거했을 때 나오는 에너지를 가지고 재귀적으로 탐색\n",
    "- 재귀적 탐색을 통해 에너지를 모을 수 있는 모든 경우의 수를 탐색한다."
   ]
  },
  {
   "cell_type": "code",
   "execution_count": 3,
   "id": "8f851445",
   "metadata": {},
   "outputs": [
    {
     "name": "stdout",
     "output_type": "stream",
     "text": [
      "4\n",
      "1 2 3 4\n",
      "12\n"
     ]
    }
   ],
   "source": [
    "def cal(x):\n",
    "    global answer\n",
    "\n",
    "    # 에너지를 모았다면 answer와 비교하여 초기화\n",
    "    if len(w) == 2:\n",
    "        answer = max(answer, x)\n",
    "        return\n",
    "\n",
    "    # 반복문을 통해 에너지 구슬을 확인\n",
    "    for i in range(1, len(w) - 1):\n",
    "        target = w[i - 1] * w[i + 1] # i번째 구슬을 제거했을 때 나오는 에너지\n",
    "\n",
    "        # 백트래킹\n",
    "        v = w.pop(i) # 에너지 구슬 제거\n",
    "        cal(x + target) # 제거된 구슬로 에너지를 재귀적으로 탐색\n",
    "        w.insert(i, v) # 제거한 에너지 구슬 추가\n",
    "\n",
    "\n",
    "N = int(input())\n",
    "w = list(map(int, input().split()))\n",
    "answer = 0\n",
    "cal(0)\n",
    "print(answer)"
   ]
  },
  {
   "cell_type": "code",
   "execution_count": null,
   "id": "72d39e63",
   "metadata": {},
   "outputs": [],
   "source": []
  }
 ],
 "metadata": {
  "kernelspec": {
   "display_name": "Python 3 (ipykernel)",
   "language": "python",
   "name": "python3"
  },
  "language_info": {
   "codemirror_mode": {
    "name": "ipython",
    "version": 3
   },
   "file_extension": ".py",
   "mimetype": "text/x-python",
   "name": "python",
   "nbconvert_exporter": "python",
   "pygments_lexer": "ipython3",
   "version": "3.9.13"
  }
 },
 "nbformat": 4,
 "nbformat_minor": 5
}

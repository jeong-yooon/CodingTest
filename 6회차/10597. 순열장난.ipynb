{
 "cells": [
  {
   "cell_type": "markdown",
   "id": "bdb79c1e",
   "metadata": {},
   "source": [
    "## 문제\n",
    "kriii는 1부터 N까지의 수로 이루어진 순열을 파일로 저장해 놓았다. 모든 수는 10진수로 이루어져 있고, 모두 공백으로 분리되어 있다.\n",
    "\n",
    "그런데 sujin이 그 파일의 모든 공백을 지워버렸다!\n",
    "\n",
    "kriii가 순열을 복구하도록 도와주자.\n",
    "\n",
    "### 입력\n",
    "첫 줄에 공백이 사라진 kriii의 수열이 주어진다.\n",
    "\n",
    "kriii의 순열은 최소 1개 최대 50개의 수로 이루어져 있다.\n",
    "\n",
    "### 출력\n",
    "복구된 수열을 출력한다. 공백을 잊으면 안 된다.\n",
    "\n",
    "복구한 수열의 경우가 여러 가지 일 경우, 그 중 하나를 출력한다.\n",
    "\n",
    "### 예제 입력 1 \n",
    "4111109876532\n",
    "\n",
    "### 예제 출력 1 \n",
    "4 1 11 10 9 8 7 6 5 3 2"
   ]
  },
  {
   "cell_type": "markdown",
   "id": "d1a146e7",
   "metadata": {},
   "source": [
    "#### 알고리즘 분류\n",
    "- 백트래킹\n",
    "\n",
    "#### 풀이\n",
    "- 순열이란 서로다른 n개의 수 중에서r개를 택하여 일렬로 배열하는 경우를 말한다.\n",
    "- 순열의 개수 = N\n",
    "\n",
    "- 한 자리수\n",
    "    - 0이 아니여야 한다.\n",
    "    - 리스트에 없어야 한다.\n",
    "- 두 자리수\n",
    "    - N보다 작거나 같아야 한다.\n",
    "    - 리스트에 없어야 한다.\n",
    "    - 10의 자리수가 0이 아니여야 한다."
   ]
  },
  {
   "cell_type": "code",
   "execution_count": null,
   "id": "52d73c4a",
   "metadata": {},
   "outputs": [],
   "source": []
  }
 ],
 "metadata": {
  "kernelspec": {
   "display_name": "Python 3 (ipykernel)",
   "language": "python",
   "name": "python3"
  },
  "language_info": {
   "codemirror_mode": {
    "name": "ipython",
    "version": 3
   },
   "file_extension": ".py",
   "mimetype": "text/x-python",
   "name": "python",
   "nbconvert_exporter": "python",
   "pygments_lexer": "ipython3",
   "version": "3.9.13"
  }
 },
 "nbformat": 4,
 "nbformat_minor": 5
}

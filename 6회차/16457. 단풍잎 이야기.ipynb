{
 "cells": [
  {
   "cell_type": "markdown",
   "id": "c4bb7910",
   "metadata": {},
   "source": [
    "## 문제\n",
    "리유나와 라가는 메이플스토리라는 노동을 즐겨 한다. 메이플스토리에서는 키셋팅을 할 수 있는데, 키셋팅을 하면 원하는 키를 눌러서 원하는 스킬을 쓰게 할 수 있다.\n",
    "\n",
    "리유나와 라가는 원래 좋은 친구였다. 리유나는 레벨이 225인데, 라가는 레벨이 202밖에 되지 않는다. 라가는 리유나를 질투해서 메이플 레벨을 따라잡으려고 했다. 그래서 리유나가 메이플을 하지 못하도록 키보드에 있는 키를 n개만 빼고 모두 망가뜨려버렸다!\n",
    "\n",
    "하지만 리유나는 메이플에 이미 인생을 팔아버렸기 때문에, 키가 망가져도 일간 퀘스트를 계속해야만 했다! 그래서 2n개의 스킬들 중에서 n개를 적절히 키에 배치해서 어떻게든 일간 퀘스트를 해야만 했다!\n",
    "\n",
    "일간 퀘스트는 다음과 같이 진행된다. m개의 퀘스트들이 주어진다. 각각의 퀘스트에서는 k개의 스킬을 사용해야 한다. 만약 스킬을 사용할 수 없다면 그 퀘스트는 수행할 수 없다고 본다.\n",
    "\n",
    "리유나는 n개의 키에 스킬들을 배치하려고 한다. 실제 게임에서는 키셋팅을 마음대로 할 수 있고, 키셋팅을 하지 않아도 더블 클릭으로 스킬을 사용할 수 있지만, 여기서는 키셋팅을 한번 설정하면 그 날은 키셋팅을 다시 바꿀 수 없고 더블 클릭으로 스킬을 사용할 수 없다고 가정하다. 이 때 어떤 스킬들을 배치해야 가장 많은 양의 일간 퀘스트를 깰 수 있는지 구하여자.\n",
    "\n",
    "### 입력\n",
    "첫째 줄에 키의 개수 n, 퀘스트의 개수 m, 퀘스트 당 사용해야 하는 스킬의 수 k가 주어진다. n은 10 이하, k는 n 이하의 양의 정수이며, m은 100 이하의 양의 정수이다.\n",
    "둘째 줄부터 m개의 줄에는 각각의 퀘스트에서 사용해야 하는 스킬들이 나온다. 스킬들의 이름은 1에서 2n까지의 정수로 주어진다.\n",
    "\n",
    "### 출력\n",
    "첫째 줄에 가장 최적의 키배치를 했을 때 최대로 깰 수 있는 퀘스트의 개수를 출력한다.\n",
    "\n",
    "### 예제 입력 1 \n",
    "3 4 2\\\n",
    "1 3\\\n",
    "1 2\\\n",
    "2 3\\\n",
    "3 6\n",
    "\n",
    "### 예제 출력 1 \n",
    "3\n",
    "\n",
    "3개의 키에 각각 1, 2, 3을 배치해면 '1 3'퀘스트와 '2 3'퀘스트, '1 2'퀘스트를 클리어 할 수 있기 때문에 최적의 배치이다. 따라서 최고로 클리어할 수 있는 퀘스트의 개수는 3개이다."
   ]
  },
  {
   "cell_type": "markdown",
   "id": "ae23b326",
   "metadata": {},
   "source": [
    "#### 알고리즘 분류\n",
    "- 브루트포스 알고리즘\n",
    "- 백트래킹\n",
    "\n",
    "#### 풀이\n",
    "- 리유나가 쓸 수 있는 키의 개수 = n\n",
    "- 스킬 개수 = 2n\n",
    "- 퀘스트 개수 = m\n",
    "- 퀘스트 만족을 위한 스킬 개수 = k\n",
    "- 주어진 퀘스트에서 사용해야 하는 스킬들 중 가장 많은 빈도로 나온 스킬들을 위주로 배치\n"
   ]
  },
  {
   "cell_type": "code",
   "execution_count": 1,
   "id": "42970d91",
   "metadata": {},
   "outputs": [
    {
     "name": "stdout",
     "output_type": "stream",
     "text": [
      "3 4 2\n",
      "1 3\n",
      "1 2\n",
      "2 3\n",
      "3 6\n",
      "3\n"
     ]
    }
   ],
   "source": [
    "def pick(prev, idx): # 2n 중 n 개를 재귀를 통해 중복 없이 뽑아 확인하는 함수(조합)\n",
    "    if idx == n: # n 개를 다 뽑았다면 몇개의 퀘스트 수행 가능한지 확인\n",
    "        tmp = set(batch)\n",
    "        cnt = 0\n",
    "        for sk in skills: # 모든 요구 스킬을 확인하며\n",
    "            for s in sk: # 하나라도 사용하지 못하는 스킬이 포함되면 넘어감\n",
    "                if s not in tmp:\n",
    "                    break\n",
    "            else: # 퀘스트 수행 가능시 +1\n",
    "                cnt += 1\n",
    "        global answer # 최댓값 갱신\n",
    "        if cnt > answer:\n",
    "            answer = cnt\n",
    "        return\n",
    "    \n",
    "    for i in range(prev+1, 2*n+1): # 정렬된 순서대로 재귀 확인\n",
    "        batch[idx] = i\n",
    "        pick(i, idx+1)\n",
    "        \n",
    "n, m, k = map(int, input().split())\n",
    "skills = [tuple(map(int, input().split())) for i in range(m)]\n",
    "batch = [0] * n\n",
    "answer = 0\n",
    "pick(0, 0)\n",
    "print(answer)"
   ]
  },
  {
   "cell_type": "code",
   "execution_count": null,
   "id": "1d7472e3",
   "metadata": {},
   "outputs": [],
   "source": []
  }
 ],
 "metadata": {
  "kernelspec": {
   "display_name": "Python 3 (ipykernel)",
   "language": "python",
   "name": "python3"
  },
  "language_info": {
   "codemirror_mode": {
    "name": "ipython",
    "version": 3
   },
   "file_extension": ".py",
   "mimetype": "text/x-python",
   "name": "python",
   "nbconvert_exporter": "python",
   "pygments_lexer": "ipython3",
   "version": "3.9.13"
  }
 },
 "nbformat": 4,
 "nbformat_minor": 5
}

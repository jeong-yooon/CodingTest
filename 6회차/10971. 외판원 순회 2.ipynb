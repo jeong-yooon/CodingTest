{
 "cells": [
  {
   "cell_type": "markdown",
   "id": "a1e1bb26",
   "metadata": {},
   "source": [
    "## 문제\n",
    "외판원 순회 문제는 영어로 Traveling Salesman problem (TSP) 라고 불리는 문제로 computer science 분야에서 가장 중요하게 취급되는 문제 중 하나이다. 여러 가지 변종 문제가 있으나, 여기서는 가장 일반적인 형태의 문제를 살펴보자.\n",
    "\n",
    "1번부터 N번까지 번호가 매겨져 있는 도시들이 있고, 도시들 사이에는 길이 있다. (길이 없을 수도 있다) 이제 한 외판원이 어느 한 도시에서 출발해 N개의 도시를 모두 거쳐 다시 원래의 도시로 돌아오는 순회 여행 경로를 계획하려고 한다. 단, 한 번 갔던 도시로는 다시 갈 수 없다. (맨 마지막에 여행을 출발했던 도시로 돌아오는 것은 예외) 이런 여행 경로는 여러 가지가 있을 수 있는데, 가장 적은 비용을 들이는 여행 계획을 세우고자 한다.\n",
    "\n",
    "각 도시간에 이동하는데 드는 비용은 행렬 W[i][j]형태로 주어진다. W[i][j]는 도시 i에서 도시 j로 가기 위한 비용을 나타낸다. 비용은 대칭적이지 않다. 즉, W[i][j] 는 W[j][i]와 다를 수 있다. 모든 도시간의 비용은 양의 정수이다. W[i][i]는 항상 0이다. 경우에 따라서 도시 i에서 도시 j로 갈 수 없는 경우도 있으며 이럴 경우 W[i][j]=0이라고 하자.\n",
    "\n",
    "N과 비용 행렬이 주어졌을 때, 가장 적은 비용을 들이는 외판원의 순회 여행 경로를 구하는 프로그램을 작성하시오.\n",
    "\n",
    "### 입력\n",
    "첫째 줄에 도시의 수 N이 주어진다. (2 ≤ N ≤ 10) 다음 N개의 줄에는 비용 행렬이 주어진다. 각 행렬의 성분은 1,000,000 이하의 양의 정수이며, 갈 수 없는 경우는 0이 주어진다. W[i][j]는 도시 i에서 j로 가기 위한 비용을 나타낸다.\n",
    "\n",
    "항상 순회할 수 있는 경우만 입력으로 주어진다.\n",
    "\n",
    "### 출력\n",
    "첫째 줄에 외판원의 순회에 필요한 최소 비용을 출력한다.\n",
    "\n",
    "### 예제 입력 1 \n",
    "4\\\n",
    "0 10 15 20\\\n",
    "5 0 9 10\\\n",
    "6 13 0 12\\\n",
    "8 8 9 0\n",
    "### 예제 출력 1 \n",
    "35"
   ]
  },
  {
   "cell_type": "markdown",
   "id": "a7194c82",
   "metadata": {},
   "source": [
    "#### 알고리즘 분류\n",
    "- 브루트포스 알고리즘\n",
    "- 백트래킹\n",
    "- 외판원 순회 문제\n",
    "\n",
    "#### 풀이\n",
    "- 도시 = 1~N\n",
    "- 도시 사이는 길로 이어져 있다. (길 없을 수도 있음)\n",
    "- 한 도시를 출발하여 맨 마지막에 다시 원래 도시로 돌아오는 순회 여행 경로 계획\n",
    "- 각 도시는 한번만 경유할 수 있다.\n",
    "- 최소 비용 여행 계획\n",
    "- W[i][j] = 도시 i에서 도시 j로 가는데 드는 비용 (비용 대칭 X)"
   ]
  },
  {
   "cell_type": "code",
   "execution_count": 1,
   "id": "3dcf65b4",
   "metadata": {},
   "outputs": [
    {
     "name": "stdout",
     "output_type": "stream",
     "text": [
      "4\n",
      "0 10 15 20\n",
      "5 0 9 10\n",
      "6 13 0 12\n",
      "8 8 9 0\n"
     ]
    }
   ],
   "source": [
    "N = int(input())\n",
    "arr = [list(map(int, input().split())) for _ in range(N)]\n",
    "\n",
    "visitied = [0] * N\n",
    "tmp = 100000\n",
    "\n",
    "add = 0\n",
    "\n",
    "def dfs(i, add, visited):\n",
    "    global tmp\n",
    "    if add > tmp:\n",
    "        return\n",
    "    if sum(visited) == N-1:\n",
    "        if maps[i][0]:\n",
    "            tmp = min(tmp, add+maps[i][0])\n",
    "        return\n",
    "    \n",
    "    for j in range(1, N):\n",
    "        if maps[i][j] and visited[j] == 0:\n",
    "            visited[j] = 1\n",
    "            dfs(j, add+maps[i][j], visited)\n",
    "            visited[j] = 0\n",
    "            \n",
    "for i in range(1, N):\n",
    "    if maps[0][i]:\n",
    "        visited[i] = 1\n",
    "        dfs(i, maps[0][i], visited)\n",
    "        visited[i] = 0\n",
    "        \n",
    "print(tmp)"
   ]
  },
  {
   "cell_type": "code",
   "execution_count": null,
   "id": "f517565a",
   "metadata": {},
   "outputs": [],
   "source": []
  }
 ],
 "metadata": {
  "kernelspec": {
   "display_name": "Python 3 (ipykernel)",
   "language": "python",
   "name": "python3"
  },
  "language_info": {
   "codemirror_mode": {
    "name": "ipython",
    "version": 3
   },
   "file_extension": ".py",
   "mimetype": "text/x-python",
   "name": "python",
   "nbconvert_exporter": "python",
   "pygments_lexer": "ipython3",
   "version": "3.9.13"
  }
 },
 "nbformat": 4,
 "nbformat_minor": 5
}

{
 "cells": [
  {
   "cell_type": "markdown",
   "id": "ac925920",
   "metadata": {},
   "source": [
    "## 문제 설명\n",
    "준호는 요즘 디펜스 게임에 푹 빠져 있습니다. 디펜스 게임은 준호가 보유한 병사 n명으로 연속되는 적의 공격을 순서대로 막는 게임입니다. 디펜스 게임은 다음과 같은 규칙으로 진행됩니다.\n",
    "\n",
    "준호는 처음에 병사 n명을 가지고 있습니다.\n",
    "매 라운드마다 enemy[i]마리의 적이 등장합니다.\n",
    "남은 병사 중 enemy[i]명 만큼 소모하여 enemy[i]마리의 적을 막을 수 있습니다.\n",
    "예를 들어 남은 병사가 7명이고, 적의 수가 2마리인 경우, 현재 라운드를 막으면 7 - 2 = 5명의 병사가 남습니다.\n",
    "남은 병사의 수보다 현재 라운드의 적의 수가 더 많으면 게임이 종료됩니다.\n",
    "게임에는 무적권이라는 스킬이 있으며, 무적권을 사용하면 병사의 소모없이 한 라운드의 공격을 막을 수 있습니다.\n",
    "무적권은 최대 k번 사용할 수 있습니다.\n",
    "준호는 무적권을 적절한 시기에 사용하여 최대한 많은 라운드를 진행하고 싶습니다.\n",
    "\n",
    "준호가 처음 가지고 있는 병사의 수 n, 사용 가능한 무적권의 횟수 k, 매 라운드마다 공격해오는 적의 수가 순서대로 담긴 정수 배열 enemy가 매개변수로 주어집니다. 준호가 몇 라운드까지 막을 수 있는지 return 하도록 solution 함수를 완성해주세요."
   ]
  },
  {
   "cell_type": "markdown",
   "id": "f67493c8",
   "metadata": {},
   "source": [
    "### 제한사항\n",
    "1 ≤ n ≤ 1,000,000,000\n",
    "1 ≤ k ≤ 500,000\n",
    "1 ≤ enemy의 길이 ≤ 1,000,000\n",
    "1 ≤ enemy[i] ≤ 1,000,000\n",
    "enemy[i]에는 i + 1 라운드에서 공격해오는 적의 수가 담겨있습니다.\n",
    "모든 라운드를 막을 수 있는 경우에는 enemy[i]의 길이를 return 해주세요."
   ]
  },
  {
   "attachments": {
    "image.png": {
     "image/png": "[encoded data removed]"
    }
   },
   "cell_type": "markdown",
   "id": "f035f2e0",
   "metadata": {},
   "source": [
    "![image.png](attachment:image.png)"
   ]
  },
  {
   "cell_type": "markdown",
   "id": "c9152863",
   "metadata": {},
   "source": [
    "### 입출력 예 설명\n",
    "#### 입출력 예#1\n",
    "\n",
    "1, 3, 5 라운드의 공격을 무적권으로 막아내고, 2, 4 라운드에 각각 병사를 2명, 5명 소모하면 5라운드까지 공격을 막을 수 있습니다. 또, 1, 3, 4번째 공격을 무적권으로 막아내고, 2, 5 번째 공격에 각각 병사를 2명, 3명 소모하여 5라운드까지 공격을 막을 수 있습니다. 그보다 많은 라운드를 막는 방법은 없으므로 5를 return 합니다.\n",
    "#### 입출력 예#2\n",
    "\n",
    "준호는 모든 공격에 무적권을 사용하여 4라운드까지 막을 수 있습니다."
   ]
  },
  {
   "cell_type": "code",
   "execution_count": null,
   "id": "abda5a8a",
   "metadata": {},
   "outputs": [],
   "source": []
  }
 ],
 "metadata": {
  "kernelspec": {
   "display_name": "Python 3 (ipykernel)",
   "language": "python",
   "name": "python3"
  },
  "language_info": {
   "codemirror_mode": {
    "name": "ipython",
    "version": 3
   },
   "file_extension": ".py",
   "mimetype": "text/x-python",
   "name": "python",
   "nbconvert_exporter": "python",
   "pygments_lexer": "ipython3",
   "version": "3.9.13"
  }
 },
 "nbformat": 4,
 "nbformat_minor": 5
}

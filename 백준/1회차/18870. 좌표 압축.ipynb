{
 "cells": [
  {
   "cell_type": "markdown",
   "id": "d1b38c55",
   "metadata": {},
   "source": [
    "## 문제\n",
    "수직선 위에 N개의 좌표 X1, X2, ..., XN이 있다. 이 좌표에 좌표 압축을 적용하려고 한다.\n",
    "\n",
    "Xi를 좌표 압축한 결과 X'i의 값은 Xi > Xj를 만족하는 서로 다른 좌표의 개수와 같아야 한다.\n",
    "\n",
    "X1, X2, ..., XN에 좌표 압축을 적용한 결과 X'1, X'2, ..., X'N를 출력해보자."
   ]
  },
  {
   "cell_type": "markdown",
   "id": "178bb2b4",
   "metadata": {},
   "source": [
    "### 입력\n",
    "첫째 줄에 N이 주어진다.\n",
    "\n",
    "둘째 줄에는 공백 한 칸으로 구분된 X1, X2, ..., XN이 주어진다.\n",
    "\n",
    "### 출력\n",
    "첫째 줄에 X'1, X'2, ..., X'N을 공백 한 칸으로 구분해서 출력한다."
   ]
  },
  {
   "cell_type": "markdown",
   "id": "c0369d48",
   "metadata": {},
   "source": [
    "### 제한\n",
    "1 ≤ N ≤ 1,000,000\n",
    "-109 ≤ Xi ≤ 109"
   ]
  },
  {
   "cell_type": "markdown",
   "id": "daa18510",
   "metadata": {},
   "source": [
    "#### 예제 입력 1 \n",
    "5\n",
    "2 4 -10 4 -9\n",
    "\n",
    "#### 예제 출력 1 \n",
    "2 3 0 3 1\n",
    "\n",
    "#### 예제 입력 2 \n",
    "6\n",
    "1000 999 1000 999 1000 999\n",
    "\n",
    "#### 예제 출력 2 \n",
    "1 0 1 0 1 0"
   ]
  },
  {
   "cell_type": "markdown",
   "id": "a88423ac",
   "metadata": {},
   "source": [
    "#### 🤔 좌표압축이 뭘까?\n",
    "좌표 압축 알고리즘이란?\n",
    "\n",
    ": 모든 구간이 아니라, 중요한 구간이나, 숫자만 들고있는 기법.\n",
    "\n",
    "→ 순위가 중요한 알고리즘에서 입력값의 개수 < 입력값의 범위일때 사용한다.\n",
    "\n",
    " \n",
    "\n",
    "값보다 값의 순위가 중요하기 때문에, 값을 임의의 값으로 변경하되 순위만 유지하여도 문제를 풀 수 있도록 만드는 것이다."
   ]
  },
  {
   "cell_type": "code",
   "execution_count": 14,
   "id": "e5d502a1",
   "metadata": {},
   "outputs": [
    {
     "name": "stdout",
     "output_type": "stream",
     "text": [
      "5\n",
      "2 4 -10 4 -9\n",
      "2 3 0 3 1 "
     ]
    }
   ],
   "source": [
    "N = int(input())\n",
    "arr = list(map(int, input().split()))\n",
    "n_arr = list()\n",
    "count = 0\n",
    "\n",
    "for i in range (0, N):\n",
    "    count = 0\n",
    "    for j in range (0, N):\n",
    "        if arr[i] > arr[j]:\n",
    "            count += 1\n",
    "    n_arr.append(count)\n",
    "    \n",
    "for n in n_arr:\n",
    "    print(n, end=' ')"
   ]
  },
  {
   "cell_type": "code",
   "execution_count": null,
   "id": "07f376fd",
   "metadata": {},
   "outputs": [],
   "source": []
  }
 ],
 "metadata": {
  "kernelspec": {
   "display_name": "Python 3 (ipykernel)",
   "language": "python",
   "name": "python3"
  },
  "language_info": {
   "codemirror_mode": {
    "name": "ipython",
    "version": 3
   },
   "file_extension": ".py",
   "mimetype": "text/x-python",
   "name": "python",
   "nbconvert_exporter": "python",
   "pygments_lexer": "ipython3",
   "version": "3.9.13"
  }
 },
 "nbformat": 4,
 "nbformat_minor": 5
}

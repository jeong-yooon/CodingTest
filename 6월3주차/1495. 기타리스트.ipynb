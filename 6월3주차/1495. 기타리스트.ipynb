{
 "cells": [
  {
   "cell_type": "markdown",
   "id": "cf3975f0",
   "metadata": {},
   "source": [
    "## 문제\n",
    "Day Of Mourning의 기타리스트 강토는 다가오는 공연에서 연주할 N개의 곡을 연주하고 있다. 지금까지 공연과는 다른 공연을 보여주기 위해서 이번 공연에서는 매번 곡이 시작하기 전에 볼륨을 바꾸고 연주하려고 한다.\n",
    "\n",
    "먼저, 공연이 시작하기 전에 각각의 곡이 시작하기 전에 바꿀 수 있는 볼륨의 리스트를 만들었다. 이 리스트를 V라고 했을 때, V[i]는 i번째 곡을 연주하기 전에 바꿀 수 있는 볼륨을 의미한다. 항상 리스트에 적힌 차이로만 볼륨을 바꿀 수 있다. 즉, 현재 볼륨이 P이고 지금 i번째 곡을 연주하기 전이라면, i번 곡은 P+V[i]나 P-V[i] 로 연주해야 한다. 하지만, 0보다 작은 값으로 볼륨을 바꾸거나, M보다 큰 값으로 볼륨을 바꿀 수 없다.\n",
    "\n",
    "곡의 개수 N과 시작 볼륨 S, 그리고 M이 주어졌을 때, 마지막 곡을 연주할 수 있는 볼륨 중 최댓값을 구하는 프로그램을 작성하시오. 모든 곡은 리스트에 적힌 순서대로 연주해야 한다.\n",
    "\n",
    "### 입력\n",
    "첫째 줄에 N, S, M이 주어진다. (1 ≤ N ≤ 50, 1 ≤ M ≤ 1,000, 0 ≤ S ≤ M) 둘째 줄에는 각 곡이 시작하기 전에 줄 수 있는 볼륨의 차이가 주어진다. 이 값은 1보다 크거나 같고, M보다 작거나 같다.\n",
    "\n",
    "### 출력\n",
    "첫째 줄에 가능한 마지막 곡의 볼륨 중 최댓값을 출력한다. 만약 마지막 곡을 연주할 수 없다면 (중간에 볼륨 조절을 할 수 없다면) -1을 출력한다.\n",
    "\n",
    "### 예제 입력 1 \n",
    "3 5 10\n",
    "5 3 7\n",
    "\n",
    "### 예제 출력 1 \n",
    "10\n",
    "\n",
    "### 예제 입력 2 \n",
    "4 8 20\\\n",
    "15 2 9 10\n",
    "\n",
    "### 예제 출력 2 \n",
    "-1\n",
    "\n",
    "### 예제 입력 3 \n",
    "14 40 243\\\n",
    "74 39 127 95 63 140 99 96 154 18 137 162 14 88\n",
    "\n",
    "### 예제 출력 3 \n",
    "238"
   ]
  },
  {
   "cell_type": "markdown",
   "id": "11fe7a11",
   "metadata": {},
   "source": [
    "#### 알고리즘 분류\n",
    "- 다이나믹 프로그래밍\n",
    "\n",
    "#### 풀이\n",
    "- N개곡 -> 매곡 볼륨 변경\n",
    "- V = 볼륨리스트\n",
    "- V[i] = i번째 곡을 연주하기 전에 바꿀 수 있는 볼륨\n",
    "- i번 곡은 P+V[i] or P-V[i] \n",
    "- 0보다 작은 값으로 볼륨을 바꾸거나, M보다 큰 값으로 볼륨을 바꿀 수 없다.\n",
    "- 곡의 개수 N, 시작 볼륨 S, 볼륨 최댓값 M"
   ]
  },
  {
   "cell_type": "code",
   "execution_count": 11,
   "id": "757a7b0c",
   "metadata": {},
   "outputs": [
    {
     "name": "stdout",
     "output_type": "stream",
     "text": [
      "14 40 243\n",
      "74 39 127 95 63 140 99 96 154 18 137 162 14 88\n",
      "238\n"
     ]
    }
   ],
   "source": [
    "N, S, M = map(int, input().split())\n",
    "V = list(map(int, input().split()))\n",
    "answer = -1\n",
    "\n",
    "# N행 M열 -> 각 볼륨에 대해서 가능한 모든 경우의 수를 구한다.\n",
    "dp = [[0] * (M+1) for _ in range(N+1)]\n",
    "dp[0][S] = 1 # 시작 값을 S로 설정\n",
    "\n",
    "for i in range(N): # 곡 갯수만큼 탐색 (행)\n",
    "    for j in range(M+1): # 최대 볼륨 내에서 탐색 (누적합이 M을 넘으면 안된다.)\n",
    "        if dp[i][j] == 1: # 현재 행에 1이 존재할 때\n",
    "            if j+V[i] <= M: # 누적합에 볼륨을 더했을 때 가능 여부\n",
    "                    dp[i+1][j+V[i]] = 1\n",
    "            if j-V[i] >= 0: # 누적합에 볼륨을 뺐을 때 가능 여부\n",
    "                dp[i+1][j-V[i]] = 1\n",
    "\n",
    "for i in range(M, -1, -1): # 최댓값을 구하기 위해 가장 큰 수인  M부터 감소시키며 탐색한다.\n",
    "    if dp[N][i]==1: # 조건을 만족하는 값이 있다면 정답값에 저장\n",
    "        answer = i\n",
    "        break\n",
    "print(answer)"
   ]
  },
  {
   "cell_type": "code",
   "execution_count": null,
   "id": "867d2997",
   "metadata": {},
   "outputs": [],
   "source": []
  }
 ],
 "metadata": {
  "kernelspec": {
   "display_name": "Python 3 (ipykernel)",
   "language": "python",
   "name": "python3"
  },
  "language_info": {
   "codemirror_mode": {
    "name": "ipython",
    "version": 3
   },
   "file_extension": ".py",
   "mimetype": "text/x-python",
   "name": "python",
   "nbconvert_exporter": "python",
   "pygments_lexer": "ipython3",
   "version": "3.9.13"
  }
 },
 "nbformat": 4,
 "nbformat_minor": 5
}

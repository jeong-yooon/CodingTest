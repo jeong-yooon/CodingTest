{
 "cells": [
  {
   "cell_type": "markdown",
   "id": "7b74dca9",
   "metadata": {},
   "source": [
    "## 문제\n",
    "현대모비스는 글로벌 자동차 부품 기업으로 자율주행, 커넥티비티, 전동화 분야에 역량을 집중해 스마트 모빌리티 시대를 선도하고 있는 기업입니다.\n",
    "\n",
    "현대모비스는 소프트웨어 생태계 조성을 위해 소프트웨어 아카데미를 운영하고 있으며, 내부적으로는 연구원들의 소프트웨어 직무교육 이수를 통해 우수인재를 육성하고, 대외적으로는 채용 연계형 프로그램을 운영하여 취업 준비생들에게 소프트웨어 전문 교육을 무상으로 제공하고, 더 나아가 우수 이수자들을 채용하고 있습니다.\n",
    "\n",
    "현대모비스에서 소프트웨어 아카데미 견학생을 모집한다고 한다. 이번 견학 활동은 모두 팀 단위로 진행되며 아래 두 조건을 모두 만족하는 팀만 소프트웨어 아카데미를 견학할 수 있다.\n",
    "\n",
    "- 팀원이 두 명이다.\n",
    "- 팀의 능력치가 M 이상이다. 팀의 능력치는 모든 팀원의 능력치를 합한 값이다.\n",
    "\n",
    "Sogang ICPC Team 학회원 N명이 견학을 희망한다. 학회장 동건이는 N명으로 최대한 많은 팀을 만들어 견학을 보내고 싶다. 동건이가 최대 몇 팀이나 견학 보낼 수 있을지 구해보자.\n",
    "\n",
    "### 입력\n",
    "첫째 줄에 견학을 희망하는 학회원의 수 N과 견학하는 팀의 최소 능력치를 나타내는 정수 M이 공백으로 구분되어 주어진다. (1 <= N <= 100000, 1 <= M <= 10^9)\n",
    "\n",
    "둘째 줄에 학회원 N명의 능력치를 나타내는 N개의 정수 a_1,a_2, ..., a_N이 공백으로 구분되어 주어진다. (1 <= a_i <= 10^9)\n",
    "\n",
    "### 출력\n",
    "첫째 줄에 동건이가 견학 보낼 수 있는 최대 팀 수를 출력한다.\n",
    "\n",
    "### 예제 입력 1 \n",
    "6 10\\\n",
    "3 5 7 3 5 6\n",
    "\n",
    "### 예제 출력 1 \n",
    "2\n",
    "\n",
    "### 예제 입력 2 \n",
    "1 10\\\n",
    "100\n",
    "\n",
    "### 예제 출력 2 \n",
    "0"
   ]
  },
  {
   "cell_type": "markdown",
   "id": "cbe7b2cb",
   "metadata": {},
   "source": [
    "#### 알고리즘 분류\n",
    "- 그리디 알고리즘\n",
    "- 정렬\n",
    "- 두 포인터\n",
    "\n",
    "#### 풀이\n",
    "- 견학을 원하는 인원 수 N\n",
    "- 팀 최소 능력치 M\n",
    "- 리스트 정렬하기\n",
    "- 투포인터를 활용하여 합하여 M보다 큰 값들을 추출"
   ]
  },
  {
   "cell_type": "code",
   "execution_count": 4,
   "id": "3f795642",
   "metadata": {},
   "outputs": [
    {
     "name": "stdout",
     "output_type": "stream",
     "text": [
      "1 10\n",
      "100\n",
      "0\n"
     ]
    }
   ],
   "source": [
    "N, M = map(int, input().split())\n",
    "arr = list(map(int, input().split()))\n",
    "arr.sort()\n",
    "left, right = 0, N-1\n",
    "count = 0\n",
    "\n",
    "for i in range(N//2):\n",
    "    if left >= right:\n",
    "        break\n",
    "    elif arr[left] + arr[right] >= M:\n",
    "        count += 1\n",
    "        left += 1\n",
    "        right -= 1\n",
    "    else:\n",
    "        left += 1\n",
    "print(count)"
   ]
  },
  {
   "cell_type": "code",
   "execution_count": null,
   "id": "71b1dc81",
   "metadata": {},
   "outputs": [],
   "source": []
  }
 ],
 "metadata": {
  "kernelspec": {
   "display_name": "Python 3 (ipykernel)",
   "language": "python",
   "name": "python3"
  },
  "language_info": {
   "codemirror_mode": {
    "name": "ipython",
    "version": 3
   },
   "file_extension": ".py",
   "mimetype": "text/x-python",
   "name": "python",
   "nbconvert_exporter": "python",
   "pygments_lexer": "ipython3",
   "version": "3.9.13"
  }
 },
 "nbformat": 4,
 "nbformat_minor": 5
}

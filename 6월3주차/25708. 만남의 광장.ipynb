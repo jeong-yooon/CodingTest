{
 "cells": [
  {
   "attachments": {
    "image-2.png": {
     "image/png": "[encoded data removed]"
    },
    "image-3.png": {
     "image/png": "[encoded data removed]"
    },
    "image.png": {
     "image/png": "[encoded data removed]"
    }
   },
   "cell_type": "markdown",
   "id": "cfa5de31",
   "metadata": {},
   "source": [
    "## 문제\n",
    "인하대학교의 마스코트인 인덕이가 사는 인경호는 인하대학교 학생이 아니여도 주변에 거주하는 사람들이 산책로로 이용할 수 있다. 인하대학교는 인경호에서 산책하는 사람들이 많은 것을 알고 이들을 위해 인경호 근처에 적당한 녹지를 골라 만남의 광장을 만들기로 하였다.\n",
    "\n",
    "![image.png](attachment:image.png)\n",
    "\n",
    "만남의 광장은 위 그림과 같이 N × M 크기의 녹지에 각각 다른 행을 골라 가로 방향으로 2개, 각각 다른 열을 골라 세로 방향으로 2개의 직선으로 뻗은 4개의 길을 놓아 만든다. 녹지의 i행 j열의 칸에는 가치 dij가 정해져있다.\n",
    "\n",
    "인하대학교는 녹지에 만남의 광장을 만들 때 광장의 아름다움을 최대화하려고 한다. 이때, 광장의 아름다움이란 4개의 길에 둘러싸인 직사각형 꼴 영역에 포함된 녹지인 칸의 개수에 길이 깔린 모든 칸의 가치를 더한 값이다. 광장의 아름다움은 0보다 작을 수 있다.\n",
    "\n",
    "만남의 광장을 만들기 위해 고른 녹지의 크기와 모든 칸 각각의 가치가 주어질 때, 만남의 광장의 아름다움을 최대화했을 때의 아름다움을 출력하여라.\n",
    "\n",
    "### 입력\n",
    "첫 번째 줄에 만남의 광장을 만들 녹지의 크기 N과 M이 공백으로 구분되어 주어진다.\n",
    "\n",
    "두 번째 줄부터 N개의 줄에 걸쳐 녹지의 각 칸에 길을 놓을 때 광장의 아름다움에 영향을 끼치는 정도 dij가 M개씩 공백으로 구분되어 주어진다.\n",
    "\n",
    "### 출력\n",
    "주어진 녹지에 만남의 광장을 만들 때 광장의 아름다움의 최댓값을 출력한다.\n",
    "\n",
    "### 제한\n",
    "2 ≤ N ≤ 100\\\n",
    "2 ≤ M ≤ 100\\\n",
    "-1,000 ≤ dij ≤ 1,000\n",
    "\n",
    "### 예제 입력 1 \n",
    "4 4\\\n",
    "8 2 1 4\\\n",
    "2 3 7 4\\\n",
    "4 1 2 3\\\n",
    "5 6 9 1\n",
    "\n",
    "### 예제 출력 1 \n",
    "58\n",
    "\n",
    "![image-2.png](attachment:image-2.png)\n",
    "위 그림과 같이 길을 설치하는 경우 광장의 아름다움은 58이 되며, 이 경우가 가능한 광장의 아름다움의 최댓값이다.\n",
    "\n",
    "### 예제 입력 2 \n",
    "3 6\\\n",
    "-9 -1 -3 13 -8 -14\\\n",
    "-6 -20 -15 0 14 4\\\n",
    "-6 7 18 13 14 4\n",
    "\n",
    "### 예제 출력 2 \n",
    "46\n",
    "\n",
    "![image-3.png](attachment:image-3.png)\n",
    "위 그림과 같이 길을 설치하는 경우 광장의 아름다움은 46이 되며, 이 경우가 가능한 광장의 아름다움의 최댓값이다. 이때 4개의 길에 둘러쌓인 녹지가 존재하지 않으므로 광장의 아름다움은 길이 깔린 녹지의 dij의 합과 같다.\n",
    "\n",
    "### 예제 입력 3 \n",
    "10 10\\\n",
    "1 1 1 1 1 1 1 1 1 1\\\n",
    "1 1 1 1 1 1 1 1 1 1\\\n",
    "1 1 1 1 1 1 1 1 1 1\\\n",
    "1 1 1 1 1 1 1 1 1 1\\\n",
    "1 1 1 1 1 1 1 1 1 1\\\n",
    "1 1 1 1 1 1 1 1 1 1\\\n",
    "1 1 1 1 1 1 1 1 1 1\\\n",
    "1 1 1 1 1 1 1 1 1 1\\\n",
    "1 1 1 1 1 1 1 1 1 1\\\n",
    "1 1 1 1 1 1 1 1 1 1\n",
    "\n",
    "### 예제 출력 3 \n",
    "100"
   ]
  },
  {
   "cell_type": "markdown",
   "id": "807f5200",
   "metadata": {},
   "source": [
    "#### 알고리즘 분류\n",
    "- 브루트포스 알고리즘\n",
    "- 누적 합\n",
    "\n",
    "#### 풀이\n",
    "- 광장의 아름다움 = 4개의 길에 둘러싸인 직사각형 꼴 영역에 포함된 녹지인 칸의 개수 + 길이 깔린 모든 칸의 가치 < 0 -> 가능\n",
    "- 길은 가치의 값의 합\n",
    "    - 세로길1 + 세로길2 + 가로길1 + 가로길2 - 세로1가로1중복 - 세로1가로2중복 - 세로2가로1중복 - 세로2바로2중복\n",
    "- 녹지는 개수의 합\n",
    "    - 최소1 ~ 최대9: 1 2 3 4 6 9\n",
    "    - 9: 길 사이 공간이 모두 존재할 때\n",
    "    - 6: 두 길이 붙어있고 두 길은 사이에 다 공간이 있을 때\n",
    "    - 4: 두 길이 붙어있고 두 길이 붙어 있을 때\n",
    "    - 3: 두 길이 붙어있고 두 길은 사이에 공간이 있지만 한쪽 벽에 붙어있을 때\n",
    "    - 2: 두 길이 붙어있고 한 쪽 벽에 붙어 있으며 한 길은 중앙에 놓여있을 때\n",
    "    - 1: 두든 길이 각각의 벽에 붙어 있을 때"
   ]
  },
  {
   "cell_type": "code",
   "execution_count": 3,
   "id": "739e344d",
   "metadata": {},
   "outputs": [
    {
     "name": "stdout",
     "output_type": "stream",
     "text": [
      "4 4\n",
      "8 2 1 4\n",
      "2 3 7 4\n",
      "4 1 2 3\n",
      "5 6 9 1\n"
     ]
    },
    {
     "data": {
      "text/plain": [
       "[[8, 2, 1, 4], [2, 3, 7, 4], [4, 1, 2, 3], [5, 6, 9, 1]]"
      ]
     },
     "execution_count": 3,
     "metadata": {},
     "output_type": "execute_result"
    }
   ],
   "source": [
    "N, M = map(int, input().split())\n",
    "arr = [list(map(int, input().split())) for _ in range(N)]\n",
    "dp = [[0 for _ in range(M + 1)] for _ in range(N + 1)] # 누적합을 담을 배열\n",
    "\n",
    "for i in range(1, N+1):\n",
    "    for j in range(1, C+1):\n",
    "        dp[i][j] = -dp[i-1][j-1] + dp[i-1][j] + dp[i][j-1] + pic[i-1][j-1]\n"
   ]
  },
  {
   "cell_type": "code",
   "execution_count": null,
   "id": "8aabb840",
   "metadata": {},
   "outputs": [],
   "source": []
  }
 ],
 "metadata": {
  "kernelspec": {
   "display_name": "Python 3 (ipykernel)",
   "language": "python",
   "name": "python3"
  },
  "language_info": {
   "codemirror_mode": {
    "name": "ipython",
    "version": 3
   },
   "file_extension": ".py",
   "mimetype": "text/x-python",
   "name": "python",
   "nbconvert_exporter": "python",
   "pygments_lexer": "ipython3",
   "version": "3.9.13"
  }
 },
 "nbformat": 4,
 "nbformat_minor": 5
}
